{
 "cells": [
  {
   "cell_type": "markdown",
   "metadata": {},
   "source": [
    "# Importing Libraries"
   ]
  },
  {
   "cell_type": "code",
   "execution_count": 1,
   "metadata": {},
   "outputs": [],
   "source": [
    "import numpy as np\n",
    "import pandas as pd\n",
    "import matplotlib.pyplot as plt\n",
    "import seaborn as sns"
   ]
  },
  {
   "cell_type": "markdown",
   "metadata": {},
   "source": [
    "# Importing Dataset"
   ]
  },
  {
   "cell_type": "code",
   "execution_count": 2,
   "metadata": {},
   "outputs": [
    {
     "data": {
      "text/html": [
       "<div>\n",
       "<style scoped>\n",
       "    .dataframe tbody tr th:only-of-type {\n",
       "        vertical-align: middle;\n",
       "    }\n",
       "\n",
       "    .dataframe tbody tr th {\n",
       "        vertical-align: top;\n",
       "    }\n",
       "\n",
       "    .dataframe thead th {\n",
       "        text-align: right;\n",
       "    }\n",
       "</style>\n",
       "<table border=\"1\" class=\"dataframe\">\n",
       "  <thead>\n",
       "    <tr style=\"text-align: right;\">\n",
       "      <th></th>\n",
       "      <th>Age</th>\n",
       "      <th>Gender</th>\n",
       "      <th>Income</th>\n",
       "      <th>Employment_Status</th>\n",
       "      <th>Location</th>\n",
       "      <th>Credit_Score</th>\n",
       "      <th>Debt_to_Income_Ratio</th>\n",
       "      <th>Existing_Loan_Balance</th>\n",
       "      <th>Loan_Status</th>\n",
       "      <th>Loan_Amount</th>\n",
       "      <th>Interest_Rate</th>\n",
       "      <th>Loan_Duration_Months</th>\n",
       "    </tr>\n",
       "  </thead>\n",
       "  <tbody>\n",
       "    <tr>\n",
       "      <th>0</th>\n",
       "      <td>56</td>\n",
       "      <td>Male</td>\n",
       "      <td>71266.105175</td>\n",
       "      <td>Employed</td>\n",
       "      <td>Suburban</td>\n",
       "      <td>639</td>\n",
       "      <td>0.007142</td>\n",
       "      <td>27060.188289</td>\n",
       "      <td>Non-Default</td>\n",
       "      <td>13068.330587</td>\n",
       "      <td>18.185533</td>\n",
       "      <td>59</td>\n",
       "    </tr>\n",
       "    <tr>\n",
       "      <th>1</th>\n",
       "      <td>46</td>\n",
       "      <td>NaN</td>\n",
       "      <td>37283.054601</td>\n",
       "      <td>Employed</td>\n",
       "      <td>Suburban</td>\n",
       "      <td>474</td>\n",
       "      <td>0.456731</td>\n",
       "      <td>40192.994312</td>\n",
       "      <td>Default</td>\n",
       "      <td>15159.338369</td>\n",
       "      <td>11.727471</td>\n",
       "      <td>69</td>\n",
       "    </tr>\n",
       "    <tr>\n",
       "      <th>2</th>\n",
       "      <td>32</td>\n",
       "      <td>Male</td>\n",
       "      <td>69567.036392</td>\n",
       "      <td>Employed</td>\n",
       "      <td>Urban</td>\n",
       "      <td>750</td>\n",
       "      <td>0.329231</td>\n",
       "      <td>25444.262759</td>\n",
       "      <td>Default</td>\n",
       "      <td>6131.287659</td>\n",
       "      <td>17.030462</td>\n",
       "      <td>69</td>\n",
       "    </tr>\n",
       "    <tr>\n",
       "      <th>3</th>\n",
       "      <td>60</td>\n",
       "      <td>Female</td>\n",
       "      <td>72016.087392</td>\n",
       "      <td>Employed</td>\n",
       "      <td>Rural</td>\n",
       "      <td>435</td>\n",
       "      <td>0.052482</td>\n",
       "      <td>3122.213749</td>\n",
       "      <td>Non-Default</td>\n",
       "      <td>37531.880251</td>\n",
       "      <td>16.868949</td>\n",
       "      <td>26</td>\n",
       "    </tr>\n",
       "    <tr>\n",
       "      <th>4</th>\n",
       "      <td>25</td>\n",
       "      <td>Female</td>\n",
       "      <td>32161.988250</td>\n",
       "      <td>Unemployed</td>\n",
       "      <td>Suburban</td>\n",
       "      <td>315</td>\n",
       "      <td>0.450236</td>\n",
       "      <td>19197.350445</td>\n",
       "      <td>Non-Default</td>\n",
       "      <td>41466.397989</td>\n",
       "      <td>18.891582</td>\n",
       "      <td>66</td>\n",
       "    </tr>\n",
       "  </tbody>\n",
       "</table>\n",
       "</div>"
      ],
      "text/plain": [
       "   Age  Gender        Income Employment_Status  Location  Credit_Score  \\\n",
       "0   56    Male  71266.105175          Employed  Suburban           639   \n",
       "1   46     NaN  37283.054601          Employed  Suburban           474   \n",
       "2   32    Male  69567.036392          Employed     Urban           750   \n",
       "3   60  Female  72016.087392          Employed     Rural           435   \n",
       "4   25  Female  32161.988250        Unemployed  Suburban           315   \n",
       "\n",
       "   Debt_to_Income_Ratio  Existing_Loan_Balance  Loan_Status   Loan_Amount  \\\n",
       "0              0.007142           27060.188289  Non-Default  13068.330587   \n",
       "1              0.456731           40192.994312      Default  15159.338369   \n",
       "2              0.329231           25444.262759      Default   6131.287659   \n",
       "3              0.052482            3122.213749  Non-Default  37531.880251   \n",
       "4              0.450236           19197.350445  Non-Default  41466.397989   \n",
       "\n",
       "   Interest_Rate  Loan_Duration_Months  \n",
       "0      18.185533                    59  \n",
       "1      11.727471                    69  \n",
       "2      17.030462                    69  \n",
       "3      16.868949                    26  \n",
       "4      18.891582                    66  "
      ]
     },
     "execution_count": 2,
     "metadata": {},
     "output_type": "execute_result"
    }
   ],
   "source": [
    "data = pd.read_csv('loan_default_prediction_project.csv')\n",
    "data.head()"
   ]
  },
  {
   "cell_type": "code",
   "execution_count": 3,
   "metadata": {},
   "outputs": [
    {
     "data": {
      "text/html": [
       "<div>\n",
       "<style scoped>\n",
       "    .dataframe tbody tr th:only-of-type {\n",
       "        vertical-align: middle;\n",
       "    }\n",
       "\n",
       "    .dataframe tbody tr th {\n",
       "        vertical-align: top;\n",
       "    }\n",
       "\n",
       "    .dataframe thead th {\n",
       "        text-align: right;\n",
       "    }\n",
       "</style>\n",
       "<table border=\"1\" class=\"dataframe\">\n",
       "  <thead>\n",
       "    <tr style=\"text-align: right;\">\n",
       "      <th></th>\n",
       "      <th>Age</th>\n",
       "      <th>Gender</th>\n",
       "      <th>Income</th>\n",
       "      <th>Employment_Status</th>\n",
       "      <th>Location</th>\n",
       "      <th>Credit_Score</th>\n",
       "      <th>Debt_to_Income_Ratio</th>\n",
       "      <th>Existing_Loan_Balance</th>\n",
       "      <th>Loan_Status</th>\n",
       "      <th>Loan_Amount</th>\n",
       "      <th>Interest_Rate</th>\n",
       "      <th>Loan_Duration_Months</th>\n",
       "    </tr>\n",
       "  </thead>\n",
       "  <tbody>\n",
       "    <tr>\n",
       "      <th>995</th>\n",
       "      <td>22</td>\n",
       "      <td>Female</td>\n",
       "      <td>98081.105862</td>\n",
       "      <td>Unemployed</td>\n",
       "      <td>Urban</td>\n",
       "      <td>727</td>\n",
       "      <td>0.961613</td>\n",
       "      <td>3586.586891</td>\n",
       "      <td>Non-Default</td>\n",
       "      <td>41473.241896</td>\n",
       "      <td>3.700707</td>\n",
       "      <td>23</td>\n",
       "    </tr>\n",
       "    <tr>\n",
       "      <th>996</th>\n",
       "      <td>40</td>\n",
       "      <td>Male</td>\n",
       "      <td>30044.017181</td>\n",
       "      <td>Employed</td>\n",
       "      <td>Rural</td>\n",
       "      <td>416</td>\n",
       "      <td>0.775082</td>\n",
       "      <td>32993.493341</td>\n",
       "      <td>Default</td>\n",
       "      <td>48942.588814</td>\n",
       "      <td>12.932559</td>\n",
       "      <td>62</td>\n",
       "    </tr>\n",
       "    <tr>\n",
       "      <th>997</th>\n",
       "      <td>27</td>\n",
       "      <td>Female</td>\n",
       "      <td>21355.813191</td>\n",
       "      <td>Unemployed</td>\n",
       "      <td>Rural</td>\n",
       "      <td>806</td>\n",
       "      <td>0.621937</td>\n",
       "      <td>21579.216456</td>\n",
       "      <td>Default</td>\n",
       "      <td>34010.252873</td>\n",
       "      <td>3.825633</td>\n",
       "      <td>55</td>\n",
       "    </tr>\n",
       "    <tr>\n",
       "      <th>998</th>\n",
       "      <td>61</td>\n",
       "      <td>Female</td>\n",
       "      <td>81612.656941</td>\n",
       "      <td>NaN</td>\n",
       "      <td>Rural</td>\n",
       "      <td>845</td>\n",
       "      <td>0.606793</td>\n",
       "      <td>38180.153354</td>\n",
       "      <td>Default</td>\n",
       "      <td>17504.010506</td>\n",
       "      <td>13.263354</td>\n",
       "      <td>27</td>\n",
       "    </tr>\n",
       "    <tr>\n",
       "      <th>999</th>\n",
       "      <td>19</td>\n",
       "      <td>Male</td>\n",
       "      <td>84572.442989</td>\n",
       "      <td>Unemployed</td>\n",
       "      <td>Suburban</td>\n",
       "      <td>624</td>\n",
       "      <td>0.849470</td>\n",
       "      <td>49629.885929</td>\n",
       "      <td>Non-Default</td>\n",
       "      <td>49850.267385</td>\n",
       "      <td>16.606985</td>\n",
       "      <td>49</td>\n",
       "    </tr>\n",
       "  </tbody>\n",
       "</table>\n",
       "</div>"
      ],
      "text/plain": [
       "     Age  Gender        Income Employment_Status  Location  Credit_Score  \\\n",
       "995   22  Female  98081.105862        Unemployed     Urban           727   \n",
       "996   40    Male  30044.017181          Employed     Rural           416   \n",
       "997   27  Female  21355.813191        Unemployed     Rural           806   \n",
       "998   61  Female  81612.656941               NaN     Rural           845   \n",
       "999   19    Male  84572.442989        Unemployed  Suburban           624   \n",
       "\n",
       "     Debt_to_Income_Ratio  Existing_Loan_Balance  Loan_Status   Loan_Amount  \\\n",
       "995              0.961613            3586.586891  Non-Default  41473.241896   \n",
       "996              0.775082           32993.493341      Default  48942.588814   \n",
       "997              0.621937           21579.216456      Default  34010.252873   \n",
       "998              0.606793           38180.153354      Default  17504.010506   \n",
       "999              0.849470           49629.885929  Non-Default  49850.267385   \n",
       "\n",
       "     Interest_Rate  Loan_Duration_Months  \n",
       "995       3.700707                    23  \n",
       "996      12.932559                    62  \n",
       "997       3.825633                    55  \n",
       "998      13.263354                    27  \n",
       "999      16.606985                    49  "
      ]
     },
     "execution_count": 3,
     "metadata": {},
     "output_type": "execute_result"
    }
   ],
   "source": [
    "data.tail()"
   ]
  },
  {
   "cell_type": "code",
   "execution_count": 4,
   "metadata": {},
   "outputs": [
    {
     "name": "stdout",
     "output_type": "stream",
     "text": [
      "<class 'pandas.core.frame.DataFrame'>\n",
      "RangeIndex: 1000 entries, 0 to 999\n",
      "Data columns (total 12 columns):\n",
      " #   Column                 Non-Null Count  Dtype  \n",
      "---  ------                 --------------  -----  \n",
      " 0   Age                    1000 non-null   int64  \n",
      " 1   Gender                 792 non-null    object \n",
      " 2   Income                 1000 non-null   float64\n",
      " 3   Employment_Status      906 non-null    object \n",
      " 4   Location               1000 non-null   object \n",
      " 5   Credit_Score           1000 non-null   int64  \n",
      " 6   Debt_to_Income_Ratio   1000 non-null   float64\n",
      " 7   Existing_Loan_Balance  1000 non-null   float64\n",
      " 8   Loan_Status            1000 non-null   object \n",
      " 9   Loan_Amount            1000 non-null   float64\n",
      " 10  Interest_Rate          1000 non-null   float64\n",
      " 11  Loan_Duration_Months   1000 non-null   int64  \n",
      "dtypes: float64(5), int64(3), object(4)\n",
      "memory usage: 93.9+ KB\n"
     ]
    }
   ],
   "source": [
    "data.info()"
   ]
  },
  {
   "cell_type": "code",
   "execution_count": 5,
   "metadata": {},
   "outputs": [
    {
     "data": {
      "text/plain": [
       "(1000, 12)"
      ]
     },
     "execution_count": 5,
     "metadata": {},
     "output_type": "execute_result"
    }
   ],
   "source": [
    "data.shape"
   ]
  },
  {
   "cell_type": "code",
   "execution_count": 6,
   "metadata": {},
   "outputs": [
    {
     "data": {
      "text/plain": [
       "Age                        int64\n",
       "Gender                    object\n",
       "Income                   float64\n",
       "Employment_Status         object\n",
       "Location                  object\n",
       "Credit_Score               int64\n",
       "Debt_to_Income_Ratio     float64\n",
       "Existing_Loan_Balance    float64\n",
       "Loan_Status               object\n",
       "Loan_Amount              float64\n",
       "Interest_Rate            float64\n",
       "Loan_Duration_Months       int64\n",
       "dtype: object"
      ]
     },
     "execution_count": 6,
     "metadata": {},
     "output_type": "execute_result"
    }
   ],
   "source": [
    "data.dtypes"
   ]
  },
  {
   "cell_type": "markdown",
   "metadata": {},
   "source": [
    "# Statistical Analysis"
   ]
  },
  {
   "cell_type": "code",
   "execution_count": 7,
   "metadata": {},
   "outputs": [
    {
     "data": {
      "text/html": [
       "<div>\n",
       "<style scoped>\n",
       "    .dataframe tbody tr th:only-of-type {\n",
       "        vertical-align: middle;\n",
       "    }\n",
       "\n",
       "    .dataframe tbody tr th {\n",
       "        vertical-align: top;\n",
       "    }\n",
       "\n",
       "    .dataframe thead th {\n",
       "        text-align: right;\n",
       "    }\n",
       "</style>\n",
       "<table border=\"1\" class=\"dataframe\">\n",
       "  <thead>\n",
       "    <tr style=\"text-align: right;\">\n",
       "      <th></th>\n",
       "      <th>Age</th>\n",
       "      <th>Income</th>\n",
       "      <th>Credit_Score</th>\n",
       "      <th>Debt_to_Income_Ratio</th>\n",
       "      <th>Existing_Loan_Balance</th>\n",
       "      <th>Loan_Amount</th>\n",
       "      <th>Interest_Rate</th>\n",
       "      <th>Loan_Duration_Months</th>\n",
       "    </tr>\n",
       "  </thead>\n",
       "  <tbody>\n",
       "    <tr>\n",
       "      <th>count</th>\n",
       "      <td>1000.000000</td>\n",
       "      <td>1000.000000</td>\n",
       "      <td>1000.000000</td>\n",
       "      <td>1000.000000</td>\n",
       "      <td>1000.000000</td>\n",
       "      <td>1000.000000</td>\n",
       "      <td>1000.000000</td>\n",
       "      <td>1000.000000</td>\n",
       "    </tr>\n",
       "    <tr>\n",
       "      <th>mean</th>\n",
       "      <td>40.986000</td>\n",
       "      <td>60705.291386</td>\n",
       "      <td>571.094000</td>\n",
       "      <td>0.485502</td>\n",
       "      <td>25239.656186</td>\n",
       "      <td>27636.369345</td>\n",
       "      <td>11.538267</td>\n",
       "      <td>42.221000</td>\n",
       "    </tr>\n",
       "    <tr>\n",
       "      <th>std</th>\n",
       "      <td>13.497852</td>\n",
       "      <td>24594.030383</td>\n",
       "      <td>163.395983</td>\n",
       "      <td>0.296466</td>\n",
       "      <td>14202.689890</td>\n",
       "      <td>12925.200961</td>\n",
       "      <td>4.883342</td>\n",
       "      <td>17.116867</td>\n",
       "    </tr>\n",
       "    <tr>\n",
       "      <th>min</th>\n",
       "      <td>18.000000</td>\n",
       "      <td>20010.775440</td>\n",
       "      <td>250.000000</td>\n",
       "      <td>0.000628</td>\n",
       "      <td>80.059377</td>\n",
       "      <td>5060.998602</td>\n",
       "      <td>3.003148</td>\n",
       "      <td>12.000000</td>\n",
       "    </tr>\n",
       "    <tr>\n",
       "      <th>25%</th>\n",
       "      <td>29.000000</td>\n",
       "      <td>40820.367273</td>\n",
       "      <td>429.000000</td>\n",
       "      <td>0.220606</td>\n",
       "      <td>13597.494593</td>\n",
       "      <td>16756.405848</td>\n",
       "      <td>7.483547</td>\n",
       "      <td>27.000000</td>\n",
       "    </tr>\n",
       "    <tr>\n",
       "      <th>50%</th>\n",
       "      <td>42.000000</td>\n",
       "      <td>60547.119929</td>\n",
       "      <td>567.000000</td>\n",
       "      <td>0.483633</td>\n",
       "      <td>25439.429898</td>\n",
       "      <td>27938.066858</td>\n",
       "      <td>11.537942</td>\n",
       "      <td>42.000000</td>\n",
       "    </tr>\n",
       "    <tr>\n",
       "      <th>75%</th>\n",
       "      <td>52.000000</td>\n",
       "      <td>80338.552791</td>\n",
       "      <td>720.250000</td>\n",
       "      <td>0.735476</td>\n",
       "      <td>37305.466739</td>\n",
       "      <td>39151.564233</td>\n",
       "      <td>15.499129</td>\n",
       "      <td>57.000000</td>\n",
       "    </tr>\n",
       "    <tr>\n",
       "      <th>max</th>\n",
       "      <td>64.000000</td>\n",
       "      <td>150000.000000</td>\n",
       "      <td>849.000000</td>\n",
       "      <td>0.999849</td>\n",
       "      <td>49987.578171</td>\n",
       "      <td>49986.843702</td>\n",
       "      <td>19.991438</td>\n",
       "      <td>71.000000</td>\n",
       "    </tr>\n",
       "  </tbody>\n",
       "</table>\n",
       "</div>"
      ],
      "text/plain": [
       "               Age         Income  Credit_Score  Debt_to_Income_Ratio  \\\n",
       "count  1000.000000    1000.000000   1000.000000           1000.000000   \n",
       "mean     40.986000   60705.291386    571.094000              0.485502   \n",
       "std      13.497852   24594.030383    163.395983              0.296466   \n",
       "min      18.000000   20010.775440    250.000000              0.000628   \n",
       "25%      29.000000   40820.367273    429.000000              0.220606   \n",
       "50%      42.000000   60547.119929    567.000000              0.483633   \n",
       "75%      52.000000   80338.552791    720.250000              0.735476   \n",
       "max      64.000000  150000.000000    849.000000              0.999849   \n",
       "\n",
       "       Existing_Loan_Balance   Loan_Amount  Interest_Rate  \\\n",
       "count            1000.000000   1000.000000    1000.000000   \n",
       "mean            25239.656186  27636.369345      11.538267   \n",
       "std             14202.689890  12925.200961       4.883342   \n",
       "min                80.059377   5060.998602       3.003148   \n",
       "25%             13597.494593  16756.405848       7.483547   \n",
       "50%             25439.429898  27938.066858      11.537942   \n",
       "75%             37305.466739  39151.564233      15.499129   \n",
       "max             49987.578171  49986.843702      19.991438   \n",
       "\n",
       "       Loan_Duration_Months  \n",
       "count           1000.000000  \n",
       "mean              42.221000  \n",
       "std               17.116867  \n",
       "min               12.000000  \n",
       "25%               27.000000  \n",
       "50%               42.000000  \n",
       "75%               57.000000  \n",
       "max               71.000000  "
      ]
     },
     "execution_count": 7,
     "metadata": {},
     "output_type": "execute_result"
    }
   ],
   "source": [
    "data.describe()"
   ]
  },
  {
   "cell_type": "markdown",
   "metadata": {},
   "source": [
    "# rounding the data values to two deciaml"
   ]
  },
  {
   "cell_type": "code",
   "execution_count": 8,
   "metadata": {},
   "outputs": [
    {
     "name": "stdout",
     "output_type": "stream",
     "text": [
      "   Age        Income  Credit_Score  Debt_to_Income_Ratio  \\\n",
      "0   56  71266.105175           639              0.007142   \n",
      "1   46  37283.054601           474              0.456731   \n",
      "2   32  69567.036392           750              0.329231   \n",
      "3   60  72016.087392           435              0.052482   \n",
      "4   25  32161.988250           315              0.450236   \n",
      "\n",
      "   Existing_Loan_Balance   Loan_Amount  Interest_Rate  Loan_Duration_Months  \n",
      "0           27060.188289  13068.330587      18.185533                    59  \n",
      "1           40192.994312  15159.338369      11.727471                    69  \n",
      "2           25444.262759   6131.287659      17.030462                    69  \n",
      "3            3122.213749  37531.880251      16.868949                    26  \n",
      "4           19197.350445  41466.397989      18.891582                    66  \n",
      "----------------------------------------------------------------\n",
      "After rounding the data:\n",
      "   Age    Income  Credit_Score  Debt_to_Income_Ratio  Existing_Loan_Balance  \\\n",
      "0   56  71266.11           639                 0.007               27060.19   \n",
      "1   46  37283.05           474                 0.457               40192.99   \n",
      "2   32  69567.04           750                 0.329               25444.26   \n",
      "3   60  72016.09           435                 0.052                3122.21   \n",
      "4   25  32161.99           315                 0.450               19197.35   \n",
      "\n",
      "   Loan_Amount  Interest_Rate  Loan_Duration_Months  \n",
      "0     13068.33           18.2                    59  \n",
      "1     15159.34           11.7                    69  \n",
      "2      6131.29           17.0                    69  \n",
      "3     37531.88           16.9                    26  \n",
      "4     41466.40           18.9                    66  \n"
     ]
    }
   ],
   "source": [
    "numerical_column = data.select_dtypes(include=['int64','float64'])\n",
    "print(numerical_column.head())\n",
    "\n",
    "# rounding data\n",
    "numerical_column['Income'] = round(numerical_column['Income'],2)\n",
    "numerical_column['Debt_to_Income_Ratio'] = round(numerical_column['Debt_to_Income_Ratio'],3)\n",
    "numerical_column['Existing_Loan_Balance'] = round(numerical_column['Existing_Loan_Balance'],2)\n",
    "numerical_column['Loan_Amount'] = round(numerical_column['Loan_Amount'],2)\n",
    "numerical_column['Interest_Rate'] = round(numerical_column['Interest_Rate'],1)\n",
    "\n",
    "print(\"----------------------------------------------------------------\")\n",
    "print(\"After rounding the data:\")\n",
    "print(numerical_column.head())"
   ]
  },
  {
   "cell_type": "code",
   "execution_count": 9,
   "metadata": {},
   "outputs": [
    {
     "data": {
      "text/html": [
       "<div>\n",
       "<style scoped>\n",
       "    .dataframe tbody tr th:only-of-type {\n",
       "        vertical-align: middle;\n",
       "    }\n",
       "\n",
       "    .dataframe tbody tr th {\n",
       "        vertical-align: top;\n",
       "    }\n",
       "\n",
       "    .dataframe thead th {\n",
       "        text-align: right;\n",
       "    }\n",
       "</style>\n",
       "<table border=\"1\" class=\"dataframe\">\n",
       "  <thead>\n",
       "    <tr style=\"text-align: right;\">\n",
       "      <th></th>\n",
       "      <th>Age</th>\n",
       "      <th>Gender</th>\n",
       "      <th>Income</th>\n",
       "      <th>Employment_Status</th>\n",
       "      <th>Location</th>\n",
       "      <th>Credit_Score</th>\n",
       "      <th>Debt_to_Income_Ratio</th>\n",
       "      <th>Existing_Loan_Balance</th>\n",
       "      <th>Loan_Status</th>\n",
       "      <th>Loan_Amount</th>\n",
       "      <th>Interest_Rate</th>\n",
       "      <th>Loan_Duration_Months</th>\n",
       "    </tr>\n",
       "  </thead>\n",
       "  <tbody>\n",
       "    <tr>\n",
       "      <th>0</th>\n",
       "      <td>56</td>\n",
       "      <td>Male</td>\n",
       "      <td>71266.11</td>\n",
       "      <td>Employed</td>\n",
       "      <td>Suburban</td>\n",
       "      <td>639</td>\n",
       "      <td>0.007</td>\n",
       "      <td>27060.19</td>\n",
       "      <td>Non-Default</td>\n",
       "      <td>13068.33</td>\n",
       "      <td>18.2</td>\n",
       "      <td>59</td>\n",
       "    </tr>\n",
       "    <tr>\n",
       "      <th>1</th>\n",
       "      <td>46</td>\n",
       "      <td>NaN</td>\n",
       "      <td>37283.05</td>\n",
       "      <td>Employed</td>\n",
       "      <td>Suburban</td>\n",
       "      <td>474</td>\n",
       "      <td>0.457</td>\n",
       "      <td>40192.99</td>\n",
       "      <td>Default</td>\n",
       "      <td>15159.34</td>\n",
       "      <td>11.7</td>\n",
       "      <td>69</td>\n",
       "    </tr>\n",
       "    <tr>\n",
       "      <th>2</th>\n",
       "      <td>32</td>\n",
       "      <td>Male</td>\n",
       "      <td>69567.04</td>\n",
       "      <td>Employed</td>\n",
       "      <td>Urban</td>\n",
       "      <td>750</td>\n",
       "      <td>0.329</td>\n",
       "      <td>25444.26</td>\n",
       "      <td>Default</td>\n",
       "      <td>6131.29</td>\n",
       "      <td>17.0</td>\n",
       "      <td>69</td>\n",
       "    </tr>\n",
       "    <tr>\n",
       "      <th>3</th>\n",
       "      <td>60</td>\n",
       "      <td>Female</td>\n",
       "      <td>72016.09</td>\n",
       "      <td>Employed</td>\n",
       "      <td>Rural</td>\n",
       "      <td>435</td>\n",
       "      <td>0.052</td>\n",
       "      <td>3122.21</td>\n",
       "      <td>Non-Default</td>\n",
       "      <td>37531.88</td>\n",
       "      <td>16.9</td>\n",
       "      <td>26</td>\n",
       "    </tr>\n",
       "    <tr>\n",
       "      <th>4</th>\n",
       "      <td>25</td>\n",
       "      <td>Female</td>\n",
       "      <td>32161.99</td>\n",
       "      <td>Unemployed</td>\n",
       "      <td>Suburban</td>\n",
       "      <td>315</td>\n",
       "      <td>0.450</td>\n",
       "      <td>19197.35</td>\n",
       "      <td>Non-Default</td>\n",
       "      <td>41466.40</td>\n",
       "      <td>18.9</td>\n",
       "      <td>66</td>\n",
       "    </tr>\n",
       "  </tbody>\n",
       "</table>\n",
       "</div>"
      ],
      "text/plain": [
       "   Age  Gender    Income Employment_Status  Location  Credit_Score  \\\n",
       "0   56    Male  71266.11          Employed  Suburban           639   \n",
       "1   46     NaN  37283.05          Employed  Suburban           474   \n",
       "2   32    Male  69567.04          Employed     Urban           750   \n",
       "3   60  Female  72016.09          Employed     Rural           435   \n",
       "4   25  Female  32161.99        Unemployed  Suburban           315   \n",
       "\n",
       "   Debt_to_Income_Ratio  Existing_Loan_Balance  Loan_Status  Loan_Amount  \\\n",
       "0                 0.007               27060.19  Non-Default     13068.33   \n",
       "1                 0.457               40192.99      Default     15159.34   \n",
       "2                 0.329               25444.26      Default      6131.29   \n",
       "3                 0.052                3122.21  Non-Default     37531.88   \n",
       "4                 0.450               19197.35  Non-Default     41466.40   \n",
       "\n",
       "   Interest_Rate  Loan_Duration_Months  \n",
       "0           18.2                    59  \n",
       "1           11.7                    69  \n",
       "2           17.0                    69  \n",
       "3           16.9                    26  \n",
       "4           18.9                    66  "
      ]
     },
     "execution_count": 9,
     "metadata": {},
     "output_type": "execute_result"
    }
   ],
   "source": [
    "data['Income'] = numerical_column['Income']\n",
    "data['Debt_to_Income_Ratio'] = numerical_column['Debt_to_Income_Ratio']\n",
    "data['Existing_Loan_Balance'] = numerical_column['Existing_Loan_Balance']\n",
    "data['Loan_Amount'] = numerical_column['Loan_Amount']\n",
    "data['Interest_Rate'] = numerical_column['Interest_Rate']\n",
    "#printing\n",
    "data.head()"
   ]
  },
  {
   "cell_type": "markdown",
   "metadata": {},
   "source": [
    "# Univariate Analysis"
   ]
  },
  {
   "cell_type": "code",
   "execution_count": 10,
   "metadata": {},
   "outputs": [
    {
     "data": {
      "text/plain": [
       "Text(0, 0.5, 'Frequency')"
      ]
     },
     "execution_count": 10,
     "metadata": {},
     "output_type": "execute_result"
    },
    {
     "data": {
      "image/png": "[encoded data removed]",
      "text/plain": [
       "<Figure size 640x480 with 1 Axes>"
      ]
     },
     "metadata": {},
     "output_type": "display_data"
    }
   ],
   "source": [
    "plt.hist(data['Credit_Score'],color='Green')\n",
    "plt.title('Credit Score Distribution')\n",
    "plt.xlabel('Credit Score')\n",
    "plt.ylabel('Frequency')"
   ]
  },
  {
   "cell_type": "code",
   "execution_count": 11,
   "metadata": {},
   "outputs": [
    {
     "data": {
      "text/plain": [
       "Text(0.5, 1.0, 'ratio of Loan Status')"
      ]
     },
     "execution_count": 11,
     "metadata": {},
     "output_type": "execute_result"
    },
    {
     "data": {
      "image/png": "[encoded data removed]",
      "text/plain": [
       "<Figure size 640x480 with 1 Axes>"
      ]
     },
     "metadata": {},
     "output_type": "display_data"
    }
   ],
   "source": [
    "info = data['Loan_Status'].unique()\n",
    "values = data['Loan_Status'].value_counts()\n",
    "values\n",
    "plt.pie(values,labels=info,autopct='%0.1f')\n",
    "plt.title('ratio of Loan Status')"
   ]
  },
  {
   "cell_type": "code",
   "execution_count": 12,
   "metadata": {},
   "outputs": [
    {
     "data": {
      "text/plain": [
       "Text(0, 0.5, 'Frequency')"
      ]
     },
     "execution_count": 12,
     "metadata": {},
     "output_type": "execute_result"
    },
    {
     "data": {
      "image/png": "[encoded data removed]",
      "text/plain": [
       "<Figure size 640x480 with 1 Axes>"
      ]
     },
     "metadata": {},
     "output_type": "display_data"
    }
   ],
   "source": [
    "plt.hist(data['Income'],color='green')\n",
    "plt.title('Income Distribution')\n",
    "plt.xlabel('Income')\n",
    "plt.ylabel('Frequency')"
   ]
  },
  {
   "cell_type": "code",
   "execution_count": 13,
   "metadata": {},
   "outputs": [
    {
     "data": {
      "text/plain": [
       "Text(0.5, 1.0, 'Location Distribution')"
      ]
     },
     "execution_count": 13,
     "metadata": {},
     "output_type": "execute_result"
    },
    {
     "data": {
      "image/png": "[encoded data removed]",
      "text/plain": [
       "<Figure size 640x480 with 1 Axes>"
      ]
     },
     "metadata": {},
     "output_type": "display_data"
    }
   ],
   "source": [
    "value = data['Location'].value_counts()\n",
    "label = data['Location'].unique()\n",
    "\n",
    "plt.pie(value,labels = label,autopct=\"%.2f\")\n",
    "plt.title('Location Distribution')"
   ]
  },
  {
   "cell_type": "markdown",
   "metadata": {},
   "source": [
    "# Bivariate Analysis"
   ]
  },
  {
   "cell_type": "code",
   "execution_count": 14,
   "metadata": {},
   "outputs": [
    {
     "data": {
      "text/plain": [
       "<matplotlib.collections.PathCollection at 0x30a45cf70>"
      ]
     },
     "execution_count": 14,
     "metadata": {},
     "output_type": "execute_result"
    },
    {
     "data": {
      "image/png": "[encoded data removed]",
      "text/plain": [
       "<Figure size 640x480 with 1 Axes>"
      ]
     },
     "metadata": {},
     "output_type": "display_data"
    }
   ],
   "source": [
    "plt.scatter(data['Loan_Status'],data['Location'], marker='X')"
   ]
  },
  {
   "cell_type": "code",
   "execution_count": 15,
   "metadata": {},
   "outputs": [
    {
     "data": {
      "text/plain": [
       "<BarContainer object of 1000 artists>"
      ]
     },
     "execution_count": 15,
     "metadata": {},
     "output_type": "execute_result"
    },
    {
     "data": {
      "image/png": "[encoded data removed]",
      "text/plain": [
       "<Figure size 640x480 with 1 Axes>"
      ]
     },
     "metadata": {},
     "output_type": "display_data"
    }
   ],
   "source": [
    "plt.bar(data['Age'],data['Credit_Score'])"
   ]
  },
  {
   "cell_type": "markdown",
   "metadata": {},
   "source": [
    "# multivaraite Analysis"
   ]
  },
  {
   "cell_type": "code",
   "execution_count": 16,
   "metadata": {},
   "outputs": [
    {
     "data": {
      "text/plain": [
       "<Axes: >"
      ]
     },
     "execution_count": 16,
     "metadata": {},
     "output_type": "execute_result"
    },
    {
     "data": {
      "image/png": "[encoded data removed]",
      "text/plain": [
       "<Figure size 640x480 with 2 Axes>"
      ]
     },
     "metadata": {},
     "output_type": "display_data"
    }
   ],
   "source": [
    "corr = numerical_column.corr()\n",
    "sns.heatmap(corr, annot= True, fmt=\".2f\")"
   ]
  },
  {
   "cell_type": "markdown",
   "metadata": {},
   "source": [
    "# finding null values"
   ]
  },
  {
   "cell_type": "code",
   "execution_count": 17,
   "metadata": {},
   "outputs": [
    {
     "data": {
      "text/plain": [
       "Age                      False\n",
       "Gender                    True\n",
       "Income                   False\n",
       "Employment_Status         True\n",
       "Location                 False\n",
       "Credit_Score             False\n",
       "Debt_to_Income_Ratio     False\n",
       "Existing_Loan_Balance    False\n",
       "Loan_Status              False\n",
       "Loan_Amount              False\n",
       "Interest_Rate            False\n",
       "Loan_Duration_Months     False\n",
       "dtype: bool"
      ]
     },
     "execution_count": 17,
     "metadata": {},
     "output_type": "execute_result"
    }
   ],
   "source": [
    "data.isnull().any()"
   ]
  },
  {
   "cell_type": "code",
   "execution_count": 18,
   "metadata": {},
   "outputs": [
    {
     "data": {
      "text/plain": [
       "Age                        0\n",
       "Gender                   208\n",
       "Income                     0\n",
       "Employment_Status         94\n",
       "Location                   0\n",
       "Credit_Score               0\n",
       "Debt_to_Income_Ratio       0\n",
       "Existing_Loan_Balance      0\n",
       "Loan_Status                0\n",
       "Loan_Amount                0\n",
       "Interest_Rate              0\n",
       "Loan_Duration_Months       0\n",
       "dtype: int64"
      ]
     },
     "execution_count": 18,
     "metadata": {},
     "output_type": "execute_result"
    }
   ],
   "source": [
    "data.isnull().sum()"
   ]
  },
  {
   "cell_type": "markdown",
   "metadata": {},
   "source": [
    "## Gender Column"
   ]
  },
  {
   "cell_type": "code",
   "execution_count": 19,
   "metadata": {},
   "outputs": [
    {
     "data": {
      "text/plain": [
       "Gender\n",
       "Female    399\n",
       "Male      393\n",
       "Name: count, dtype: int64"
      ]
     },
     "execution_count": 19,
     "metadata": {},
     "output_type": "execute_result"
    }
   ],
   "source": [
    "data['Gender'].value_counts()"
   ]
  },
  {
   "cell_type": "code",
   "execution_count": 20,
   "metadata": {},
   "outputs": [
    {
     "name": "stdout",
     "output_type": "stream",
     "text": [
      "0    Female\n",
      "Name: Gender, dtype: object\n"
     ]
    }
   ],
   "source": [
    "gender_value = data['Gender'].mode()\n",
    "print(gender_value)"
   ]
  },
  {
   "cell_type": "markdown",
   "metadata": {},
   "source": [
    "### Filling missing Value"
   ]
  },
  {
   "cell_type": "code",
   "execution_count": 21,
   "metadata": {},
   "outputs": [],
   "source": [
    "data['Gender'] = data['Gender'].fillna(value='Female')"
   ]
  },
  {
   "cell_type": "code",
   "execution_count": 22,
   "metadata": {},
   "outputs": [
    {
     "data": {
      "text/plain": [
       "0"
      ]
     },
     "execution_count": 22,
     "metadata": {},
     "output_type": "execute_result"
    }
   ],
   "source": [
    "data['Gender'].isnull().sum()"
   ]
  },
  {
   "cell_type": "markdown",
   "metadata": {},
   "source": [
    "## Employment Status"
   ]
  },
  {
   "cell_type": "code",
   "execution_count": 23,
   "metadata": {},
   "outputs": [
    {
     "data": {
      "text/plain": [
       "Employment_Status\n",
       "Employed      596\n",
       "Unemployed    310\n",
       "Name: count, dtype: int64"
      ]
     },
     "execution_count": 23,
     "metadata": {},
     "output_type": "execute_result"
    }
   ],
   "source": [
    "data['Employment_Status'].value_counts()"
   ]
  },
  {
   "cell_type": "code",
   "execution_count": 24,
   "metadata": {},
   "outputs": [
    {
     "data": {
      "text/plain": [
       "array(['Employed', 'Unemployed', nan], dtype=object)"
      ]
     },
     "execution_count": 24,
     "metadata": {},
     "output_type": "execute_result"
    }
   ],
   "source": [
    "data['Employment_Status'].unique()"
   ]
  },
  {
   "cell_type": "code",
   "execution_count": 25,
   "metadata": {},
   "outputs": [],
   "source": [
    "data['Employment_Status'] = data['Employment_Status'].fillna(value='Employed')"
   ]
  },
  {
   "cell_type": "code",
   "execution_count": 26,
   "metadata": {},
   "outputs": [
    {
     "data": {
      "text/plain": [
       "Age                      0\n",
       "Gender                   0\n",
       "Income                   0\n",
       "Employment_Status        0\n",
       "Location                 0\n",
       "Credit_Score             0\n",
       "Debt_to_Income_Ratio     0\n",
       "Existing_Loan_Balance    0\n",
       "Loan_Status              0\n",
       "Loan_Amount              0\n",
       "Interest_Rate            0\n",
       "Loan_Duration_Months     0\n",
       "dtype: int64"
      ]
     },
     "execution_count": 26,
     "metadata": {},
     "output_type": "execute_result"
    }
   ],
   "source": [
    "data.isnull().sum()"
   ]
  },
  {
   "cell_type": "markdown",
   "metadata": {},
   "source": [
    "# Outlier detection"
   ]
  },
  {
   "cell_type": "code",
   "execution_count": 27,
   "metadata": {},
   "outputs": [
    {
     "name": "stdout",
     "output_type": "stream",
     "text": [
      "<class 'pandas.core.frame.DataFrame'>\n",
      "RangeIndex: 1000 entries, 0 to 999\n",
      "Data columns (total 8 columns):\n",
      " #   Column                 Non-Null Count  Dtype  \n",
      "---  ------                 --------------  -----  \n",
      " 0   Age                    1000 non-null   int64  \n",
      " 1   Income                 1000 non-null   float64\n",
      " 2   Credit_Score           1000 non-null   int64  \n",
      " 3   Debt_to_Income_Ratio   1000 non-null   float64\n",
      " 4   Existing_Loan_Balance  1000 non-null   float64\n",
      " 5   Loan_Amount            1000 non-null   float64\n",
      " 6   Interest_Rate          1000 non-null   float64\n",
      " 7   Loan_Duration_Months   1000 non-null   int64  \n",
      "dtypes: float64(5), int64(3)\n",
      "memory usage: 62.6 KB\n",
      "None\n"
     ]
    }
   ],
   "source": [
    "print(numerical_column.info())"
   ]
  },
  {
   "cell_type": "code",
   "execution_count": 28,
   "metadata": {},
   "outputs": [
    {
     "data": {
      "image/png": "[encoded data removed]",
      "text/plain": [
       "<Figure size 640x480 with 1 Axes>"
      ]
     },
     "metadata": {},
     "output_type": "display_data"
    },
    {
     "data": {
      "image/png": "[encoded data removed]",
      "text/plain": [
       "<Figure size 640x480 with 1 Axes>"
      ]
     },
     "metadata": {},
     "output_type": "display_data"
    },
    {
     "data": {
      "image/png": "[encoded data removed]",
      "text/plain": [
       "<Figure size 640x480 with 1 Axes>"
      ]
     },
     "metadata": {},
     "output_type": "display_data"
    },
    {
     "data": {
      "image/png": "[encoded data removed]",
      "text/plain": [
       "<Figure size 640x480 with 1 Axes>"
      ]
     },
     "metadata": {},
     "output_type": "display_data"
    },
    {
     "data": {
      "image/png": "[encoded data removed]",
      "text/plain": [
       "<Figure size 640x480 with 1 Axes>"
      ]
     },
     "metadata": {},
     "output_type": "display_data"
    },
    {
     "data": {
      "image/png": "[encoded data removed]",
      "text/plain": [
       "<Figure size 640x480 with 1 Axes>"
      ]
     },
     "metadata": {},
     "output_type": "display_data"
    },
    {
     "data": {
      "image/png": "[encoded data removed]",
      "text/plain": [
       "<Figure size 640x480 with 1 Axes>"
      ]
     },
     "metadata": {},
     "output_type": "display_data"
    },
    {
     "data": {
      "image/png": "[encoded data removed]",
      "text/plain": [
       "<Figure size 640x480 with 1 Axes>"
      ]
     },
     "metadata": {},
     "output_type": "display_data"
    }
   ],
   "source": [
    "for i in numerical_column:\n",
    "    sns.boxplot(data[i])\n",
    "    plt.title(f\"The boxplot of {i}\")\n",
    "    plt.show()"
   ]
  },
  {
   "cell_type": "markdown",
   "metadata": {},
   "source": [
    "## Income box plot"
   ]
  },
  {
   "cell_type": "code",
   "execution_count": 29,
   "metadata": {},
   "outputs": [
    {
     "data": {
      "text/plain": [
       "<Axes: ylabel='Income'>"
      ]
     },
     "execution_count": 29,
     "metadata": {},
     "output_type": "execute_result"
    },
    {
     "data": {
      "image/png": "[encoded data removed]",
      "text/plain": [
       "<Figure size 640x480 with 1 Axes>"
      ]
     },
     "metadata": {},
     "output_type": "display_data"
    }
   ],
   "source": [
    "sns.boxplot(data['Income'])"
   ]
  },
  {
   "cell_type": "code",
   "execution_count": 30,
   "metadata": {},
   "outputs": [],
   "source": [
    "def outlier(data, columns):\n",
    "    data1 = data.copy()  # Create a copy of the original DataFrame\n",
    "    for column in columns:\n",
    "        q1 = np.percentile(data[column], 25)\n",
    "        q3 = np.percentile(data[column], 75)\n",
    "        iqr = q3 - q1\n",
    "        lower_limit = q1 - (1.5 * iqr)\n",
    "        upper_limit = q3 + (1.5 * iqr)\n",
    "        data1 = data1[(data1[column] >= lower_limit) & (data1[column] <= upper_limit)]\n",
    "    return data1"
   ]
  },
  {
   "cell_type": "code",
   "execution_count": 31,
   "metadata": {},
   "outputs": [],
   "source": [
    "Cleaned_data = outlier(data,columns=numerical_column)"
   ]
  },
  {
   "cell_type": "code",
   "execution_count": 32,
   "metadata": {},
   "outputs": [
    {
     "data": {
      "text/html": [
       "<div>\n",
       "<style scoped>\n",
       "    .dataframe tbody tr th:only-of-type {\n",
       "        vertical-align: middle;\n",
       "    }\n",
       "\n",
       "    .dataframe tbody tr th {\n",
       "        vertical-align: top;\n",
       "    }\n",
       "\n",
       "    .dataframe thead th {\n",
       "        text-align: right;\n",
       "    }\n",
       "</style>\n",
       "<table border=\"1\" class=\"dataframe\">\n",
       "  <thead>\n",
       "    <tr style=\"text-align: right;\">\n",
       "      <th></th>\n",
       "      <th>Age</th>\n",
       "      <th>Gender</th>\n",
       "      <th>Income</th>\n",
       "      <th>Employment_Status</th>\n",
       "      <th>Location</th>\n",
       "      <th>Credit_Score</th>\n",
       "      <th>Debt_to_Income_Ratio</th>\n",
       "      <th>Existing_Loan_Balance</th>\n",
       "      <th>Loan_Status</th>\n",
       "      <th>Loan_Amount</th>\n",
       "      <th>Interest_Rate</th>\n",
       "      <th>Loan_Duration_Months</th>\n",
       "    </tr>\n",
       "  </thead>\n",
       "  <tbody>\n",
       "    <tr>\n",
       "      <th>0</th>\n",
       "      <td>56</td>\n",
       "      <td>Male</td>\n",
       "      <td>71266.11</td>\n",
       "      <td>Employed</td>\n",
       "      <td>Suburban</td>\n",
       "      <td>639</td>\n",
       "      <td>0.007</td>\n",
       "      <td>27060.19</td>\n",
       "      <td>Non-Default</td>\n",
       "      <td>13068.33</td>\n",
       "      <td>18.2</td>\n",
       "      <td>59</td>\n",
       "    </tr>\n",
       "    <tr>\n",
       "      <th>1</th>\n",
       "      <td>46</td>\n",
       "      <td>Female</td>\n",
       "      <td>37283.05</td>\n",
       "      <td>Employed</td>\n",
       "      <td>Suburban</td>\n",
       "      <td>474</td>\n",
       "      <td>0.457</td>\n",
       "      <td>40192.99</td>\n",
       "      <td>Default</td>\n",
       "      <td>15159.34</td>\n",
       "      <td>11.7</td>\n",
       "      <td>69</td>\n",
       "    </tr>\n",
       "    <tr>\n",
       "      <th>2</th>\n",
       "      <td>32</td>\n",
       "      <td>Male</td>\n",
       "      <td>69567.04</td>\n",
       "      <td>Employed</td>\n",
       "      <td>Urban</td>\n",
       "      <td>750</td>\n",
       "      <td>0.329</td>\n",
       "      <td>25444.26</td>\n",
       "      <td>Default</td>\n",
       "      <td>6131.29</td>\n",
       "      <td>17.0</td>\n",
       "      <td>69</td>\n",
       "    </tr>\n",
       "    <tr>\n",
       "      <th>3</th>\n",
       "      <td>60</td>\n",
       "      <td>Female</td>\n",
       "      <td>72016.09</td>\n",
       "      <td>Employed</td>\n",
       "      <td>Rural</td>\n",
       "      <td>435</td>\n",
       "      <td>0.052</td>\n",
       "      <td>3122.21</td>\n",
       "      <td>Non-Default</td>\n",
       "      <td>37531.88</td>\n",
       "      <td>16.9</td>\n",
       "      <td>26</td>\n",
       "    </tr>\n",
       "    <tr>\n",
       "      <th>4</th>\n",
       "      <td>25</td>\n",
       "      <td>Female</td>\n",
       "      <td>32161.99</td>\n",
       "      <td>Unemployed</td>\n",
       "      <td>Suburban</td>\n",
       "      <td>315</td>\n",
       "      <td>0.450</td>\n",
       "      <td>19197.35</td>\n",
       "      <td>Non-Default</td>\n",
       "      <td>41466.40</td>\n",
       "      <td>18.9</td>\n",
       "      <td>66</td>\n",
       "    </tr>\n",
       "    <tr>\n",
       "      <th>...</th>\n",
       "      <td>...</td>\n",
       "      <td>...</td>\n",
       "      <td>...</td>\n",
       "      <td>...</td>\n",
       "      <td>...</td>\n",
       "      <td>...</td>\n",
       "      <td>...</td>\n",
       "      <td>...</td>\n",
       "      <td>...</td>\n",
       "      <td>...</td>\n",
       "      <td>...</td>\n",
       "      <td>...</td>\n",
       "    </tr>\n",
       "    <tr>\n",
       "      <th>995</th>\n",
       "      <td>22</td>\n",
       "      <td>Female</td>\n",
       "      <td>98081.11</td>\n",
       "      <td>Unemployed</td>\n",
       "      <td>Urban</td>\n",
       "      <td>727</td>\n",
       "      <td>0.962</td>\n",
       "      <td>3586.59</td>\n",
       "      <td>Non-Default</td>\n",
       "      <td>41473.24</td>\n",
       "      <td>3.7</td>\n",
       "      <td>23</td>\n",
       "    </tr>\n",
       "    <tr>\n",
       "      <th>996</th>\n",
       "      <td>40</td>\n",
       "      <td>Male</td>\n",
       "      <td>30044.02</td>\n",
       "      <td>Employed</td>\n",
       "      <td>Rural</td>\n",
       "      <td>416</td>\n",
       "      <td>0.775</td>\n",
       "      <td>32993.49</td>\n",
       "      <td>Default</td>\n",
       "      <td>48942.59</td>\n",
       "      <td>12.9</td>\n",
       "      <td>62</td>\n",
       "    </tr>\n",
       "    <tr>\n",
       "      <th>997</th>\n",
       "      <td>27</td>\n",
       "      <td>Female</td>\n",
       "      <td>21355.81</td>\n",
       "      <td>Unemployed</td>\n",
       "      <td>Rural</td>\n",
       "      <td>806</td>\n",
       "      <td>0.622</td>\n",
       "      <td>21579.22</td>\n",
       "      <td>Default</td>\n",
       "      <td>34010.25</td>\n",
       "      <td>3.8</td>\n",
       "      <td>55</td>\n",
       "    </tr>\n",
       "    <tr>\n",
       "      <th>998</th>\n",
       "      <td>61</td>\n",
       "      <td>Female</td>\n",
       "      <td>81612.66</td>\n",
       "      <td>Employed</td>\n",
       "      <td>Rural</td>\n",
       "      <td>845</td>\n",
       "      <td>0.607</td>\n",
       "      <td>38180.15</td>\n",
       "      <td>Default</td>\n",
       "      <td>17504.01</td>\n",
       "      <td>13.3</td>\n",
       "      <td>27</td>\n",
       "    </tr>\n",
       "    <tr>\n",
       "      <th>999</th>\n",
       "      <td>19</td>\n",
       "      <td>Male</td>\n",
       "      <td>84572.44</td>\n",
       "      <td>Unemployed</td>\n",
       "      <td>Suburban</td>\n",
       "      <td>624</td>\n",
       "      <td>0.849</td>\n",
       "      <td>49629.89</td>\n",
       "      <td>Non-Default</td>\n",
       "      <td>49850.27</td>\n",
       "      <td>16.6</td>\n",
       "      <td>49</td>\n",
       "    </tr>\n",
       "  </tbody>\n",
       "</table>\n",
       "<p>990 rows × 12 columns</p>\n",
       "</div>"
      ],
      "text/plain": [
       "     Age  Gender    Income Employment_Status  Location  Credit_Score  \\\n",
       "0     56    Male  71266.11          Employed  Suburban           639   \n",
       "1     46  Female  37283.05          Employed  Suburban           474   \n",
       "2     32    Male  69567.04          Employed     Urban           750   \n",
       "3     60  Female  72016.09          Employed     Rural           435   \n",
       "4     25  Female  32161.99        Unemployed  Suburban           315   \n",
       "..   ...     ...       ...               ...       ...           ...   \n",
       "995   22  Female  98081.11        Unemployed     Urban           727   \n",
       "996   40    Male  30044.02          Employed     Rural           416   \n",
       "997   27  Female  21355.81        Unemployed     Rural           806   \n",
       "998   61  Female  81612.66          Employed     Rural           845   \n",
       "999   19    Male  84572.44        Unemployed  Suburban           624   \n",
       "\n",
       "     Debt_to_Income_Ratio  Existing_Loan_Balance  Loan_Status  Loan_Amount  \\\n",
       "0                   0.007               27060.19  Non-Default     13068.33   \n",
       "1                   0.457               40192.99      Default     15159.34   \n",
       "2                   0.329               25444.26      Default      6131.29   \n",
       "3                   0.052                3122.21  Non-Default     37531.88   \n",
       "4                   0.450               19197.35  Non-Default     41466.40   \n",
       "..                    ...                    ...          ...          ...   \n",
       "995                 0.962                3586.59  Non-Default     41473.24   \n",
       "996                 0.775               32993.49      Default     48942.59   \n",
       "997                 0.622               21579.22      Default     34010.25   \n",
       "998                 0.607               38180.15      Default     17504.01   \n",
       "999                 0.849               49629.89  Non-Default     49850.27   \n",
       "\n",
       "     Interest_Rate  Loan_Duration_Months  \n",
       "0             18.2                    59  \n",
       "1             11.7                    69  \n",
       "2             17.0                    69  \n",
       "3             16.9                    26  \n",
       "4             18.9                    66  \n",
       "..             ...                   ...  \n",
       "995            3.7                    23  \n",
       "996           12.9                    62  \n",
       "997            3.8                    55  \n",
       "998           13.3                    27  \n",
       "999           16.6                    49  \n",
       "\n",
       "[990 rows x 12 columns]"
      ]
     },
     "execution_count": 32,
     "metadata": {},
     "output_type": "execute_result"
    }
   ],
   "source": [
    "Cleaned_data"
   ]
  },
  {
   "cell_type": "code",
   "execution_count": 33,
   "metadata": {},
   "outputs": [
    {
     "data": {
      "text/plain": [
       "Age                      0\n",
       "Gender                   0\n",
       "Income                   0\n",
       "Employment_Status        0\n",
       "Location                 0\n",
       "Credit_Score             0\n",
       "Debt_to_Income_Ratio     0\n",
       "Existing_Loan_Balance    0\n",
       "Loan_Status              0\n",
       "Loan_Amount              0\n",
       "Interest_Rate            0\n",
       "Loan_Duration_Months     0\n",
       "dtype: int64"
      ]
     },
     "execution_count": 33,
     "metadata": {},
     "output_type": "execute_result"
    }
   ],
   "source": [
    "Cleaned_data.isnull().sum()"
   ]
  },
  {
   "cell_type": "markdown",
   "metadata": {},
   "source": [
    "# Feature Selection"
   ]
  },
  {
   "cell_type": "code",
   "execution_count": 34,
   "metadata": {},
   "outputs": [
    {
     "name": "stdout",
     "output_type": "stream",
     "text": [
      "<class 'pandas.core.frame.DataFrame'>\n",
      "RangeIndex: 1000 entries, 0 to 999\n",
      "Data columns (total 4 columns):\n",
      " #   Column             Non-Null Count  Dtype \n",
      "---  ------             --------------  ----- \n",
      " 0   Gender             1000 non-null   object\n",
      " 1   Employment_Status  1000 non-null   object\n",
      " 2   Location           1000 non-null   object\n",
      " 3   Loan_Status        1000 non-null   object\n",
      "dtypes: object(4)\n",
      "memory usage: 31.4+ KB\n",
      "None\n"
     ]
    }
   ],
   "source": [
    "categorical_column = data.select_dtypes(include=['object'])\n",
    "print(categorical_column.info())"
   ]
  },
  {
   "cell_type": "code",
   "execution_count": 35,
   "metadata": {},
   "outputs": [],
   "source": [
    "from scipy.stats import chi2_contingency"
   ]
  },
  {
   "cell_type": "code",
   "execution_count": 36,
   "metadata": {},
   "outputs": [
    {
     "data": {
      "text/html": [
       "<div>\n",
       "<style scoped>\n",
       "    .dataframe tbody tr th:only-of-type {\n",
       "        vertical-align: middle;\n",
       "    }\n",
       "\n",
       "    .dataframe tbody tr th {\n",
       "        vertical-align: top;\n",
       "    }\n",
       "\n",
       "    .dataframe thead th {\n",
       "        text-align: right;\n",
       "    }\n",
       "</style>\n",
       "<table border=\"1\" class=\"dataframe\">\n",
       "  <thead>\n",
       "    <tr style=\"text-align: right;\">\n",
       "      <th>Loan_Status</th>\n",
       "      <th>Default</th>\n",
       "      <th>Non-Default</th>\n",
       "    </tr>\n",
       "    <tr>\n",
       "      <th>Gender</th>\n",
       "      <th></th>\n",
       "      <th></th>\n",
       "    </tr>\n",
       "  </thead>\n",
       "  <tbody>\n",
       "    <tr>\n",
       "      <th>Female</th>\n",
       "      <td>122</td>\n",
       "      <td>485</td>\n",
       "    </tr>\n",
       "    <tr>\n",
       "      <th>Male</th>\n",
       "      <td>73</td>\n",
       "      <td>320</td>\n",
       "    </tr>\n",
       "  </tbody>\n",
       "</table>\n",
       "</div>"
      ],
      "text/plain": [
       "Loan_Status  Default  Non-Default\n",
       "Gender                           \n",
       "Female           122          485\n",
       "Male              73          320"
      ]
     },
     "execution_count": 36,
     "metadata": {},
     "output_type": "execute_result"
    }
   ],
   "source": [
    "grouped_data1 = data.groupby(['Gender', 'Loan_Status']).size().unstack(fill_value=0)\n",
    "grouped_data1"
   ]
  },
  {
   "cell_type": "code",
   "execution_count": 37,
   "metadata": {},
   "outputs": [
    {
     "data": {
      "text/html": [
       "<div>\n",
       "<style scoped>\n",
       "    .dataframe tbody tr th:only-of-type {\n",
       "        vertical-align: middle;\n",
       "    }\n",
       "\n",
       "    .dataframe tbody tr th {\n",
       "        vertical-align: top;\n",
       "    }\n",
       "\n",
       "    .dataframe thead th {\n",
       "        text-align: right;\n",
       "    }\n",
       "</style>\n",
       "<table border=\"1\" class=\"dataframe\">\n",
       "  <thead>\n",
       "    <tr style=\"text-align: right;\">\n",
       "      <th>Loan_Status</th>\n",
       "      <th>Default</th>\n",
       "      <th>Non-Default</th>\n",
       "    </tr>\n",
       "    <tr>\n",
       "      <th>Employment_Status</th>\n",
       "      <th></th>\n",
       "      <th></th>\n",
       "    </tr>\n",
       "  </thead>\n",
       "  <tbody>\n",
       "    <tr>\n",
       "      <th>Employed</th>\n",
       "      <td>135</td>\n",
       "      <td>555</td>\n",
       "    </tr>\n",
       "    <tr>\n",
       "      <th>Unemployed</th>\n",
       "      <td>60</td>\n",
       "      <td>250</td>\n",
       "    </tr>\n",
       "  </tbody>\n",
       "</table>\n",
       "</div>"
      ],
      "text/plain": [
       "Loan_Status        Default  Non-Default\n",
       "Employment_Status                      \n",
       "Employed               135          555\n",
       "Unemployed              60          250"
      ]
     },
     "execution_count": 37,
     "metadata": {},
     "output_type": "execute_result"
    }
   ],
   "source": [
    "grouped_data2 = data.groupby(['Employment_Status', 'Loan_Status']).size().unstack(fill_value=0)\n",
    "grouped_data2"
   ]
  },
  {
   "cell_type": "code",
   "execution_count": 38,
   "metadata": {},
   "outputs": [
    {
     "data": {
      "text/html": [
       "<div>\n",
       "<style scoped>\n",
       "    .dataframe tbody tr th:only-of-type {\n",
       "        vertical-align: middle;\n",
       "    }\n",
       "\n",
       "    .dataframe tbody tr th {\n",
       "        vertical-align: top;\n",
       "    }\n",
       "\n",
       "    .dataframe thead th {\n",
       "        text-align: right;\n",
       "    }\n",
       "</style>\n",
       "<table border=\"1\" class=\"dataframe\">\n",
       "  <thead>\n",
       "    <tr style=\"text-align: right;\">\n",
       "      <th>Loan_Status</th>\n",
       "      <th>Default</th>\n",
       "      <th>Non-Default</th>\n",
       "    </tr>\n",
       "    <tr>\n",
       "      <th>Location</th>\n",
       "      <th></th>\n",
       "      <th></th>\n",
       "    </tr>\n",
       "  </thead>\n",
       "  <tbody>\n",
       "    <tr>\n",
       "      <th>Rural</th>\n",
       "      <td>65</td>\n",
       "      <td>283</td>\n",
       "    </tr>\n",
       "    <tr>\n",
       "      <th>Suburban</th>\n",
       "      <td>70</td>\n",
       "      <td>274</td>\n",
       "    </tr>\n",
       "    <tr>\n",
       "      <th>Urban</th>\n",
       "      <td>60</td>\n",
       "      <td>248</td>\n",
       "    </tr>\n",
       "  </tbody>\n",
       "</table>\n",
       "</div>"
      ],
      "text/plain": [
       "Loan_Status  Default  Non-Default\n",
       "Location                         \n",
       "Rural             65          283\n",
       "Suburban          70          274\n",
       "Urban             60          248"
      ]
     },
     "execution_count": 38,
     "metadata": {},
     "output_type": "execute_result"
    }
   ],
   "source": [
    "grouped_data3 = data.groupby(['Location', 'Loan_Status']).size().unstack(fill_value=0)\n",
    "grouped_data3"
   ]
  },
  {
   "cell_type": "code",
   "execution_count": 39,
   "metadata": {},
   "outputs": [
    {
     "name": "stdout",
     "output_type": "stream",
     "text": [
      "Chi-Square Statistic: 0.2624601406048746\n",
      "P-value: 0.6084350207130604\n",
      "accept null\n"
     ]
    }
   ],
   "source": [
    "chi2, p, dof, ex = chi2_contingency(grouped_data1)\n",
    "\n",
    "print(f\"Chi-Square Statistic: {chi2}\")\n",
    "print(f\"P-value: {p}\")\n",
    "\n",
    "alpha = 0.5\n",
    "if p<alpha:\n",
    "    print(\"reject null hypo\")\n",
    "else:\n",
    "    print(\"accept null\")"
   ]
  },
  {
   "cell_type": "code",
   "execution_count": 40,
   "metadata": {},
   "outputs": [
    {
     "name": "stdout",
     "output_type": "stream",
     "text": [
      "Chi-Square Statistic: 0.0\n",
      "P-value: 1.0\n",
      "accept null\n"
     ]
    }
   ],
   "source": [
    "chi2, p, dof, ex = chi2_contingency(grouped_data2)\n",
    "\n",
    "print(f\"Chi-Square Statistic: {chi2}\")\n",
    "print(f\"P-value: {p}\")\n",
    "\n",
    "alpha = 0.5\n",
    "if p<alpha:\n",
    "    print(\"reject null hypo\")\n",
    "else:\n",
    "    print(\"accept null\")"
   ]
  },
  {
   "cell_type": "code",
   "execution_count": 41,
   "metadata": {},
   "outputs": [
    {
     "name": "stdout",
     "output_type": "stream",
     "text": [
      "Chi-Square Statistic: 0.30770716690215494\n",
      "P-value: 0.8573975490117258\n",
      "accept null\n"
     ]
    }
   ],
   "source": [
    "chi2, p, dof, ex = chi2_contingency(grouped_data3)\n",
    "\n",
    "print(f\"Chi-Square Statistic: {chi2}\")\n",
    "print(f\"P-value: {p}\")\n",
    "\n",
    "alpha = 0.5\n",
    "if p<alpha:\n",
    "    print(\"reject null hypo\")\n",
    "else:\n",
    "    print(\"accept null\")"
   ]
  },
  {
   "cell_type": "markdown",
   "metadata": {},
   "source": [
    "# Checking for Target Variable "
   ]
  },
  {
   "cell_type": "code",
   "execution_count": 42,
   "metadata": {},
   "outputs": [
    {
     "data": {
      "text/plain": [
       "Loan_Status\n",
       "Non-Default    805\n",
       "Default        195\n",
       "Name: count, dtype: int64"
      ]
     },
     "execution_count": 42,
     "metadata": {},
     "output_type": "execute_result"
    }
   ],
   "source": [
    "data['Loan_Status'].value_counts()"
   ]
  },
  {
   "cell_type": "markdown",
   "metadata": {},
   "source": [
    "1. The target variable has Data Imbalance\n",
    "   - To solve this:\n",
    "        a. OverSampling\n",
    "        b. Undersampling\n",
    "\n",
    "2. We would prefer oversampling  because it preserves the original distribution of the data and no data loss\n",
    "\n",
    "3. Use SMOTE oversampling technique to balance the dataset as the data is synthetically generated and no data duplication"
   ]
  },
  {
   "cell_type": "markdown",
   "metadata": {},
   "source": [
    "# Label Encoding"
   ]
  },
  {
   "cell_type": "code",
   "execution_count": 43,
   "metadata": {},
   "outputs": [
    {
     "name": "stdout",
     "output_type": "stream",
     "text": [
      "<class 'pandas.core.frame.DataFrame'>\n",
      "RangeIndex: 1000 entries, 0 to 999\n",
      "Data columns (total 4 columns):\n",
      " #   Column             Non-Null Count  Dtype \n",
      "---  ------             --------------  ----- \n",
      " 0   Gender             1000 non-null   object\n",
      " 1   Employment_Status  1000 non-null   object\n",
      " 2   Location           1000 non-null   object\n",
      " 3   Loan_Status        1000 non-null   object\n",
      "dtypes: object(4)\n",
      "memory usage: 31.4+ KB\n",
      "None\n"
     ]
    }
   ],
   "source": [
    "categorical_column = data.select_dtypes(include=['object'])\n",
    "print(categorical_column.info())"
   ]
  },
  {
   "cell_type": "code",
   "execution_count": 44,
   "metadata": {},
   "outputs": [
    {
     "data": {
      "text/html": [
       "<div>\n",
       "<style scoped>\n",
       "    .dataframe tbody tr th:only-of-type {\n",
       "        vertical-align: middle;\n",
       "    }\n",
       "\n",
       "    .dataframe tbody tr th {\n",
       "        vertical-align: top;\n",
       "    }\n",
       "\n",
       "    .dataframe thead th {\n",
       "        text-align: right;\n",
       "    }\n",
       "</style>\n",
       "<table border=\"1\" class=\"dataframe\">\n",
       "  <thead>\n",
       "    <tr style=\"text-align: right;\">\n",
       "      <th></th>\n",
       "      <th>Age</th>\n",
       "      <th>Gender</th>\n",
       "      <th>Income</th>\n",
       "      <th>Employment_Status</th>\n",
       "      <th>Location</th>\n",
       "      <th>Credit_Score</th>\n",
       "      <th>Debt_to_Income_Ratio</th>\n",
       "      <th>Existing_Loan_Balance</th>\n",
       "      <th>Loan_Status</th>\n",
       "      <th>Loan_Amount</th>\n",
       "      <th>Interest_Rate</th>\n",
       "      <th>Loan_Duration_Months</th>\n",
       "    </tr>\n",
       "  </thead>\n",
       "  <tbody>\n",
       "    <tr>\n",
       "      <th>0</th>\n",
       "      <td>56</td>\n",
       "      <td>1</td>\n",
       "      <td>71266.11</td>\n",
       "      <td>0</td>\n",
       "      <td>1</td>\n",
       "      <td>639</td>\n",
       "      <td>0.007</td>\n",
       "      <td>27060.19</td>\n",
       "      <td>1</td>\n",
       "      <td>13068.33</td>\n",
       "      <td>18.2</td>\n",
       "      <td>59</td>\n",
       "    </tr>\n",
       "    <tr>\n",
       "      <th>1</th>\n",
       "      <td>46</td>\n",
       "      <td>0</td>\n",
       "      <td>37283.05</td>\n",
       "      <td>0</td>\n",
       "      <td>1</td>\n",
       "      <td>474</td>\n",
       "      <td>0.457</td>\n",
       "      <td>40192.99</td>\n",
       "      <td>0</td>\n",
       "      <td>15159.34</td>\n",
       "      <td>11.7</td>\n",
       "      <td>69</td>\n",
       "    </tr>\n",
       "    <tr>\n",
       "      <th>2</th>\n",
       "      <td>32</td>\n",
       "      <td>1</td>\n",
       "      <td>69567.04</td>\n",
       "      <td>0</td>\n",
       "      <td>2</td>\n",
       "      <td>750</td>\n",
       "      <td>0.329</td>\n",
       "      <td>25444.26</td>\n",
       "      <td>0</td>\n",
       "      <td>6131.29</td>\n",
       "      <td>17.0</td>\n",
       "      <td>69</td>\n",
       "    </tr>\n",
       "    <tr>\n",
       "      <th>3</th>\n",
       "      <td>60</td>\n",
       "      <td>0</td>\n",
       "      <td>72016.09</td>\n",
       "      <td>0</td>\n",
       "      <td>0</td>\n",
       "      <td>435</td>\n",
       "      <td>0.052</td>\n",
       "      <td>3122.21</td>\n",
       "      <td>1</td>\n",
       "      <td>37531.88</td>\n",
       "      <td>16.9</td>\n",
       "      <td>26</td>\n",
       "    </tr>\n",
       "    <tr>\n",
       "      <th>4</th>\n",
       "      <td>25</td>\n",
       "      <td>0</td>\n",
       "      <td>32161.99</td>\n",
       "      <td>1</td>\n",
       "      <td>1</td>\n",
       "      <td>315</td>\n",
       "      <td>0.450</td>\n",
       "      <td>19197.35</td>\n",
       "      <td>1</td>\n",
       "      <td>41466.40</td>\n",
       "      <td>18.9</td>\n",
       "      <td>66</td>\n",
       "    </tr>\n",
       "  </tbody>\n",
       "</table>\n",
       "</div>"
      ],
      "text/plain": [
       "   Age  Gender    Income  Employment_Status  Location  Credit_Score  \\\n",
       "0   56       1  71266.11                  0         1           639   \n",
       "1   46       0  37283.05                  0         1           474   \n",
       "2   32       1  69567.04                  0         2           750   \n",
       "3   60       0  72016.09                  0         0           435   \n",
       "4   25       0  32161.99                  1         1           315   \n",
       "\n",
       "   Debt_to_Income_Ratio  Existing_Loan_Balance  Loan_Status  Loan_Amount  \\\n",
       "0                 0.007               27060.19            1     13068.33   \n",
       "1                 0.457               40192.99            0     15159.34   \n",
       "2                 0.329               25444.26            0      6131.29   \n",
       "3                 0.052                3122.21            1     37531.88   \n",
       "4                 0.450               19197.35            1     41466.40   \n",
       "\n",
       "   Interest_Rate  Loan_Duration_Months  \n",
       "0           18.2                    59  \n",
       "1           11.7                    69  \n",
       "2           17.0                    69  \n",
       "3           16.9                    26  \n",
       "4           18.9                    66  "
      ]
     },
     "execution_count": 44,
     "metadata": {},
     "output_type": "execute_result"
    }
   ],
   "source": [
    "from sklearn.preprocessing import LabelEncoder\n",
    "import pickle\n",
    "\n",
    "#initialize the encoder\n",
    "le = LabelEncoder()\n",
    "\n",
    "for i in categorical_column:\n",
    "    # print(i)\n",
    "    data[i] = le.fit_transform(data[i])\n",
    "\n",
    "with open(\"LabelEncoder.pkl\",\"wb\") as file:\n",
    "    pickle.dump(le, file)\n",
    "\n",
    "data.head()"
   ]
  },
  {
   "cell_type": "markdown",
   "metadata": {},
   "source": [
    "# Spliting the Data into Dependent and Independent Variable"
   ]
  },
  {
   "cell_type": "code",
   "execution_count": 45,
   "metadata": {},
   "outputs": [
    {
     "data": {
      "text/plain": [
       "0      1\n",
       "1      0\n",
       "2      0\n",
       "3      1\n",
       "4      1\n",
       "      ..\n",
       "995    1\n",
       "996    0\n",
       "997    0\n",
       "998    0\n",
       "999    1\n",
       "Name: Loan_Status, Length: 1000, dtype: int64"
      ]
     },
     "execution_count": 45,
     "metadata": {},
     "output_type": "execute_result"
    }
   ],
   "source": [
    "y = data['Loan_Status']\n",
    "y"
   ]
  },
  {
   "cell_type": "code",
   "execution_count": 46,
   "metadata": {},
   "outputs": [
    {
     "data": {
      "text/html": [
       "<div>\n",
       "<style scoped>\n",
       "    .dataframe tbody tr th:only-of-type {\n",
       "        vertical-align: middle;\n",
       "    }\n",
       "\n",
       "    .dataframe tbody tr th {\n",
       "        vertical-align: top;\n",
       "    }\n",
       "\n",
       "    .dataframe thead th {\n",
       "        text-align: right;\n",
       "    }\n",
       "</style>\n",
       "<table border=\"1\" class=\"dataframe\">\n",
       "  <thead>\n",
       "    <tr style=\"text-align: right;\">\n",
       "      <th></th>\n",
       "      <th>Age</th>\n",
       "      <th>Gender</th>\n",
       "      <th>Income</th>\n",
       "      <th>Employment_Status</th>\n",
       "      <th>Location</th>\n",
       "      <th>Credit_Score</th>\n",
       "      <th>Debt_to_Income_Ratio</th>\n",
       "      <th>Existing_Loan_Balance</th>\n",
       "      <th>Loan_Amount</th>\n",
       "      <th>Interest_Rate</th>\n",
       "      <th>Loan_Duration_Months</th>\n",
       "    </tr>\n",
       "  </thead>\n",
       "  <tbody>\n",
       "    <tr>\n",
       "      <th>0</th>\n",
       "      <td>56</td>\n",
       "      <td>1</td>\n",
       "      <td>71266.11</td>\n",
       "      <td>0</td>\n",
       "      <td>1</td>\n",
       "      <td>639</td>\n",
       "      <td>0.007</td>\n",
       "      <td>27060.19</td>\n",
       "      <td>13068.33</td>\n",
       "      <td>18.2</td>\n",
       "      <td>59</td>\n",
       "    </tr>\n",
       "    <tr>\n",
       "      <th>1</th>\n",
       "      <td>46</td>\n",
       "      <td>0</td>\n",
       "      <td>37283.05</td>\n",
       "      <td>0</td>\n",
       "      <td>1</td>\n",
       "      <td>474</td>\n",
       "      <td>0.457</td>\n",
       "      <td>40192.99</td>\n",
       "      <td>15159.34</td>\n",
       "      <td>11.7</td>\n",
       "      <td>69</td>\n",
       "    </tr>\n",
       "    <tr>\n",
       "      <th>2</th>\n",
       "      <td>32</td>\n",
       "      <td>1</td>\n",
       "      <td>69567.04</td>\n",
       "      <td>0</td>\n",
       "      <td>2</td>\n",
       "      <td>750</td>\n",
       "      <td>0.329</td>\n",
       "      <td>25444.26</td>\n",
       "      <td>6131.29</td>\n",
       "      <td>17.0</td>\n",
       "      <td>69</td>\n",
       "    </tr>\n",
       "    <tr>\n",
       "      <th>3</th>\n",
       "      <td>60</td>\n",
       "      <td>0</td>\n",
       "      <td>72016.09</td>\n",
       "      <td>0</td>\n",
       "      <td>0</td>\n",
       "      <td>435</td>\n",
       "      <td>0.052</td>\n",
       "      <td>3122.21</td>\n",
       "      <td>37531.88</td>\n",
       "      <td>16.9</td>\n",
       "      <td>26</td>\n",
       "    </tr>\n",
       "    <tr>\n",
       "      <th>4</th>\n",
       "      <td>25</td>\n",
       "      <td>0</td>\n",
       "      <td>32161.99</td>\n",
       "      <td>1</td>\n",
       "      <td>1</td>\n",
       "      <td>315</td>\n",
       "      <td>0.450</td>\n",
       "      <td>19197.35</td>\n",
       "      <td>41466.40</td>\n",
       "      <td>18.9</td>\n",
       "      <td>66</td>\n",
       "    </tr>\n",
       "    <tr>\n",
       "      <th>...</th>\n",
       "      <td>...</td>\n",
       "      <td>...</td>\n",
       "      <td>...</td>\n",
       "      <td>...</td>\n",
       "      <td>...</td>\n",
       "      <td>...</td>\n",
       "      <td>...</td>\n",
       "      <td>...</td>\n",
       "      <td>...</td>\n",
       "      <td>...</td>\n",
       "      <td>...</td>\n",
       "    </tr>\n",
       "    <tr>\n",
       "      <th>995</th>\n",
       "      <td>22</td>\n",
       "      <td>0</td>\n",
       "      <td>98081.11</td>\n",
       "      <td>1</td>\n",
       "      <td>2</td>\n",
       "      <td>727</td>\n",
       "      <td>0.962</td>\n",
       "      <td>3586.59</td>\n",
       "      <td>41473.24</td>\n",
       "      <td>3.7</td>\n",
       "      <td>23</td>\n",
       "    </tr>\n",
       "    <tr>\n",
       "      <th>996</th>\n",
       "      <td>40</td>\n",
       "      <td>1</td>\n",
       "      <td>30044.02</td>\n",
       "      <td>0</td>\n",
       "      <td>0</td>\n",
       "      <td>416</td>\n",
       "      <td>0.775</td>\n",
       "      <td>32993.49</td>\n",
       "      <td>48942.59</td>\n",
       "      <td>12.9</td>\n",
       "      <td>62</td>\n",
       "    </tr>\n",
       "    <tr>\n",
       "      <th>997</th>\n",
       "      <td>27</td>\n",
       "      <td>0</td>\n",
       "      <td>21355.81</td>\n",
       "      <td>1</td>\n",
       "      <td>0</td>\n",
       "      <td>806</td>\n",
       "      <td>0.622</td>\n",
       "      <td>21579.22</td>\n",
       "      <td>34010.25</td>\n",
       "      <td>3.8</td>\n",
       "      <td>55</td>\n",
       "    </tr>\n",
       "    <tr>\n",
       "      <th>998</th>\n",
       "      <td>61</td>\n",
       "      <td>0</td>\n",
       "      <td>81612.66</td>\n",
       "      <td>0</td>\n",
       "      <td>0</td>\n",
       "      <td>845</td>\n",
       "      <td>0.607</td>\n",
       "      <td>38180.15</td>\n",
       "      <td>17504.01</td>\n",
       "      <td>13.3</td>\n",
       "      <td>27</td>\n",
       "    </tr>\n",
       "    <tr>\n",
       "      <th>999</th>\n",
       "      <td>19</td>\n",
       "      <td>1</td>\n",
       "      <td>84572.44</td>\n",
       "      <td>1</td>\n",
       "      <td>1</td>\n",
       "      <td>624</td>\n",
       "      <td>0.849</td>\n",
       "      <td>49629.89</td>\n",
       "      <td>49850.27</td>\n",
       "      <td>16.6</td>\n",
       "      <td>49</td>\n",
       "    </tr>\n",
       "  </tbody>\n",
       "</table>\n",
       "<p>1000 rows × 11 columns</p>\n",
       "</div>"
      ],
      "text/plain": [
       "     Age  Gender    Income  Employment_Status  Location  Credit_Score  \\\n",
       "0     56       1  71266.11                  0         1           639   \n",
       "1     46       0  37283.05                  0         1           474   \n",
       "2     32       1  69567.04                  0         2           750   \n",
       "3     60       0  72016.09                  0         0           435   \n",
       "4     25       0  32161.99                  1         1           315   \n",
       "..   ...     ...       ...                ...       ...           ...   \n",
       "995   22       0  98081.11                  1         2           727   \n",
       "996   40       1  30044.02                  0         0           416   \n",
       "997   27       0  21355.81                  1         0           806   \n",
       "998   61       0  81612.66                  0         0           845   \n",
       "999   19       1  84572.44                  1         1           624   \n",
       "\n",
       "     Debt_to_Income_Ratio  Existing_Loan_Balance  Loan_Amount  Interest_Rate  \\\n",
       "0                   0.007               27060.19     13068.33           18.2   \n",
       "1                   0.457               40192.99     15159.34           11.7   \n",
       "2                   0.329               25444.26      6131.29           17.0   \n",
       "3                   0.052                3122.21     37531.88           16.9   \n",
       "4                   0.450               19197.35     41466.40           18.9   \n",
       "..                    ...                    ...          ...            ...   \n",
       "995                 0.962                3586.59     41473.24            3.7   \n",
       "996                 0.775               32993.49     48942.59           12.9   \n",
       "997                 0.622               21579.22     34010.25            3.8   \n",
       "998                 0.607               38180.15     17504.01           13.3   \n",
       "999                 0.849               49629.89     49850.27           16.6   \n",
       "\n",
       "     Loan_Duration_Months  \n",
       "0                      59  \n",
       "1                      69  \n",
       "2                      69  \n",
       "3                      26  \n",
       "4                      66  \n",
       "..                    ...  \n",
       "995                    23  \n",
       "996                    62  \n",
       "997                    55  \n",
       "998                    27  \n",
       "999                    49  \n",
       "\n",
       "[1000 rows x 11 columns]"
      ]
     },
     "execution_count": 46,
     "metadata": {},
     "output_type": "execute_result"
    }
   ],
   "source": [
    "x = data.drop(columns=['Loan_Status'])\n",
    "x"
   ]
  },
  {
   "cell_type": "markdown",
   "metadata": {},
   "source": [
    "# Standardize the Independent variable"
   ]
  },
  {
   "cell_type": "code",
   "execution_count": 47,
   "metadata": {},
   "outputs": [],
   "source": [
    "from sklearn.preprocessing import StandardScaler\n",
    "\n",
    "# initialize the scaler\n",
    "scaler = StandardScaler()"
   ]
  },
  {
   "cell_type": "code",
   "execution_count": 48,
   "metadata": {},
   "outputs": [],
   "source": [
    "with open(\"StandardScaler.pkl\",\"wb\") as file:\n",
    "    pickle.dump(scaler, file)"
   ]
  },
  {
   "cell_type": "code",
   "execution_count": 49,
   "metadata": {},
   "outputs": [
    {
     "data": {
      "text/html": [
       "<div>\n",
       "<style scoped>\n",
       "    .dataframe tbody tr th:only-of-type {\n",
       "        vertical-align: middle;\n",
       "    }\n",
       "\n",
       "    .dataframe tbody tr th {\n",
       "        vertical-align: top;\n",
       "    }\n",
       "\n",
       "    .dataframe thead th {\n",
       "        text-align: right;\n",
       "    }\n",
       "</style>\n",
       "<table border=\"1\" class=\"dataframe\">\n",
       "  <thead>\n",
       "    <tr style=\"text-align: right;\">\n",
       "      <th></th>\n",
       "      <th>Age</th>\n",
       "      <th>Gender</th>\n",
       "      <th>Income</th>\n",
       "      <th>Employment_Status</th>\n",
       "      <th>Location</th>\n",
       "      <th>Credit_Score</th>\n",
       "      <th>Debt_to_Income_Ratio</th>\n",
       "      <th>Existing_Loan_Balance</th>\n",
       "      <th>Loan_Amount</th>\n",
       "      <th>Interest_Rate</th>\n",
       "      <th>Loan_Duration_Months</th>\n",
       "    </tr>\n",
       "  </thead>\n",
       "  <tbody>\n",
       "    <tr>\n",
       "      <th>0</th>\n",
       "      <td>1.112882</td>\n",
       "      <td>1.242791</td>\n",
       "      <td>0.429621</td>\n",
       "      <td>-0.670280</td>\n",
       "      <td>0.049447</td>\n",
       "      <td>0.415800</td>\n",
       "      <td>-1.614947</td>\n",
       "      <td>0.128246</td>\n",
       "      <td>-1.127667</td>\n",
       "      <td>1.364571</td>\n",
       "      <td>0.980752</td>\n",
       "    </tr>\n",
       "    <tr>\n",
       "      <th>1</th>\n",
       "      <td>0.371652</td>\n",
       "      <td>-0.804641</td>\n",
       "      <td>-0.952831</td>\n",
       "      <td>-0.670280</td>\n",
       "      <td>0.049447</td>\n",
       "      <td>-0.594522</td>\n",
       "      <td>-0.096248</td>\n",
       "      <td>1.053379</td>\n",
       "      <td>-0.965809</td>\n",
       "      <td>0.033022</td>\n",
       "      <td>1.565263</td>\n",
       "    </tr>\n",
       "    <tr>\n",
       "      <th>2</th>\n",
       "      <td>-0.666069</td>\n",
       "      <td>1.242791</td>\n",
       "      <td>0.360501</td>\n",
       "      <td>-0.670280</td>\n",
       "      <td>1.285617</td>\n",
       "      <td>1.095471</td>\n",
       "      <td>-0.528234</td>\n",
       "      <td>0.014413</td>\n",
       "      <td>-1.664643</td>\n",
       "      <td>1.118747</td>\n",
       "      <td>1.565263</td>\n",
       "    </tr>\n",
       "    <tr>\n",
       "      <th>3</th>\n",
       "      <td>1.409373</td>\n",
       "      <td>-0.804641</td>\n",
       "      <td>0.460130</td>\n",
       "      <td>-0.670280</td>\n",
       "      <td>-1.186724</td>\n",
       "      <td>-0.833326</td>\n",
       "      <td>-1.463077</td>\n",
       "      <td>-1.558051</td>\n",
       "      <td>0.765981</td>\n",
       "      <td>1.098261</td>\n",
       "      <td>-0.948136</td>\n",
       "    </tr>\n",
       "    <tr>\n",
       "      <th>4</th>\n",
       "      <td>-1.184929</td>\n",
       "      <td>-0.804641</td>\n",
       "      <td>-1.161159</td>\n",
       "      <td>1.491914</td>\n",
       "      <td>0.049447</td>\n",
       "      <td>-1.568106</td>\n",
       "      <td>-0.119873</td>\n",
       "      <td>-0.425647</td>\n",
       "      <td>1.070540</td>\n",
       "      <td>1.507969</td>\n",
       "      <td>1.389910</td>\n",
       "    </tr>\n",
       "  </tbody>\n",
       "</table>\n",
       "</div>"
      ],
      "text/plain": [
       "        Age    Gender    Income  Employment_Status  Location  Credit_Score  \\\n",
       "0  1.112882  1.242791  0.429621          -0.670280  0.049447      0.415800   \n",
       "1  0.371652 -0.804641 -0.952831          -0.670280  0.049447     -0.594522   \n",
       "2 -0.666069  1.242791  0.360501          -0.670280  1.285617      1.095471   \n",
       "3  1.409373 -0.804641  0.460130          -0.670280 -1.186724     -0.833326   \n",
       "4 -1.184929 -0.804641 -1.161159           1.491914  0.049447     -1.568106   \n",
       "\n",
       "   Debt_to_Income_Ratio  Existing_Loan_Balance  Loan_Amount  Interest_Rate  \\\n",
       "0             -1.614947               0.128246    -1.127667       1.364571   \n",
       "1             -0.096248               1.053379    -0.965809       0.033022   \n",
       "2             -0.528234               0.014413    -1.664643       1.118747   \n",
       "3             -1.463077              -1.558051     0.765981       1.098261   \n",
       "4             -0.119873              -0.425647     1.070540       1.507969   \n",
       "\n",
       "   Loan_Duration_Months  \n",
       "0              0.980752  \n",
       "1              1.565263  \n",
       "2              1.565263  \n",
       "3             -0.948136  \n",
       "4              1.389910  "
      ]
     },
     "execution_count": 49,
     "metadata": {},
     "output_type": "execute_result"
    }
   ],
   "source": [
    "x_scaled = scaler.fit_transform(x)\n",
    "\n",
    "x_scaled_df = pd.DataFrame(x_scaled, columns= x.columns)\n",
    "#print 5 rows after scaling\n",
    "x_scaled_df.head()"
   ]
  },
  {
   "cell_type": "markdown",
   "metadata": {},
   "source": [
    "# Split the data into train and test split"
   ]
  },
  {
   "cell_type": "code",
   "execution_count": 50,
   "metadata": {},
   "outputs": [],
   "source": [
    "from sklearn.model_selection import train_test_split"
   ]
  },
  {
   "cell_type": "code",
   "execution_count": 51,
   "metadata": {},
   "outputs": [],
   "source": [
    "x_train,x_test,y_train,y_test = train_test_split(x_scaled_df,y,test_size=0.25,random_state=42)"
   ]
  },
  {
   "cell_type": "code",
   "execution_count": 52,
   "metadata": {},
   "outputs": [
    {
     "data": {
      "text/html": [
       "<div>\n",
       "<style scoped>\n",
       "    .dataframe tbody tr th:only-of-type {\n",
       "        vertical-align: middle;\n",
       "    }\n",
       "\n",
       "    .dataframe tbody tr th {\n",
       "        vertical-align: top;\n",
       "    }\n",
       "\n",
       "    .dataframe thead th {\n",
       "        text-align: right;\n",
       "    }\n",
       "</style>\n",
       "<table border=\"1\" class=\"dataframe\">\n",
       "  <thead>\n",
       "    <tr style=\"text-align: right;\">\n",
       "      <th></th>\n",
       "      <th>Age</th>\n",
       "      <th>Gender</th>\n",
       "      <th>Income</th>\n",
       "      <th>Employment_Status</th>\n",
       "      <th>Location</th>\n",
       "      <th>Credit_Score</th>\n",
       "      <th>Debt_to_Income_Ratio</th>\n",
       "      <th>Existing_Loan_Balance</th>\n",
       "      <th>Loan_Amount</th>\n",
       "      <th>Interest_Rate</th>\n",
       "      <th>Loan_Duration_Months</th>\n",
       "    </tr>\n",
       "  </thead>\n",
       "  <tbody>\n",
       "    <tr>\n",
       "      <th>82</th>\n",
       "      <td>1.557619</td>\n",
       "      <td>-0.804641</td>\n",
       "      <td>-1.439001</td>\n",
       "      <td>-0.670280</td>\n",
       "      <td>-1.186724</td>\n",
       "      <td>0.103518</td>\n",
       "      <td>-0.720602</td>\n",
       "      <td>1.413206</td>\n",
       "      <td>-0.492054</td>\n",
       "      <td>0.155935</td>\n",
       "      <td>1.039203</td>\n",
       "    </tr>\n",
       "    <tr>\n",
       "      <th>991</th>\n",
       "      <td>-1.555544</td>\n",
       "      <td>1.242791</td>\n",
       "      <td>-0.640971</td>\n",
       "      <td>1.491914</td>\n",
       "      <td>0.049447</td>\n",
       "      <td>-1.549736</td>\n",
       "      <td>0.625977</td>\n",
       "      <td>-1.333654</td>\n",
       "      <td>0.607616</td>\n",
       "      <td>0.381274</td>\n",
       "      <td>0.454691</td>\n",
       "    </tr>\n",
       "    <tr>\n",
       "      <th>789</th>\n",
       "      <td>0.742267</td>\n",
       "      <td>-0.804641</td>\n",
       "      <td>-0.053668</td>\n",
       "      <td>-0.670280</td>\n",
       "      <td>1.285617</td>\n",
       "      <td>0.158627</td>\n",
       "      <td>1.662067</td>\n",
       "      <td>1.478280</td>\n",
       "      <td>-0.482057</td>\n",
       "      <td>1.385056</td>\n",
       "      <td>1.273007</td>\n",
       "    </tr>\n",
       "    <tr>\n",
       "      <th>894</th>\n",
       "      <td>0.816390</td>\n",
       "      <td>1.242791</td>\n",
       "      <td>0.392947</td>\n",
       "      <td>-0.670280</td>\n",
       "      <td>0.049447</td>\n",
       "      <td>-0.459813</td>\n",
       "      <td>-1.098589</td>\n",
       "      <td>-0.522707</td>\n",
       "      <td>0.413797</td>\n",
       "      <td>-0.274258</td>\n",
       "      <td>-1.240392</td>\n",
       "    </tr>\n",
       "    <tr>\n",
       "      <th>398</th>\n",
       "      <td>0.594021</td>\n",
       "      <td>-0.804641</td>\n",
       "      <td>0.925713</td>\n",
       "      <td>-0.670280</td>\n",
       "      <td>-1.186724</td>\n",
       "      <td>-0.343473</td>\n",
       "      <td>1.024214</td>\n",
       "      <td>1.302102</td>\n",
       "      <td>-1.235282</td>\n",
       "      <td>0.299332</td>\n",
       "      <td>1.565263</td>\n",
       "    </tr>\n",
       "  </tbody>\n",
       "</table>\n",
       "</div>"
      ],
      "text/plain": [
       "          Age    Gender    Income  Employment_Status  Location  Credit_Score  \\\n",
       "82   1.557619 -0.804641 -1.439001          -0.670280 -1.186724      0.103518   \n",
       "991 -1.555544  1.242791 -0.640971           1.491914  0.049447     -1.549736   \n",
       "789  0.742267 -0.804641 -0.053668          -0.670280  1.285617      0.158627   \n",
       "894  0.816390  1.242791  0.392947          -0.670280  0.049447     -0.459813   \n",
       "398  0.594021 -0.804641  0.925713          -0.670280 -1.186724     -0.343473   \n",
       "\n",
       "     Debt_to_Income_Ratio  Existing_Loan_Balance  Loan_Amount  Interest_Rate  \\\n",
       "82              -0.720602               1.413206    -0.492054       0.155935   \n",
       "991              0.625977              -1.333654     0.607616       0.381274   \n",
       "789              1.662067               1.478280    -0.482057       1.385056   \n",
       "894             -1.098589              -0.522707     0.413797      -0.274258   \n",
       "398              1.024214               1.302102    -1.235282       0.299332   \n",
       "\n",
       "     Loan_Duration_Months  \n",
       "82               1.039203  \n",
       "991              0.454691  \n",
       "789              1.273007  \n",
       "894             -1.240392  \n",
       "398              1.565263  "
      ]
     },
     "execution_count": 52,
     "metadata": {},
     "output_type": "execute_result"
    }
   ],
   "source": [
    "x_train.head()"
   ]
  },
  {
   "cell_type": "code",
   "execution_count": 53,
   "metadata": {},
   "outputs": [
    {
     "data": {
      "text/plain": [
       "82     1\n",
       "991    1\n",
       "789    1\n",
       "894    1\n",
       "398    1\n",
       "Name: Loan_Status, dtype: int64"
      ]
     },
     "execution_count": 53,
     "metadata": {},
     "output_type": "execute_result"
    }
   ],
   "source": [
    "y_train.head()"
   ]
  },
  {
   "cell_type": "code",
   "execution_count": 54,
   "metadata": {},
   "outputs": [
    {
     "data": {
      "text/html": [
       "<div>\n",
       "<style scoped>\n",
       "    .dataframe tbody tr th:only-of-type {\n",
       "        vertical-align: middle;\n",
       "    }\n",
       "\n",
       "    .dataframe tbody tr th {\n",
       "        vertical-align: top;\n",
       "    }\n",
       "\n",
       "    .dataframe thead th {\n",
       "        text-align: right;\n",
       "    }\n",
       "</style>\n",
       "<table border=\"1\" class=\"dataframe\">\n",
       "  <thead>\n",
       "    <tr style=\"text-align: right;\">\n",
       "      <th></th>\n",
       "      <th>Age</th>\n",
       "      <th>Gender</th>\n",
       "      <th>Income</th>\n",
       "      <th>Employment_Status</th>\n",
       "      <th>Location</th>\n",
       "      <th>Credit_Score</th>\n",
       "      <th>Debt_to_Income_Ratio</th>\n",
       "      <th>Existing_Loan_Balance</th>\n",
       "      <th>Loan_Amount</th>\n",
       "      <th>Interest_Rate</th>\n",
       "      <th>Loan_Duration_Months</th>\n",
       "    </tr>\n",
       "  </thead>\n",
       "  <tbody>\n",
       "    <tr>\n",
       "      <th>521</th>\n",
       "      <td>-1.184929</td>\n",
       "      <td>1.242791</td>\n",
       "      <td>0.291408</td>\n",
       "      <td>-0.670280</td>\n",
       "      <td>1.285617</td>\n",
       "      <td>-1.500751</td>\n",
       "      <td>0.123119</td>\n",
       "      <td>0.264210</td>\n",
       "      <td>-0.036074</td>\n",
       "      <td>0.954864</td>\n",
       "      <td>-0.246722</td>\n",
       "    </tr>\n",
       "    <tr>\n",
       "      <th>737</th>\n",
       "      <td>-0.221331</td>\n",
       "      <td>-0.804641</td>\n",
       "      <td>1.057155</td>\n",
       "      <td>-0.670280</td>\n",
       "      <td>-1.186724</td>\n",
       "      <td>-0.459813</td>\n",
       "      <td>0.119744</td>\n",
       "      <td>1.400960</td>\n",
       "      <td>0.396354</td>\n",
       "      <td>0.196905</td>\n",
       "      <td>1.448361</td>\n",
       "    </tr>\n",
       "    <tr>\n",
       "      <th>740</th>\n",
       "      <td>-0.517823</td>\n",
       "      <td>-0.804641</td>\n",
       "      <td>-0.811924</td>\n",
       "      <td>1.491914</td>\n",
       "      <td>0.049447</td>\n",
       "      <td>-1.170100</td>\n",
       "      <td>-0.757726</td>\n",
       "      <td>-0.974342</td>\n",
       "      <td>0.630002</td>\n",
       "      <td>0.360788</td>\n",
       "      <td>-0.538978</td>\n",
       "    </tr>\n",
       "    <tr>\n",
       "      <th>660</th>\n",
       "      <td>-0.221331</td>\n",
       "      <td>-0.804641</td>\n",
       "      <td>-1.255609</td>\n",
       "      <td>-0.670280</td>\n",
       "      <td>-1.186724</td>\n",
       "      <td>1.481230</td>\n",
       "      <td>-1.496826</td>\n",
       "      <td>-0.701432</td>\n",
       "      <td>0.880445</td>\n",
       "      <td>0.606613</td>\n",
       "      <td>-0.538978</td>\n",
       "    </tr>\n",
       "    <tr>\n",
       "      <th>411</th>\n",
       "      <td>1.483496</td>\n",
       "      <td>-0.804641</td>\n",
       "      <td>0.346540</td>\n",
       "      <td>-0.670280</td>\n",
       "      <td>1.285617</td>\n",
       "      <td>-0.269995</td>\n",
       "      <td>1.381952</td>\n",
       "      <td>1.050482</td>\n",
       "      <td>-1.666940</td>\n",
       "      <td>-1.359982</td>\n",
       "      <td>-0.889685</td>\n",
       "    </tr>\n",
       "  </tbody>\n",
       "</table>\n",
       "</div>"
      ],
      "text/plain": [
       "          Age    Gender    Income  Employment_Status  Location  Credit_Score  \\\n",
       "521 -1.184929  1.242791  0.291408          -0.670280  1.285617     -1.500751   \n",
       "737 -0.221331 -0.804641  1.057155          -0.670280 -1.186724     -0.459813   \n",
       "740 -0.517823 -0.804641 -0.811924           1.491914  0.049447     -1.170100   \n",
       "660 -0.221331 -0.804641 -1.255609          -0.670280 -1.186724      1.481230   \n",
       "411  1.483496 -0.804641  0.346540          -0.670280  1.285617     -0.269995   \n",
       "\n",
       "     Debt_to_Income_Ratio  Existing_Loan_Balance  Loan_Amount  Interest_Rate  \\\n",
       "521              0.123119               0.264210    -0.036074       0.954864   \n",
       "737              0.119744               1.400960     0.396354       0.196905   \n",
       "740             -0.757726              -0.974342     0.630002       0.360788   \n",
       "660             -1.496826              -0.701432     0.880445       0.606613   \n",
       "411              1.381952               1.050482    -1.666940      -1.359982   \n",
       "\n",
       "     Loan_Duration_Months  \n",
       "521             -0.246722  \n",
       "737              1.448361  \n",
       "740             -0.538978  \n",
       "660             -0.538978  \n",
       "411             -0.889685  "
      ]
     },
     "execution_count": 54,
     "metadata": {},
     "output_type": "execute_result"
    }
   ],
   "source": [
    "x_test.head()"
   ]
  },
  {
   "cell_type": "code",
   "execution_count": 55,
   "metadata": {},
   "outputs": [
    {
     "data": {
      "text/plain": [
       "521    1\n",
       "737    1\n",
       "740    1\n",
       "660    0\n",
       "411    1\n",
       "Name: Loan_Status, dtype: int64"
      ]
     },
     "execution_count": 55,
     "metadata": {},
     "output_type": "execute_result"
    }
   ],
   "source": [
    "y_test.head()"
   ]
  },
  {
   "cell_type": "markdown",
   "metadata": {},
   "source": [
    "# Oversampling [SMOTE]"
   ]
  },
  {
   "cell_type": "code",
   "execution_count": 56,
   "metadata": {},
   "outputs": [
    {
     "data": {
      "text/plain": [
       "Loan_Status\n",
       "1    608\n",
       "0    142\n",
       "Name: count, dtype: int64"
      ]
     },
     "execution_count": 56,
     "metadata": {},
     "output_type": "execute_result"
    }
   ],
   "source": [
    "y_train.value_counts()"
   ]
  },
  {
   "cell_type": "code",
   "execution_count": 57,
   "metadata": {},
   "outputs": [],
   "source": [
    "from imblearn.over_sampling import SMOTE\n",
    "\n",
    "smote = SMOTE(random_state=42,k_neighbors=2)"
   ]
  },
  {
   "cell_type": "code",
   "execution_count": 58,
   "metadata": {},
   "outputs": [],
   "source": [
    "x_train_reshaped,y_train_reshaped = smote.fit_resample(x_train,y_train)"
   ]
  },
  {
   "cell_type": "code",
   "execution_count": 59,
   "metadata": {},
   "outputs": [
    {
     "data": {
      "text/html": [
       "<div>\n",
       "<style scoped>\n",
       "    .dataframe tbody tr th:only-of-type {\n",
       "        vertical-align: middle;\n",
       "    }\n",
       "\n",
       "    .dataframe tbody tr th {\n",
       "        vertical-align: top;\n",
       "    }\n",
       "\n",
       "    .dataframe thead th {\n",
       "        text-align: right;\n",
       "    }\n",
       "</style>\n",
       "<table border=\"1\" class=\"dataframe\">\n",
       "  <thead>\n",
       "    <tr style=\"text-align: right;\">\n",
       "      <th></th>\n",
       "      <th>Age</th>\n",
       "      <th>Gender</th>\n",
       "      <th>Income</th>\n",
       "      <th>Employment_Status</th>\n",
       "      <th>Location</th>\n",
       "      <th>Credit_Score</th>\n",
       "      <th>Debt_to_Income_Ratio</th>\n",
       "      <th>Existing_Loan_Balance</th>\n",
       "      <th>Loan_Amount</th>\n",
       "      <th>Interest_Rate</th>\n",
       "      <th>Loan_Duration_Months</th>\n",
       "    </tr>\n",
       "  </thead>\n",
       "  <tbody>\n",
       "    <tr>\n",
       "      <th>0</th>\n",
       "      <td>1.557619</td>\n",
       "      <td>-0.804641</td>\n",
       "      <td>-1.439001</td>\n",
       "      <td>-0.670280</td>\n",
       "      <td>-1.186724</td>\n",
       "      <td>0.103518</td>\n",
       "      <td>-0.720602</td>\n",
       "      <td>1.413206</td>\n",
       "      <td>-0.492054</td>\n",
       "      <td>0.155935</td>\n",
       "      <td>1.039203</td>\n",
       "    </tr>\n",
       "    <tr>\n",
       "      <th>1</th>\n",
       "      <td>-1.555544</td>\n",
       "      <td>1.242791</td>\n",
       "      <td>-0.640971</td>\n",
       "      <td>1.491914</td>\n",
       "      <td>0.049447</td>\n",
       "      <td>-1.549736</td>\n",
       "      <td>0.625977</td>\n",
       "      <td>-1.333654</td>\n",
       "      <td>0.607616</td>\n",
       "      <td>0.381274</td>\n",
       "      <td>0.454691</td>\n",
       "    </tr>\n",
       "    <tr>\n",
       "      <th>2</th>\n",
       "      <td>0.742267</td>\n",
       "      <td>-0.804641</td>\n",
       "      <td>-0.053668</td>\n",
       "      <td>-0.670280</td>\n",
       "      <td>1.285617</td>\n",
       "      <td>0.158627</td>\n",
       "      <td>1.662067</td>\n",
       "      <td>1.478280</td>\n",
       "      <td>-0.482057</td>\n",
       "      <td>1.385056</td>\n",
       "      <td>1.273007</td>\n",
       "    </tr>\n",
       "    <tr>\n",
       "      <th>3</th>\n",
       "      <td>0.816390</td>\n",
       "      <td>1.242791</td>\n",
       "      <td>0.392947</td>\n",
       "      <td>-0.670280</td>\n",
       "      <td>0.049447</td>\n",
       "      <td>-0.459813</td>\n",
       "      <td>-1.098589</td>\n",
       "      <td>-0.522707</td>\n",
       "      <td>0.413797</td>\n",
       "      <td>-0.274258</td>\n",
       "      <td>-1.240392</td>\n",
       "    </tr>\n",
       "    <tr>\n",
       "      <th>4</th>\n",
       "      <td>0.594021</td>\n",
       "      <td>-0.804641</td>\n",
       "      <td>0.925713</td>\n",
       "      <td>-0.670280</td>\n",
       "      <td>-1.186724</td>\n",
       "      <td>-0.343473</td>\n",
       "      <td>1.024214</td>\n",
       "      <td>1.302102</td>\n",
       "      <td>-1.235282</td>\n",
       "      <td>0.299332</td>\n",
       "      <td>1.565263</td>\n",
       "    </tr>\n",
       "  </tbody>\n",
       "</table>\n",
       "</div>"
      ],
      "text/plain": [
       "        Age    Gender    Income  Employment_Status  Location  Credit_Score  \\\n",
       "0  1.557619 -0.804641 -1.439001          -0.670280 -1.186724      0.103518   \n",
       "1 -1.555544  1.242791 -0.640971           1.491914  0.049447     -1.549736   \n",
       "2  0.742267 -0.804641 -0.053668          -0.670280  1.285617      0.158627   \n",
       "3  0.816390  1.242791  0.392947          -0.670280  0.049447     -0.459813   \n",
       "4  0.594021 -0.804641  0.925713          -0.670280 -1.186724     -0.343473   \n",
       "\n",
       "   Debt_to_Income_Ratio  Existing_Loan_Balance  Loan_Amount  Interest_Rate  \\\n",
       "0             -0.720602               1.413206    -0.492054       0.155935   \n",
       "1              0.625977              -1.333654     0.607616       0.381274   \n",
       "2              1.662067               1.478280    -0.482057       1.385056   \n",
       "3             -1.098589              -0.522707     0.413797      -0.274258   \n",
       "4              1.024214               1.302102    -1.235282       0.299332   \n",
       "\n",
       "   Loan_Duration_Months  \n",
       "0              1.039203  \n",
       "1              0.454691  \n",
       "2              1.273007  \n",
       "3             -1.240392  \n",
       "4              1.565263  "
      ]
     },
     "execution_count": 59,
     "metadata": {},
     "output_type": "execute_result"
    }
   ],
   "source": [
    "x_train_reshaped.head()"
   ]
  },
  {
   "cell_type": "code",
   "execution_count": 60,
   "metadata": {},
   "outputs": [
    {
     "data": {
      "text/plain": [
       "0    1\n",
       "1    1\n",
       "2    1\n",
       "3    1\n",
       "4    1\n",
       "Name: Loan_Status, dtype: int64"
      ]
     },
     "execution_count": 60,
     "metadata": {},
     "output_type": "execute_result"
    }
   ],
   "source": [
    "y_train_reshaped.head()"
   ]
  },
  {
   "cell_type": "code",
   "execution_count": 61,
   "metadata": {},
   "outputs": [
    {
     "data": {
      "text/plain": [
       "Loan_Status\n",
       "1    608\n",
       "0    608\n",
       "Name: count, dtype: int64"
      ]
     },
     "execution_count": 61,
     "metadata": {},
     "output_type": "execute_result"
    }
   ],
   "source": [
    "y_train_reshaped.value_counts()"
   ]
  },
  {
   "cell_type": "markdown",
   "metadata": {},
   "source": [
    "# Model Development"
   ]
  },
  {
   "cell_type": "markdown",
   "metadata": {},
   "source": [
    "## 1. Logistic Regression"
   ]
  },
  {
   "cell_type": "code",
   "execution_count": 62,
   "metadata": {},
   "outputs": [
    {
     "data": {
      "text/html": [
       "<style>#sk-container-id-1 {color: black;}#sk-container-id-1 pre{padding: 0;}#sk-container-id-1 div.sk-toggleable {background-color: white;}#sk-container-id-1 label.sk-toggleable__label {cursor: pointer;display: block;width: 100%;margin-bottom: 0;padding: 0.3em;box-sizing: border-box;text-align: center;}#sk-container-id-1 label.sk-toggleable__label-arrow:before {content: \"▸\";float: left;margin-right: 0.25em;color: #696969;}#sk-container-id-1 label.sk-toggleable__label-arrow:hover:before {color: black;}#sk-container-id-1 div.sk-estimator:hover label.sk-toggleable__label-arrow:before {color: black;}#sk-container-id-1 div.sk-toggleable__content {max-height: 0;max-width: 0;overflow: hidden;text-align: left;background-color: #f0f8ff;}#sk-container-id-1 div.sk-toggleable__content pre {margin: 0.2em;color: black;border-radius: 0.25em;background-color: #f0f8ff;}#sk-container-id-1 input.sk-toggleable__control:checked~div.sk-toggleable__content {max-height: 200px;max-width: 100%;overflow: auto;}#sk-container-id-1 input.sk-toggleable__control:checked~label.sk-toggleable__label-arrow:before {content: \"▾\";}#sk-container-id-1 div.sk-estimator input.sk-toggleable__control:checked~label.sk-toggleable__label {background-color: #d4ebff;}#sk-container-id-1 div.sk-label input.sk-toggleable__control:checked~label.sk-toggleable__label {background-color: #d4ebff;}#sk-container-id-1 input.sk-hidden--visually {border: 0;clip: rect(1px 1px 1px 1px);clip: rect(1px, 1px, 1px, 1px);height: 1px;margin: -1px;overflow: hidden;padding: 0;position: absolute;width: 1px;}#sk-container-id-1 div.sk-estimator {font-family: monospace;background-color: #f0f8ff;border: 1px dotted black;border-radius: 0.25em;box-sizing: border-box;margin-bottom: 0.5em;}#sk-container-id-1 div.sk-estimator:hover {background-color: #d4ebff;}#sk-container-id-1 div.sk-parallel-item::after {content: \"\";width: 100%;border-bottom: 1px solid gray;flex-grow: 1;}#sk-container-id-1 div.sk-label:hover label.sk-toggleable__label {background-color: #d4ebff;}#sk-container-id-1 div.sk-serial::before {content: \"\";position: absolute;border-left: 1px solid gray;box-sizing: border-box;top: 0;bottom: 0;left: 50%;z-index: 0;}#sk-container-id-1 div.sk-serial {display: flex;flex-direction: column;align-items: center;background-color: white;padding-right: 0.2em;padding-left: 0.2em;position: relative;}#sk-container-id-1 div.sk-item {position: relative;z-index: 1;}#sk-container-id-1 div.sk-parallel {display: flex;align-items: stretch;justify-content: center;background-color: white;position: relative;}#sk-container-id-1 div.sk-item::before, #sk-container-id-1 div.sk-parallel-item::before {content: \"\";position: absolute;border-left: 1px solid gray;box-sizing: border-box;top: 0;bottom: 0;left: 50%;z-index: -1;}#sk-container-id-1 div.sk-parallel-item {display: flex;flex-direction: column;z-index: 1;position: relative;background-color: white;}#sk-container-id-1 div.sk-parallel-item:first-child::after {align-self: flex-end;width: 50%;}#sk-container-id-1 div.sk-parallel-item:last-child::after {align-self: flex-start;width: 50%;}#sk-container-id-1 div.sk-parallel-item:only-child::after {width: 0;}#sk-container-id-1 div.sk-dashed-wrapped {border: 1px dashed gray;margin: 0 0.4em 0.5em 0.4em;box-sizing: border-box;padding-bottom: 0.4em;background-color: white;}#sk-container-id-1 div.sk-label label {font-family: monospace;font-weight: bold;display: inline-block;line-height: 1.2em;}#sk-container-id-1 div.sk-label-container {text-align: center;}#sk-container-id-1 div.sk-container {/* jupyter's `normalize.less` sets `[hidden] { display: none; }` but bootstrap.min.css set `[hidden] { display: none !important; }` so we also need the `!important` here to be able to override the default hidden behavior on the sphinx rendered scikit-learn.org. See: https://github.com/scikit-learn/scikit-learn/issues/21755 */display: inline-block !important;position: relative;}#sk-container-id-1 div.sk-text-repr-fallback {display: none;}</style><div id=\"sk-container-id-1\" class=\"sk-top-container\"><div class=\"sk-text-repr-fallback\"><pre>LogisticRegression()</pre><b>In a Jupyter environment, please rerun this cell to show the HTML representation or trust the notebook. <br />On GitHub, the HTML representation is unable to render, please try loading this page with nbviewer.org.</b></div><div class=\"sk-container\" hidden><div class=\"sk-item\"><div class=\"sk-estimator sk-toggleable\"><input class=\"sk-toggleable__control sk-hidden--visually\" id=\"sk-estimator-id-1\" type=\"checkbox\" checked><label for=\"sk-estimator-id-1\" class=\"sk-toggleable__label sk-toggleable__label-arrow\">LogisticRegression</label><div class=\"sk-toggleable__content\"><pre>LogisticRegression()</pre></div></div></div></div></div>"
      ],
      "text/plain": [
       "LogisticRegression()"
      ]
     },
     "execution_count": 62,
     "metadata": {},
     "output_type": "execute_result"
    }
   ],
   "source": [
    "from sklearn.linear_model import LogisticRegression\n",
    "\n",
    "logreg_model = LogisticRegression()\n",
    "\n",
    "logreg_model.fit(x_train_reshaped,y_train_reshaped)"
   ]
  },
  {
   "cell_type": "code",
   "execution_count": 63,
   "metadata": {},
   "outputs": [
    {
     "data": {
      "text/plain": [
       "array([1, 0, 1, 0, 1, 0, 0, 1, 0, 1, 0, 1, 1, 0, 1, 1, 0, 1, 1, 1, 1, 1,\n",
       "       0, 0, 1, 1, 1, 0, 1, 1, 0, 0, 1, 1, 0, 0, 1, 1, 0, 0, 1, 0, 0, 1,\n",
       "       1, 1, 1, 1, 0, 1, 1, 1, 1, 1, 1, 1, 1, 1, 1, 1, 1, 0, 0, 1, 1, 0,\n",
       "       1, 1, 1, 0, 0, 1, 1, 1, 0, 1, 1, 1, 1, 1, 1, 1, 1, 0, 1, 1, 0, 1,\n",
       "       1, 0, 0, 1, 0, 1, 1, 0, 0, 1, 1, 1, 1, 0, 0, 0, 0, 0, 1, 0, 1, 1,\n",
       "       0, 0, 1, 1, 0, 0, 1, 0, 0, 1, 1, 1, 0, 1, 0, 0, 0, 1, 0, 0, 1, 1,\n",
       "       1, 1, 1, 0, 1, 1, 0, 0, 1, 0, 1, 1, 1, 0, 1, 1, 0, 0, 0, 0, 0, 1,\n",
       "       0, 1, 1, 1, 0, 1, 0, 0, 1, 1, 0, 1, 0, 1, 0, 1, 0, 0, 1, 1, 0, 1,\n",
       "       1, 1, 0, 0, 0, 1, 0, 1, 0, 0, 0, 1, 1, 1, 1, 1, 1, 0, 1, 0, 0, 0,\n",
       "       1, 0, 0, 0, 1, 0, 0, 1, 0, 0, 0, 0, 0, 0, 1, 1, 1, 1, 1, 1, 1, 0,\n",
       "       1, 0, 0, 0, 0, 0, 1, 1, 0, 0, 0, 1, 1, 0, 1, 0, 0, 0, 1, 0, 0, 1,\n",
       "       0, 1, 0, 1, 1, 0, 1, 1])"
      ]
     },
     "execution_count": 63,
     "metadata": {},
     "output_type": "execute_result"
    }
   ],
   "source": [
    "log_y_pred = logreg_model.predict(x_test)\n",
    "log_y_pred"
   ]
  },
  {
   "cell_type": "markdown",
   "metadata": {},
   "source": [
    "### Metrics"
   ]
  },
  {
   "cell_type": "code",
   "execution_count": 64,
   "metadata": {},
   "outputs": [],
   "source": [
    "from sklearn.metrics import accuracy_score,confusion_matrix,precision_score,recall_score,f1_score,roc_curve, auc"
   ]
  },
  {
   "cell_type": "code",
   "execution_count": 65,
   "metadata": {},
   "outputs": [
    {
     "name": "stdout",
     "output_type": "stream",
     "text": [
      "Logistic Regression Confusion Matrix:\n",
      "[[ 29  24]\n",
      " [ 82 115]]\n"
     ]
    }
   ],
   "source": [
    "log_confusion_matrix = confusion_matrix(y_test,log_y_pred)\n",
    "print(\"Logistic Regression Confusion Matrix:\")\n",
    "print(log_confusion_matrix)"
   ]
  },
  {
   "cell_type": "code",
   "execution_count": 66,
   "metadata": {},
   "outputs": [
    {
     "name": "stdout",
     "output_type": "stream",
     "text": [
      "Logistic Regression Accuracy: 0.576\n"
     ]
    }
   ],
   "source": [
    "log_accuracy_score = accuracy_score(y_test,log_y_pred)\n",
    "print(f\"Logistic Regression Accuracy: {log_accuracy_score}\")"
   ]
  },
  {
   "cell_type": "markdown",
   "metadata": {},
   "source": [
    "## 2. KNN"
   ]
  },
  {
   "cell_type": "code",
   "execution_count": 67,
   "metadata": {},
   "outputs": [
    {
     "name": "stdout",
     "output_type": "stream",
     "text": [
      "[KNeighborsClassifier(n_neighbors=4), KNeighborsClassifier(), KNeighborsClassifier(n_neighbors=6), KNeighborsClassifier(n_neighbors=7), KNeighborsClassifier(n_neighbors=8), KNeighborsClassifier(n_neighbors=9), KNeighborsClassifier(n_neighbors=10), KNeighborsClassifier(n_neighbors=11), KNeighborsClassifier(n_neighbors=12), KNeighborsClassifier(n_neighbors=13), KNeighborsClassifier(n_neighbors=14), KNeighborsClassifier(n_neighbors=15), KNeighborsClassifier(n_neighbors=16), KNeighborsClassifier(n_neighbors=17)]\n"
     ]
    }
   ],
   "source": [
    "from sklearn.neighbors import KNeighborsClassifier\n",
    "\n",
    "neighbors = [4,5,6,7,8,9,10,11,12,13,14,15,16,17]\n",
    "model = []\n",
    "for i in  neighbors:\n",
    "    knn_model = KNeighborsClassifier(n_neighbors=i)\n",
    "    model.append(knn_model)\n",
    "\n",
    "print(model)"
   ]
  },
  {
   "cell_type": "code",
   "execution_count": 68,
   "metadata": {},
   "outputs": [
    {
     "name": "stdout",
     "output_type": "stream",
     "text": [
      "[KNeighborsClassifier(n_neighbors=4), KNeighborsClassifier(), KNeighborsClassifier(n_neighbors=6), KNeighborsClassifier(n_neighbors=7), KNeighborsClassifier(n_neighbors=8), KNeighborsClassifier(n_neighbors=9), KNeighborsClassifier(n_neighbors=10), KNeighborsClassifier(n_neighbors=11), KNeighborsClassifier(n_neighbors=12), KNeighborsClassifier(n_neighbors=13), KNeighborsClassifier(n_neighbors=14), KNeighborsClassifier(n_neighbors=15), KNeighborsClassifier(n_neighbors=16), KNeighborsClassifier(n_neighbors=17)]\n"
     ]
    }
   ],
   "source": [
    "knnModel = []\n",
    "for i in model:\n",
    "    models = i.fit(x_train_reshaped,y_train_reshaped)\n",
    "    knnModel.append(models)\n",
    "#print(model)\n",
    "print(knnModel)"
   ]
  },
  {
   "cell_type": "code",
   "execution_count": 69,
   "metadata": {},
   "outputs": [
    {
     "name": "stdout",
     "output_type": "stream",
     "text": [
      "[array([1, 0, 0, 1, 0, 1, 0, 0, 1, 1, 1, 1, 1, 1, 1, 0, 1, 1, 0, 1, 0, 1,\n",
      "       1, 1, 1, 1, 0, 0, 1, 0, 0, 0, 1, 0, 0, 0, 1, 1, 0, 0, 0, 1, 0, 1,\n",
      "       1, 1, 0, 1, 0, 0, 0, 0, 0, 1, 0, 1, 1, 1, 1, 0, 1, 0, 1, 1, 1, 1,\n",
      "       1, 0, 0, 0, 0, 1, 0, 1, 1, 1, 1, 0, 1, 0, 1, 1, 0, 0, 1, 1, 1, 1,\n",
      "       0, 0, 1, 0, 1, 1, 0, 1, 0, 0, 1, 1, 1, 0, 1, 1, 1, 1, 1, 1, 0, 1,\n",
      "       1, 1, 1, 0, 1, 0, 0, 0, 1, 0, 1, 1, 0, 1, 1, 1, 0, 1, 0, 0, 1, 1,\n",
      "       1, 0, 1, 0, 1, 1, 1, 1, 0, 0, 0, 0, 0, 1, 0, 0, 1, 0, 0, 0, 0, 1,\n",
      "       1, 1, 0, 1, 1, 1, 1, 0, 1, 1, 0, 0, 1, 1, 1, 0, 0, 0, 1, 1, 0, 1,\n",
      "       1, 1, 1, 0, 0, 0, 0, 0, 0, 0, 0, 0, 1, 0, 1, 1, 1, 1, 0, 0, 1, 1,\n",
      "       0, 1, 1, 1, 0, 0, 0, 0, 0, 0, 0, 1, 0, 0, 1, 0, 0, 0, 1, 1, 1, 0,\n",
      "       1, 0, 1, 1, 0, 0, 1, 1, 1, 1, 0, 0, 1, 1, 0, 0, 1, 1, 1, 0, 1, 0,\n",
      "       0, 1, 1, 0, 0, 1, 0, 1]), array([1, 0, 1, 1, 0, 1, 0, 0, 1, 1, 1, 1, 1, 1, 1, 0, 1, 1, 0, 1, 0, 1,\n",
      "       1, 1, 1, 1, 0, 0, 1, 0, 1, 1, 1, 0, 0, 1, 1, 1, 0, 1, 0, 1, 1, 1,\n",
      "       1, 1, 0, 1, 0, 0, 0, 0, 0, 1, 0, 1, 1, 1, 1, 0, 1, 1, 1, 1, 1, 1,\n",
      "       1, 0, 0, 0, 0, 1, 0, 1, 1, 1, 1, 0, 1, 0, 1, 1, 0, 1, 1, 1, 1, 1,\n",
      "       0, 0, 1, 0, 1, 1, 0, 1, 0, 0, 1, 1, 1, 0, 1, 1, 1, 1, 1, 1, 0, 1,\n",
      "       1, 1, 1, 0, 1, 0, 0, 0, 1, 0, 1, 1, 0, 1, 1, 1, 0, 1, 0, 0, 1, 1,\n",
      "       1, 0, 1, 1, 1, 1, 1, 1, 0, 0, 1, 0, 0, 1, 1, 0, 1, 0, 0, 0, 0, 1,\n",
      "       1, 1, 0, 1, 1, 1, 1, 1, 1, 1, 0, 0, 1, 1, 1, 1, 0, 0, 1, 1, 0, 1,\n",
      "       1, 1, 1, 0, 1, 1, 0, 0, 0, 0, 0, 0, 1, 0, 1, 1, 1, 1, 1, 0, 1, 1,\n",
      "       1, 1, 1, 1, 0, 0, 0, 0, 0, 0, 0, 1, 0, 0, 1, 0, 0, 0, 1, 1, 1, 0,\n",
      "       1, 0, 1, 1, 0, 0, 1, 1, 1, 1, 0, 0, 1, 1, 0, 0, 1, 1, 1, 0, 1, 1,\n",
      "       0, 1, 1, 0, 0, 1, 0, 1]), array([1, 0, 1, 1, 0, 1, 0, 0, 1, 1, 1, 0, 1, 1, 0, 0, 1, 1, 0, 1, 0, 1,\n",
      "       0, 1, 0, 1, 0, 0, 1, 0, 0, 0, 1, 0, 0, 1, 1, 1, 0, 0, 0, 1, 0, 0,\n",
      "       1, 1, 0, 1, 0, 0, 0, 0, 0, 0, 0, 1, 1, 1, 1, 0, 1, 1, 1, 1, 1, 1,\n",
      "       1, 0, 0, 0, 0, 1, 0, 1, 1, 1, 1, 0, 1, 0, 1, 1, 0, 1, 1, 1, 1, 1,\n",
      "       0, 0, 0, 0, 1, 1, 0, 1, 0, 0, 1, 1, 1, 0, 1, 1, 1, 1, 1, 1, 0, 1,\n",
      "       1, 0, 1, 0, 1, 0, 0, 0, 1, 0, 1, 1, 0, 1, 1, 1, 0, 1, 0, 0, 0, 1,\n",
      "       0, 0, 1, 0, 1, 1, 1, 1, 0, 0, 0, 0, 0, 1, 0, 0, 1, 0, 0, 0, 0, 1,\n",
      "       1, 1, 0, 1, 1, 0, 1, 1, 1, 1, 0, 0, 1, 1, 0, 0, 0, 0, 1, 0, 0, 1,\n",
      "       1, 1, 0, 0, 1, 0, 0, 0, 0, 0, 0, 0, 1, 0, 1, 0, 1, 1, 1, 0, 1, 1,\n",
      "       1, 0, 1, 1, 0, 0, 0, 0, 0, 0, 0, 1, 0, 0, 1, 0, 0, 0, 1, 1, 1, 0,\n",
      "       1, 0, 1, 1, 0, 0, 1, 0, 1, 1, 0, 0, 1, 1, 0, 0, 1, 0, 0, 0, 1, 1,\n",
      "       0, 1, 1, 0, 0, 1, 0, 1]), array([1, 0, 1, 1, 0, 1, 0, 0, 1, 1, 1, 0, 1, 1, 0, 0, 1, 1, 1, 1, 0, 1,\n",
      "       0, 1, 1, 1, 0, 0, 1, 0, 0, 1, 1, 0, 0, 1, 1, 1, 0, 1, 0, 1, 0, 1,\n",
      "       1, 1, 0, 1, 0, 0, 0, 0, 0, 0, 0, 1, 1, 1, 1, 0, 1, 1, 1, 1, 1, 1,\n",
      "       1, 0, 0, 0, 0, 1, 0, 1, 1, 1, 1, 0, 1, 0, 1, 1, 0, 1, 1, 1, 1, 1,\n",
      "       0, 0, 0, 0, 1, 1, 1, 1, 0, 0, 1, 1, 1, 0, 1, 1, 1, 1, 1, 1, 0, 1,\n",
      "       1, 0, 1, 0, 1, 1, 0, 0, 1, 0, 1, 1, 0, 1, 1, 1, 0, 1, 0, 0, 0, 1,\n",
      "       1, 0, 1, 1, 1, 1, 1, 1, 0, 0, 0, 0, 0, 1, 0, 1, 1, 1, 0, 0, 0, 1,\n",
      "       1, 1, 0, 1, 1, 0, 1, 1, 1, 1, 0, 0, 1, 1, 0, 1, 0, 0, 1, 1, 0, 1,\n",
      "       1, 1, 0, 1, 1, 1, 0, 0, 0, 0, 0, 0, 1, 0, 1, 0, 1, 1, 1, 0, 1, 1,\n",
      "       1, 1, 1, 1, 0, 0, 0, 0, 0, 0, 0, 1, 0, 0, 1, 0, 0, 0, 1, 1, 1, 0,\n",
      "       1, 0, 1, 1, 0, 0, 1, 1, 1, 1, 0, 0, 1, 1, 0, 0, 1, 0, 1, 0, 1, 1,\n",
      "       0, 1, 1, 0, 0, 1, 0, 1]), array([1, 0, 0, 1, 0, 0, 0, 0, 1, 1, 1, 0, 1, 1, 0, 0, 1, 0, 0, 1, 0, 1,\n",
      "       0, 0, 1, 1, 0, 0, 1, 0, 0, 1, 1, 0, 0, 0, 1, 1, 0, 0, 0, 1, 0, 1,\n",
      "       1, 1, 0, 1, 0, 0, 0, 0, 0, 0, 0, 1, 1, 1, 1, 0, 0, 1, 1, 1, 1, 1,\n",
      "       1, 0, 0, 0, 0, 1, 0, 1, 1, 1, 1, 0, 1, 0, 1, 1, 0, 1, 1, 1, 0, 1,\n",
      "       0, 0, 0, 0, 1, 1, 1, 1, 0, 0, 1, 1, 1, 0, 1, 1, 0, 0, 1, 1, 0, 1,\n",
      "       1, 0, 1, 0, 1, 0, 0, 0, 1, 0, 1, 0, 0, 1, 1, 1, 0, 0, 0, 0, 0, 1,\n",
      "       0, 0, 1, 1, 0, 1, 1, 1, 0, 0, 0, 0, 0, 1, 0, 0, 0, 0, 0, 0, 0, 1,\n",
      "       1, 1, 0, 1, 1, 0, 1, 0, 1, 1, 0, 0, 0, 1, 0, 0, 0, 0, 1, 0, 0, 1,\n",
      "       1, 1, 0, 1, 1, 0, 0, 0, 0, 0, 0, 0, 1, 0, 1, 0, 1, 1, 1, 0, 0, 1,\n",
      "       1, 0, 1, 1, 0, 0, 0, 0, 0, 0, 0, 1, 0, 0, 0, 0, 0, 0, 1, 1, 1, 0,\n",
      "       1, 0, 1, 0, 0, 0, 1, 1, 1, 1, 0, 0, 0, 1, 0, 0, 1, 0, 0, 0, 1, 0,\n",
      "       0, 1, 1, 0, 0, 1, 0, 1]), array([1, 0, 1, 1, 0, 1, 0, 1, 1, 1, 1, 1, 1, 1, 1, 0, 1, 0, 1, 1, 0, 1,\n",
      "       0, 0, 1, 1, 0, 0, 1, 0, 1, 1, 1, 0, 0, 1, 1, 1, 0, 1, 0, 1, 0, 1,\n",
      "       1, 1, 0, 1, 0, 0, 0, 0, 0, 0, 0, 1, 1, 1, 1, 0, 1, 1, 1, 1, 1, 1,\n",
      "       1, 0, 0, 0, 0, 1, 0, 1, 1, 1, 1, 0, 1, 0, 1, 1, 0, 1, 1, 1, 0, 1,\n",
      "       0, 0, 0, 0, 1, 1, 1, 1, 0, 0, 1, 1, 1, 0, 1, 1, 1, 0, 1, 1, 0, 1,\n",
      "       1, 0, 1, 0, 1, 1, 0, 0, 1, 0, 1, 0, 0, 1, 1, 1, 0, 1, 0, 0, 0, 1,\n",
      "       0, 0, 1, 1, 0, 1, 1, 1, 0, 0, 1, 0, 0, 1, 0, 1, 0, 1, 0, 0, 0, 1,\n",
      "       1, 1, 0, 1, 1, 0, 1, 1, 1, 1, 0, 0, 0, 1, 0, 1, 0, 0, 1, 1, 0, 1,\n",
      "       1, 1, 0, 1, 1, 0, 0, 0, 1, 0, 1, 1, 1, 0, 1, 0, 1, 1, 1, 0, 0, 1,\n",
      "       1, 0, 1, 1, 0, 0, 0, 0, 0, 0, 0, 1, 0, 0, 0, 1, 0, 0, 1, 1, 1, 0,\n",
      "       1, 0, 1, 1, 0, 0, 1, 1, 1, 1, 0, 0, 1, 1, 0, 0, 1, 0, 1, 0, 1, 1,\n",
      "       0, 1, 1, 0, 0, 1, 0, 1]), array([1, 0, 0, 1, 0, 1, 0, 1, 1, 1, 1, 0, 1, 1, 0, 0, 1, 0, 0, 1, 0, 1,\n",
      "       0, 0, 1, 1, 0, 0, 1, 0, 1, 1, 1, 0, 0, 1, 1, 1, 0, 0, 0, 1, 0, 1,\n",
      "       1, 1, 0, 1, 0, 0, 0, 0, 0, 0, 0, 0, 1, 1, 1, 0, 0, 1, 0, 1, 1, 1,\n",
      "       0, 0, 0, 0, 0, 1, 0, 0, 0, 1, 0, 0, 1, 0, 1, 1, 0, 1, 1, 1, 0, 1,\n",
      "       0, 0, 0, 0, 0, 0, 1, 1, 0, 0, 1, 1, 1, 0, 1, 1, 0, 0, 1, 1, 0, 1,\n",
      "       1, 0, 1, 0, 1, 1, 0, 0, 1, 0, 1, 0, 0, 1, 1, 1, 0, 0, 0, 0, 0, 1,\n",
      "       0, 0, 1, 1, 0, 1, 1, 1, 0, 0, 1, 0, 0, 1, 0, 1, 0, 0, 0, 0, 0, 1,\n",
      "       1, 1, 0, 1, 1, 0, 1, 0, 1, 1, 0, 0, 0, 1, 0, 1, 0, 0, 1, 1, 0, 1,\n",
      "       0, 1, 0, 0, 1, 0, 0, 0, 0, 0, 0, 1, 1, 0, 1, 0, 1, 1, 1, 0, 0, 1,\n",
      "       0, 0, 1, 1, 0, 0, 0, 0, 0, 0, 0, 1, 0, 0, 0, 0, 0, 0, 1, 1, 1, 0,\n",
      "       1, 0, 1, 0, 0, 0, 1, 1, 1, 1, 0, 0, 0, 1, 0, 0, 1, 0, 1, 0, 1, 1,\n",
      "       0, 1, 1, 0, 0, 1, 0, 1]), array([1, 0, 1, 1, 0, 1, 0, 1, 1, 1, 1, 1, 1, 1, 1, 0, 1, 0, 0, 1, 0, 1,\n",
      "       0, 0, 1, 1, 1, 0, 1, 0, 1, 1, 1, 0, 0, 1, 1, 1, 0, 1, 0, 1, 0, 1,\n",
      "       1, 1, 0, 1, 0, 0, 0, 0, 0, 0, 0, 0, 1, 1, 1, 0, 0, 1, 0, 1, 1, 1,\n",
      "       1, 0, 0, 0, 0, 1, 0, 1, 0, 1, 1, 1, 1, 0, 1, 1, 0, 1, 1, 1, 0, 1,\n",
      "       0, 0, 0, 0, 0, 0, 1, 1, 0, 0, 1, 1, 1, 0, 1, 1, 0, 0, 1, 1, 0, 1,\n",
      "       1, 0, 1, 0, 1, 1, 0, 0, 1, 0, 1, 0, 0, 1, 1, 1, 0, 0, 0, 0, 0, 1,\n",
      "       0, 0, 1, 1, 0, 1, 1, 1, 0, 0, 1, 0, 0, 1, 0, 1, 1, 0, 0, 0, 0, 1,\n",
      "       1, 1, 0, 1, 1, 0, 1, 0, 1, 1, 0, 0, 0, 1, 1, 1, 0, 0, 1, 1, 0, 1,\n",
      "       0, 1, 0, 0, 1, 0, 0, 0, 1, 0, 1, 1, 1, 0, 1, 0, 1, 1, 1, 0, 0, 1,\n",
      "       1, 0, 1, 1, 0, 0, 0, 0, 0, 0, 0, 1, 0, 0, 0, 1, 0, 0, 1, 1, 1, 0,\n",
      "       1, 0, 1, 1, 0, 0, 1, 1, 1, 1, 0, 0, 1, 1, 0, 0, 1, 0, 1, 0, 1, 1,\n",
      "       0, 1, 1, 0, 0, 1, 0, 1]), array([1, 0, 1, 1, 0, 1, 0, 1, 1, 1, 1, 0, 0, 1, 0, 0, 1, 0, 0, 0, 0, 1,\n",
      "       0, 0, 1, 1, 1, 0, 1, 0, 1, 1, 1, 0, 0, 1, 1, 1, 0, 0, 0, 1, 0, 0,\n",
      "       1, 1, 0, 1, 0, 0, 0, 0, 0, 0, 0, 0, 1, 1, 1, 0, 0, 1, 0, 1, 1, 1,\n",
      "       0, 0, 0, 0, 0, 1, 0, 0, 0, 1, 0, 1, 1, 0, 1, 1, 0, 0, 1, 1, 0, 1,\n",
      "       0, 0, 0, 0, 0, 0, 1, 1, 0, 0, 1, 1, 1, 0, 1, 1, 0, 0, 1, 1, 0, 1,\n",
      "       1, 0, 1, 0, 0, 1, 0, 0, 1, 0, 1, 0, 0, 1, 1, 1, 0, 0, 0, 0, 0, 1,\n",
      "       0, 0, 0, 1, 0, 1, 1, 1, 0, 0, 0, 0, 0, 1, 0, 1, 0, 0, 0, 0, 0, 1,\n",
      "       1, 1, 0, 1, 1, 0, 1, 0, 1, 1, 0, 0, 0, 1, 0, 1, 0, 0, 1, 1, 0, 1,\n",
      "       0, 1, 0, 0, 1, 0, 0, 0, 0, 0, 1, 1, 1, 0, 1, 0, 1, 1, 1, 0, 0, 1,\n",
      "       0, 0, 1, 1, 0, 0, 0, 0, 0, 0, 0, 1, 0, 0, 0, 0, 0, 0, 1, 1, 1, 0,\n",
      "       1, 0, 0, 1, 0, 0, 1, 0, 1, 1, 0, 0, 0, 1, 0, 0, 1, 0, 0, 0, 1, 1,\n",
      "       0, 1, 1, 0, 0, 1, 0, 1]), array([1, 0, 1, 1, 0, 1, 0, 1, 1, 1, 1, 1, 0, 1, 1, 0, 1, 0, 1, 0, 0, 1,\n",
      "       0, 1, 1, 1, 1, 0, 1, 0, 1, 1, 1, 0, 0, 1, 1, 1, 0, 1, 0, 1, 0, 0,\n",
      "       1, 1, 0, 1, 0, 0, 0, 0, 0, 0, 0, 0, 1, 1, 1, 0, 0, 1, 1, 1, 1, 1,\n",
      "       1, 0, 0, 0, 0, 1, 0, 0, 0, 1, 0, 1, 1, 0, 1, 1, 0, 1, 1, 1, 0, 1,\n",
      "       0, 0, 0, 0, 1, 0, 1, 1, 0, 0, 1, 1, 1, 0, 1, 1, 0, 0, 1, 1, 0, 1,\n",
      "       1, 0, 1, 0, 1, 1, 0, 0, 1, 0, 1, 1, 0, 1, 1, 1, 0, 0, 0, 0, 0, 1,\n",
      "       0, 0, 0, 1, 1, 1, 1, 1, 0, 0, 0, 0, 0, 1, 0, 1, 1, 0, 0, 0, 0, 1,\n",
      "       1, 1, 0, 1, 1, 0, 1, 0, 1, 1, 0, 0, 0, 1, 0, 1, 0, 0, 1, 1, 0, 1,\n",
      "       0, 1, 0, 0, 1, 0, 0, 0, 1, 0, 1, 1, 1, 0, 1, 0, 1, 1, 1, 0, 0, 1,\n",
      "       1, 0, 1, 1, 0, 0, 0, 0, 0, 0, 0, 1, 0, 0, 0, 0, 0, 0, 1, 1, 1, 0,\n",
      "       1, 0, 0, 1, 0, 0, 1, 0, 1, 1, 0, 0, 0, 1, 0, 0, 1, 0, 1, 0, 1, 1,\n",
      "       0, 1, 1, 0, 0, 1, 0, 1]), array([1, 0, 0, 0, 0, 0, 0, 1, 1, 1, 1, 0, 0, 1, 0, 0, 1, 0, 1, 0, 0, 1,\n",
      "       0, 1, 1, 1, 1, 0, 1, 0, 1, 1, 1, 0, 0, 1, 1, 0, 0, 0, 0, 1, 0, 0,\n",
      "       1, 1, 0, 1, 0, 0, 0, 0, 0, 0, 0, 0, 1, 1, 0, 0, 0, 1, 1, 1, 1, 1,\n",
      "       1, 0, 0, 0, 0, 1, 0, 0, 0, 1, 0, 1, 1, 0, 1, 1, 0, 0, 1, 1, 0, 1,\n",
      "       0, 0, 0, 0, 0, 0, 1, 1, 0, 0, 1, 1, 1, 0, 1, 1, 0, 0, 1, 1, 0, 0,\n",
      "       1, 0, 1, 0, 0, 1, 0, 0, 0, 0, 1, 0, 0, 0, 1, 1, 0, 0, 0, 0, 0, 1,\n",
      "       0, 0, 0, 1, 0, 0, 1, 1, 0, 0, 0, 0, 0, 1, 0, 1, 1, 0, 0, 0, 0, 1,\n",
      "       1, 1, 0, 1, 0, 0, 0, 0, 1, 1, 0, 0, 0, 0, 0, 1, 0, 0, 1, 1, 0, 1,\n",
      "       0, 1, 0, 0, 1, 0, 0, 0, 1, 0, 1, 1, 1, 0, 1, 0, 1, 1, 1, 0, 0, 1,\n",
      "       0, 0, 1, 1, 0, 0, 0, 0, 0, 0, 0, 1, 0, 0, 0, 0, 0, 0, 1, 1, 1, 0,\n",
      "       1, 0, 0, 1, 0, 0, 1, 0, 1, 0, 0, 0, 0, 1, 0, 0, 1, 0, 0, 0, 1, 1,\n",
      "       0, 1, 1, 0, 0, 1, 0, 1]), array([1, 0, 0, 1, 0, 0, 0, 1, 1, 1, 1, 1, 1, 1, 0, 0, 1, 0, 1, 0, 0, 1,\n",
      "       0, 1, 1, 1, 1, 0, 1, 0, 1, 1, 1, 0, 0, 1, 1, 0, 0, 0, 0, 1, 0, 1,\n",
      "       1, 1, 0, 1, 0, 0, 0, 0, 0, 0, 0, 0, 1, 1, 0, 0, 0, 1, 1, 1, 1, 1,\n",
      "       1, 0, 0, 0, 0, 1, 0, 0, 0, 1, 0, 1, 1, 0, 1, 1, 0, 1, 1, 1, 0, 1,\n",
      "       0, 0, 0, 0, 1, 0, 1, 1, 0, 0, 1, 1, 1, 0, 1, 1, 0, 0, 1, 1, 0, 0,\n",
      "       1, 0, 1, 0, 0, 1, 0, 0, 0, 0, 1, 1, 0, 0, 1, 1, 0, 0, 0, 0, 0, 1,\n",
      "       0, 0, 0, 1, 0, 0, 1, 1, 0, 0, 1, 0, 0, 1, 0, 1, 1, 0, 0, 1, 0, 1,\n",
      "       1, 1, 0, 1, 0, 0, 1, 0, 1, 1, 0, 0, 0, 0, 0, 1, 0, 0, 1, 1, 0, 1,\n",
      "       0, 1, 0, 0, 1, 1, 0, 0, 1, 0, 1, 1, 1, 0, 1, 0, 1, 1, 1, 0, 0, 1,\n",
      "       1, 0, 1, 1, 0, 0, 0, 0, 0, 0, 0, 1, 0, 0, 0, 1, 0, 0, 1, 1, 1, 0,\n",
      "       1, 0, 0, 1, 0, 0, 1, 0, 1, 1, 0, 0, 0, 1, 0, 0, 1, 0, 1, 0, 1, 1,\n",
      "       0, 1, 1, 0, 0, 1, 0, 1]), array([0, 0, 0, 0, 0, 0, 0, 1, 1, 1, 1, 1, 1, 1, 0, 0, 1, 0, 1, 0, 0, 1,\n",
      "       0, 1, 0, 1, 1, 0, 1, 0, 0, 0, 1, 0, 0, 1, 1, 0, 0, 0, 0, 1, 0, 1,\n",
      "       1, 1, 0, 1, 0, 0, 0, 0, 0, 0, 0, 0, 1, 1, 0, 0, 0, 1, 1, 1, 1, 1,\n",
      "       1, 0, 0, 0, 0, 1, 0, 0, 0, 0, 0, 1, 1, 0, 1, 1, 0, 0, 1, 1, 0, 1,\n",
      "       0, 0, 0, 0, 1, 0, 1, 1, 0, 0, 1, 1, 1, 0, 1, 0, 0, 0, 1, 1, 0, 0,\n",
      "       1, 0, 1, 0, 0, 1, 0, 0, 0, 0, 0, 0, 0, 0, 1, 1, 0, 0, 0, 0, 0, 1,\n",
      "       0, 0, 0, 1, 0, 0, 1, 1, 0, 0, 1, 0, 0, 1, 0, 1, 1, 0, 0, 0, 0, 1,\n",
      "       1, 1, 0, 1, 0, 0, 0, 0, 1, 0, 0, 0, 0, 0, 0, 1, 0, 0, 1, 1, 0, 1,\n",
      "       0, 1, 0, 0, 1, 0, 0, 0, 1, 0, 1, 1, 1, 0, 1, 0, 1, 1, 1, 0, 0, 1,\n",
      "       0, 0, 1, 1, 0, 0, 0, 0, 0, 0, 0, 1, 0, 0, 0, 1, 0, 0, 1, 1, 1, 0,\n",
      "       1, 0, 0, 1, 0, 0, 1, 0, 1, 1, 0, 0, 0, 1, 0, 0, 1, 0, 1, 0, 1, 1,\n",
      "       0, 1, 1, 0, 0, 1, 0, 1]), array([0, 0, 0, 1, 0, 0, 0, 1, 1, 1, 1, 1, 1, 1, 1, 0, 1, 0, 1, 0, 0, 1,\n",
      "       0, 1, 0, 1, 1, 0, 1, 0, 1, 0, 1, 0, 0, 1, 1, 0, 0, 0, 0, 1, 0, 1,\n",
      "       1, 1, 0, 1, 0, 0, 0, 0, 0, 0, 0, 0, 1, 1, 1, 0, 0, 1, 1, 1, 1, 1,\n",
      "       1, 0, 0, 0, 0, 1, 0, 0, 0, 1, 0, 1, 1, 0, 1, 1, 0, 1, 1, 1, 0, 1,\n",
      "       0, 0, 0, 0, 1, 0, 1, 1, 0, 0, 1, 1, 1, 0, 1, 1, 0, 0, 1, 1, 0, 0,\n",
      "       1, 0, 1, 0, 0, 1, 0, 0, 0, 0, 1, 0, 0, 0, 1, 1, 0, 0, 0, 0, 0, 1,\n",
      "       0, 0, 0, 1, 0, 0, 1, 1, 0, 0, 1, 0, 0, 1, 0, 1, 1, 0, 0, 0, 0, 1,\n",
      "       1, 1, 0, 1, 0, 0, 0, 0, 1, 0, 0, 0, 0, 0, 1, 1, 0, 0, 1, 1, 0, 1,\n",
      "       0, 1, 0, 0, 1, 1, 0, 0, 1, 0, 1, 1, 1, 0, 1, 0, 1, 1, 1, 0, 0, 1,\n",
      "       1, 0, 1, 1, 0, 0, 0, 0, 0, 0, 0, 1, 0, 0, 0, 1, 0, 0, 1, 1, 1, 1,\n",
      "       1, 0, 1, 1, 0, 0, 1, 0, 1, 1, 0, 0, 0, 1, 0, 1, 1, 0, 1, 0, 1, 1,\n",
      "       0, 1, 1, 0, 0, 1, 0, 1])]\n"
     ]
    }
   ],
   "source": [
    "# Assuming 'model' is a list of trained KNN models\n",
    "knn_y_pred = []\n",
    "\n",
    "for i in knnModel:\n",
    "    knn_model_ypred = i.predict(x_test)\n",
    "    knn_y_pred.append(knn_model_ypred)\n",
    "\n",
    "print(knn_y_pred)"
   ]
  },
  {
   "cell_type": "code",
   "execution_count": 70,
   "metadata": {},
   "outputs": [
    {
     "name": "stdout",
     "output_type": "stream",
     "text": [
      "Accuracy Scores:  [0.52, 0.552, 0.464, 0.52, 0.428, 0.512, 0.448, 0.492, 0.428, 0.476, 0.416, 0.452, 0.448, 0.472]\n",
      "Confusion Matrices:  [array([[ 24,  29],\n",
      "       [ 91, 106]]), array([[ 19,  34],\n",
      "       [ 78, 119]]), array([[ 22,  31],\n",
      "       [103,  94]]), array([[ 20,  33],\n",
      "       [ 87, 110]]), array([[ 24,  29],\n",
      "       [114,  83]]), array([[ 21,  32],\n",
      "       [ 90, 107]]), array([[ 26,  27],\n",
      "       [111,  86]]), array([[ 23,  30],\n",
      "       [ 97, 100]]), array([[ 26,  27],\n",
      "       [116,  81]]), array([[ 24,  29],\n",
      "       [102,  95]]), array([[ 28,  25],\n",
      "       [121,  76]]), array([[ 25,  28],\n",
      "       [109,  88]]), array([[ 32,  21],\n",
      "       [117,  80]]), array([[ 28,  25],\n",
      "       [107,  90]])]\n",
      "Precision Scores:  [0.49694041867954913, 0.4868270332187858, 0.46399999999999997, 0.4780733285406183, 0.45749223602484473, 0.4794866809255298, 0.4754214844002325, 0.48044871794871796, 0.4665492957746479, 0.4783026113671275, 0.4701973553060004, 0.4725939269171384, 0.5034221542959665, 0.49500805152979066]\n",
      "Recall Scores:  [0.4954506273345465, 0.48127573987165984, 0.44612585001436644, 0.46786706254190213, 0.43707499281678, 0.4696868116080835, 0.4635571305430514, 0.47078823867445646, 0.4508667752131022, 0.4675318456086582, 0.4570443444114548, 0.4591993104108802, 0.504932477732018, 0.49257733933531267]\n"
     ]
    }
   ],
   "source": [
    "# knnModel # knn_y_pred\n",
    "# accuracy,confussion_matrix, precision,recall\n",
    "knn_accuracy_score = []\n",
    "knn_confusion_matrix = []\n",
    "knn_precision_score = []\n",
    "knn_recall_score = []\n",
    "# Iterate over the models and their corresponding predictions\n",
    "for i, y_pred in zip(knnModel, knn_y_pred):\n",
    "    acc = accuracy_score(y_test, y_pred)\n",
    "    conf_matrix = confusion_matrix(y_test, y_pred)\n",
    "    precision = precision_score(y_test, y_pred, average='macro')  # Use average='macro' for multiclass\n",
    "    recall = recall_score(y_test, y_pred, average='macro')        # Use average='macro' for multiclass\n",
    "    \n",
    "    knn_accuracy_score.append(acc)\n",
    "    knn_confusion_matrix.append(conf_matrix)\n",
    "    knn_precision_score.append(precision)\n",
    "    knn_recall_score.append(recall)\n",
    "\n",
    "# Print the results\n",
    "print(\"Accuracy Scores: \", knn_accuracy_score)\n",
    "print(\"Confusion Matrices: \", knn_confusion_matrix)\n",
    "print(\"Precision Scores: \", knn_precision_score)\n",
    "print(\"Recall Scores: \", knn_recall_score)\n"
   ]
  },
  {
   "cell_type": "markdown",
   "metadata": {},
   "source": [
    "## 3. SVM"
   ]
  },
  {
   "cell_type": "code",
   "execution_count": 71,
   "metadata": {},
   "outputs": [
    {
     "name": "stdout",
     "output_type": "stream",
     "text": [
      "[SVC(C=1, kernel='linear'), SVC(C=1, kernel='poly'), SVC(C=1), SVC(C=1, kernel='sigmoid')]\n"
     ]
    }
   ],
   "source": [
    "from sklearn.svm import SVC\n",
    "\n",
    "kernel = ['linear','poly','rbf','sigmoid']\n",
    "svm_model =[]\n",
    "for i in kernel:\n",
    "    model = SVC(kernel=i,C=1)\n",
    "    svm_model.append(model)\n",
    "\n",
    "# model\n",
    "print(svm_model)"
   ]
  },
  {
   "cell_type": "code",
   "execution_count": 72,
   "metadata": {},
   "outputs": [
    {
     "name": "stdout",
     "output_type": "stream",
     "text": [
      "[SVC(C=1, kernel='linear'), SVC(C=1, kernel='poly'), SVC(C=1), SVC(C=1, kernel='sigmoid')]\n"
     ]
    }
   ],
   "source": [
    "svm_Model = []\n",
    "for i in svm_model:\n",
    "    models = i.fit(x_train_reshaped,y_train_reshaped)\n",
    "    svm_Model.append(models)\n",
    "#print(model)\n",
    "print(svm_Model)"
   ]
  },
  {
   "cell_type": "code",
   "execution_count": 73,
   "metadata": {},
   "outputs": [
    {
     "name": "stdout",
     "output_type": "stream",
     "text": [
      "[array([1, 0, 0, 1, 0, 1, 0, 0, 1, 1, 1, 1, 1, 1, 1, 0, 1, 1, 0, 1, 0, 1,\n",
      "       1, 1, 1, 1, 0, 0, 1, 0, 0, 0, 1, 0, 0, 0, 1, 1, 0, 0, 0, 1, 0, 1,\n",
      "       1, 1, 0, 1, 0, 0, 0, 0, 0, 1, 0, 1, 1, 1, 1, 0, 1, 0, 1, 1, 1, 1,\n",
      "       1, 0, 0, 0, 0, 1, 0, 1, 1, 1, 1, 0, 1, 0, 1, 1, 0, 0, 1, 1, 1, 1,\n",
      "       0, 0, 1, 0, 1, 1, 0, 1, 0, 0, 1, 1, 1, 0, 1, 1, 1, 1, 1, 1, 0, 1,\n",
      "       1, 1, 1, 0, 1, 0, 0, 0, 1, 0, 1, 1, 0, 1, 1, 1, 0, 1, 0, 0, 1, 1,\n",
      "       1, 0, 1, 0, 1, 1, 1, 1, 0, 0, 0, 0, 0, 1, 0, 0, 1, 0, 0, 0, 0, 1,\n",
      "       1, 1, 0, 1, 1, 1, 1, 0, 1, 1, 0, 0, 1, 1, 1, 0, 0, 0, 1, 1, 0, 1,\n",
      "       1, 1, 1, 0, 0, 0, 0, 0, 0, 0, 0, 0, 1, 0, 1, 1, 1, 1, 0, 0, 1, 1,\n",
      "       0, 1, 1, 1, 0, 0, 0, 0, 0, 0, 0, 1, 0, 0, 1, 0, 0, 0, 1, 1, 1, 0,\n",
      "       1, 0, 1, 1, 0, 0, 1, 1, 1, 1, 0, 0, 1, 1, 0, 0, 1, 1, 1, 0, 1, 0,\n",
      "       0, 1, 1, 0, 0, 1, 0, 1]), array([1, 0, 1, 1, 0, 1, 0, 0, 1, 1, 1, 1, 1, 1, 1, 0, 1, 1, 0, 1, 0, 1,\n",
      "       1, 1, 1, 1, 0, 0, 1, 0, 1, 1, 1, 0, 0, 1, 1, 1, 0, 1, 0, 1, 1, 1,\n",
      "       1, 1, 0, 1, 0, 0, 0, 0, 0, 1, 0, 1, 1, 1, 1, 0, 1, 1, 1, 1, 1, 1,\n",
      "       1, 0, 0, 0, 0, 1, 0, 1, 1, 1, 1, 0, 1, 0, 1, 1, 0, 1, 1, 1, 1, 1,\n",
      "       0, 0, 1, 0, 1, 1, 0, 1, 0, 0, 1, 1, 1, 0, 1, 1, 1, 1, 1, 1, 0, 1,\n",
      "       1, 1, 1, 0, 1, 0, 0, 0, 1, 0, 1, 1, 0, 1, 1, 1, 0, 1, 0, 0, 1, 1,\n",
      "       1, 0, 1, 1, 1, 1, 1, 1, 0, 0, 1, 0, 0, 1, 1, 0, 1, 0, 0, 0, 0, 1,\n",
      "       1, 1, 0, 1, 1, 1, 1, 1, 1, 1, 0, 0, 1, 1, 1, 1, 0, 0, 1, 1, 0, 1,\n",
      "       1, 1, 1, 0, 1, 1, 0, 0, 0, 0, 0, 0, 1, 0, 1, 1, 1, 1, 1, 0, 1, 1,\n",
      "       1, 1, 1, 1, 0, 0, 0, 0, 0, 0, 0, 1, 0, 0, 1, 0, 0, 0, 1, 1, 1, 0,\n",
      "       1, 0, 1, 1, 0, 0, 1, 1, 1, 1, 0, 0, 1, 1, 0, 0, 1, 1, 1, 0, 1, 1,\n",
      "       0, 1, 1, 0, 0, 1, 0, 1]), array([1, 0, 1, 1, 0, 1, 0, 0, 1, 1, 1, 0, 1, 1, 0, 0, 1, 1, 0, 1, 0, 1,\n",
      "       0, 1, 0, 1, 0, 0, 1, 0, 0, 0, 1, 0, 0, 1, 1, 1, 0, 0, 0, 1, 0, 0,\n",
      "       1, 1, 0, 1, 0, 0, 0, 0, 0, 0, 0, 1, 1, 1, 1, 0, 1, 1, 1, 1, 1, 1,\n",
      "       1, 0, 0, 0, 0, 1, 0, 1, 1, 1, 1, 0, 1, 0, 1, 1, 0, 1, 1, 1, 1, 1,\n",
      "       0, 0, 0, 0, 1, 1, 0, 1, 0, 0, 1, 1, 1, 0, 1, 1, 1, 1, 1, 1, 0, 1,\n",
      "       1, 0, 1, 0, 1, 0, 0, 0, 1, 0, 1, 1, 0, 1, 1, 1, 0, 1, 0, 0, 0, 1,\n",
      "       0, 0, 1, 0, 1, 1, 1, 1, 0, 0, 0, 0, 0, 1, 0, 0, 1, 0, 0, 0, 0, 1,\n",
      "       1, 1, 0, 1, 1, 0, 1, 1, 1, 1, 0, 0, 1, 1, 0, 0, 0, 0, 1, 0, 0, 1,\n",
      "       1, 1, 0, 0, 1, 0, 0, 0, 0, 0, 0, 0, 1, 0, 1, 0, 1, 1, 1, 0, 1, 1,\n",
      "       1, 0, 1, 1, 0, 0, 0, 0, 0, 0, 0, 1, 0, 0, 1, 0, 0, 0, 1, 1, 1, 0,\n",
      "       1, 0, 1, 1, 0, 0, 1, 0, 1, 1, 0, 0, 1, 1, 0, 0, 1, 0, 0, 0, 1, 1,\n",
      "       0, 1, 1, 0, 0, 1, 0, 1]), array([1, 0, 1, 1, 0, 1, 0, 0, 1, 1, 1, 0, 1, 1, 0, 0, 1, 1, 1, 1, 0, 1,\n",
      "       0, 1, 1, 1, 0, 0, 1, 0, 0, 1, 1, 0, 0, 1, 1, 1, 0, 1, 0, 1, 0, 1,\n",
      "       1, 1, 0, 1, 0, 0, 0, 0, 0, 0, 0, 1, 1, 1, 1, 0, 1, 1, 1, 1, 1, 1,\n",
      "       1, 0, 0, 0, 0, 1, 0, 1, 1, 1, 1, 0, 1, 0, 1, 1, 0, 1, 1, 1, 1, 1,\n",
      "       0, 0, 0, 0, 1, 1, 1, 1, 0, 0, 1, 1, 1, 0, 1, 1, 1, 1, 1, 1, 0, 1,\n",
      "       1, 0, 1, 0, 1, 1, 0, 0, 1, 0, 1, 1, 0, 1, 1, 1, 0, 1, 0, 0, 0, 1,\n",
      "       1, 0, 1, 1, 1, 1, 1, 1, 0, 0, 0, 0, 0, 1, 0, 1, 1, 1, 0, 0, 0, 1,\n",
      "       1, 1, 0, 1, 1, 0, 1, 1, 1, 1, 0, 0, 1, 1, 0, 1, 0, 0, 1, 1, 0, 1,\n",
      "       1, 1, 0, 1, 1, 1, 0, 0, 0, 0, 0, 0, 1, 0, 1, 0, 1, 1, 1, 0, 1, 1,\n",
      "       1, 1, 1, 1, 0, 0, 0, 0, 0, 0, 0, 1, 0, 0, 1, 0, 0, 0, 1, 1, 1, 0,\n",
      "       1, 0, 1, 1, 0, 0, 1, 1, 1, 1, 0, 0, 1, 1, 0, 0, 1, 0, 1, 0, 1, 1,\n",
      "       0, 1, 1, 0, 0, 1, 0, 1]), array([1, 0, 0, 1, 0, 0, 0, 0, 1, 1, 1, 0, 1, 1, 0, 0, 1, 0, 0, 1, 0, 1,\n",
      "       0, 0, 1, 1, 0, 0, 1, 0, 0, 1, 1, 0, 0, 0, 1, 1, 0, 0, 0, 1, 0, 1,\n",
      "       1, 1, 0, 1, 0, 0, 0, 0, 0, 0, 0, 1, 1, 1, 1, 0, 0, 1, 1, 1, 1, 1,\n",
      "       1, 0, 0, 0, 0, 1, 0, 1, 1, 1, 1, 0, 1, 0, 1, 1, 0, 1, 1, 1, 0, 1,\n",
      "       0, 0, 0, 0, 1, 1, 1, 1, 0, 0, 1, 1, 1, 0, 1, 1, 0, 0, 1, 1, 0, 1,\n",
      "       1, 0, 1, 0, 1, 0, 0, 0, 1, 0, 1, 0, 0, 1, 1, 1, 0, 0, 0, 0, 0, 1,\n",
      "       0, 0, 1, 1, 0, 1, 1, 1, 0, 0, 0, 0, 0, 1, 0, 0, 0, 0, 0, 0, 0, 1,\n",
      "       1, 1, 0, 1, 1, 0, 1, 0, 1, 1, 0, 0, 0, 1, 0, 0, 0, 0, 1, 0, 0, 1,\n",
      "       1, 1, 0, 1, 1, 0, 0, 0, 0, 0, 0, 0, 1, 0, 1, 0, 1, 1, 1, 0, 0, 1,\n",
      "       1, 0, 1, 1, 0, 0, 0, 0, 0, 0, 0, 1, 0, 0, 0, 0, 0, 0, 1, 1, 1, 0,\n",
      "       1, 0, 1, 0, 0, 0, 1, 1, 1, 1, 0, 0, 0, 1, 0, 0, 1, 0, 0, 0, 1, 0,\n",
      "       0, 1, 1, 0, 0, 1, 0, 1]), array([1, 0, 1, 1, 0, 1, 0, 1, 1, 1, 1, 1, 1, 1, 1, 0, 1, 0, 1, 1, 0, 1,\n",
      "       0, 0, 1, 1, 0, 0, 1, 0, 1, 1, 1, 0, 0, 1, 1, 1, 0, 1, 0, 1, 0, 1,\n",
      "       1, 1, 0, 1, 0, 0, 0, 0, 0, 0, 0, 1, 1, 1, 1, 0, 1, 1, 1, 1, 1, 1,\n",
      "       1, 0, 0, 0, 0, 1, 0, 1, 1, 1, 1, 0, 1, 0, 1, 1, 0, 1, 1, 1, 0, 1,\n",
      "       0, 0, 0, 0, 1, 1, 1, 1, 0, 0, 1, 1, 1, 0, 1, 1, 1, 0, 1, 1, 0, 1,\n",
      "       1, 0, 1, 0, 1, 1, 0, 0, 1, 0, 1, 0, 0, 1, 1, 1, 0, 1, 0, 0, 0, 1,\n",
      "       0, 0, 1, 1, 0, 1, 1, 1, 0, 0, 1, 0, 0, 1, 0, 1, 0, 1, 0, 0, 0, 1,\n",
      "       1, 1, 0, 1, 1, 0, 1, 1, 1, 1, 0, 0, 0, 1, 0, 1, 0, 0, 1, 1, 0, 1,\n",
      "       1, 1, 0, 1, 1, 0, 0, 0, 1, 0, 1, 1, 1, 0, 1, 0, 1, 1, 1, 0, 0, 1,\n",
      "       1, 0, 1, 1, 0, 0, 0, 0, 0, 0, 0, 1, 0, 0, 0, 1, 0, 0, 1, 1, 1, 0,\n",
      "       1, 0, 1, 1, 0, 0, 1, 1, 1, 1, 0, 0, 1, 1, 0, 0, 1, 0, 1, 0, 1, 1,\n",
      "       0, 1, 1, 0, 0, 1, 0, 1]), array([1, 0, 0, 1, 0, 1, 0, 1, 1, 1, 1, 0, 1, 1, 0, 0, 1, 0, 0, 1, 0, 1,\n",
      "       0, 0, 1, 1, 0, 0, 1, 0, 1, 1, 1, 0, 0, 1, 1, 1, 0, 0, 0, 1, 0, 1,\n",
      "       1, 1, 0, 1, 0, 0, 0, 0, 0, 0, 0, 0, 1, 1, 1, 0, 0, 1, 0, 1, 1, 1,\n",
      "       0, 0, 0, 0, 0, 1, 0, 0, 0, 1, 0, 0, 1, 0, 1, 1, 0, 1, 1, 1, 0, 1,\n",
      "       0, 0, 0, 0, 0, 0, 1, 1, 0, 0, 1, 1, 1, 0, 1, 1, 0, 0, 1, 1, 0, 1,\n",
      "       1, 0, 1, 0, 1, 1, 0, 0, 1, 0, 1, 0, 0, 1, 1, 1, 0, 0, 0, 0, 0, 1,\n",
      "       0, 0, 1, 1, 0, 1, 1, 1, 0, 0, 1, 0, 0, 1, 0, 1, 0, 0, 0, 0, 0, 1,\n",
      "       1, 1, 0, 1, 1, 0, 1, 0, 1, 1, 0, 0, 0, 1, 0, 1, 0, 0, 1, 1, 0, 1,\n",
      "       0, 1, 0, 0, 1, 0, 0, 0, 0, 0, 0, 1, 1, 0, 1, 0, 1, 1, 1, 0, 0, 1,\n",
      "       0, 0, 1, 1, 0, 0, 0, 0, 0, 0, 0, 1, 0, 0, 0, 0, 0, 0, 1, 1, 1, 0,\n",
      "       1, 0, 1, 0, 0, 0, 1, 1, 1, 1, 0, 0, 0, 1, 0, 0, 1, 0, 1, 0, 1, 1,\n",
      "       0, 1, 1, 0, 0, 1, 0, 1]), array([1, 0, 1, 1, 0, 1, 0, 1, 1, 1, 1, 1, 1, 1, 1, 0, 1, 0, 0, 1, 0, 1,\n",
      "       0, 0, 1, 1, 1, 0, 1, 0, 1, 1, 1, 0, 0, 1, 1, 1, 0, 1, 0, 1, 0, 1,\n",
      "       1, 1, 0, 1, 0, 0, 0, 0, 0, 0, 0, 0, 1, 1, 1, 0, 0, 1, 0, 1, 1, 1,\n",
      "       1, 0, 0, 0, 0, 1, 0, 1, 0, 1, 1, 1, 1, 0, 1, 1, 0, 1, 1, 1, 0, 1,\n",
      "       0, 0, 0, 0, 0, 0, 1, 1, 0, 0, 1, 1, 1, 0, 1, 1, 0, 0, 1, 1, 0, 1,\n",
      "       1, 0, 1, 0, 1, 1, 0, 0, 1, 0, 1, 0, 0, 1, 1, 1, 0, 0, 0, 0, 0, 1,\n",
      "       0, 0, 1, 1, 0, 1, 1, 1, 0, 0, 1, 0, 0, 1, 0, 1, 1, 0, 0, 0, 0, 1,\n",
      "       1, 1, 0, 1, 1, 0, 1, 0, 1, 1, 0, 0, 0, 1, 1, 1, 0, 0, 1, 1, 0, 1,\n",
      "       0, 1, 0, 0, 1, 0, 0, 0, 1, 0, 1, 1, 1, 0, 1, 0, 1, 1, 1, 0, 0, 1,\n",
      "       1, 0, 1, 1, 0, 0, 0, 0, 0, 0, 0, 1, 0, 0, 0, 1, 0, 0, 1, 1, 1, 0,\n",
      "       1, 0, 1, 1, 0, 0, 1, 1, 1, 1, 0, 0, 1, 1, 0, 0, 1, 0, 1, 0, 1, 1,\n",
      "       0, 1, 1, 0, 0, 1, 0, 1]), array([1, 0, 1, 1, 0, 1, 0, 1, 1, 1, 1, 0, 0, 1, 0, 0, 1, 0, 0, 0, 0, 1,\n",
      "       0, 0, 1, 1, 1, 0, 1, 0, 1, 1, 1, 0, 0, 1, 1, 1, 0, 0, 0, 1, 0, 0,\n",
      "       1, 1, 0, 1, 0, 0, 0, 0, 0, 0, 0, 0, 1, 1, 1, 0, 0, 1, 0, 1, 1, 1,\n",
      "       0, 0, 0, 0, 0, 1, 0, 0, 0, 1, 0, 1, 1, 0, 1, 1, 0, 0, 1, 1, 0, 1,\n",
      "       0, 0, 0, 0, 0, 0, 1, 1, 0, 0, 1, 1, 1, 0, 1, 1, 0, 0, 1, 1, 0, 1,\n",
      "       1, 0, 1, 0, 0, 1, 0, 0, 1, 0, 1, 0, 0, 1, 1, 1, 0, 0, 0, 0, 0, 1,\n",
      "       0, 0, 0, 1, 0, 1, 1, 1, 0, 0, 0, 0, 0, 1, 0, 1, 0, 0, 0, 0, 0, 1,\n",
      "       1, 1, 0, 1, 1, 0, 1, 0, 1, 1, 0, 0, 0, 1, 0, 1, 0, 0, 1, 1, 0, 1,\n",
      "       0, 1, 0, 0, 1, 0, 0, 0, 0, 0, 1, 1, 1, 0, 1, 0, 1, 1, 1, 0, 0, 1,\n",
      "       0, 0, 1, 1, 0, 0, 0, 0, 0, 0, 0, 1, 0, 0, 0, 0, 0, 0, 1, 1, 1, 0,\n",
      "       1, 0, 0, 1, 0, 0, 1, 0, 1, 1, 0, 0, 0, 1, 0, 0, 1, 0, 0, 0, 1, 1,\n",
      "       0, 1, 1, 0, 0, 1, 0, 1]), array([1, 0, 1, 1, 0, 1, 0, 1, 1, 1, 1, 1, 0, 1, 1, 0, 1, 0, 1, 0, 0, 1,\n",
      "       0, 1, 1, 1, 1, 0, 1, 0, 1, 1, 1, 0, 0, 1, 1, 1, 0, 1, 0, 1, 0, 0,\n",
      "       1, 1, 0, 1, 0, 0, 0, 0, 0, 0, 0, 0, 1, 1, 1, 0, 0, 1, 1, 1, 1, 1,\n",
      "       1, 0, 0, 0, 0, 1, 0, 0, 0, 1, 0, 1, 1, 0, 1, 1, 0, 1, 1, 1, 0, 1,\n",
      "       0, 0, 0, 0, 1, 0, 1, 1, 0, 0, 1, 1, 1, 0, 1, 1, 0, 0, 1, 1, 0, 1,\n",
      "       1, 0, 1, 0, 1, 1, 0, 0, 1, 0, 1, 1, 0, 1, 1, 1, 0, 0, 0, 0, 0, 1,\n",
      "       0, 0, 0, 1, 1, 1, 1, 1, 0, 0, 0, 0, 0, 1, 0, 1, 1, 0, 0, 0, 0, 1,\n",
      "       1, 1, 0, 1, 1, 0, 1, 0, 1, 1, 0, 0, 0, 1, 0, 1, 0, 0, 1, 1, 0, 1,\n",
      "       0, 1, 0, 0, 1, 0, 0, 0, 1, 0, 1, 1, 1, 0, 1, 0, 1, 1, 1, 0, 0, 1,\n",
      "       1, 0, 1, 1, 0, 0, 0, 0, 0, 0, 0, 1, 0, 0, 0, 0, 0, 0, 1, 1, 1, 0,\n",
      "       1, 0, 0, 1, 0, 0, 1, 0, 1, 1, 0, 0, 0, 1, 0, 0, 1, 0, 1, 0, 1, 1,\n",
      "       0, 1, 1, 0, 0, 1, 0, 1]), array([1, 0, 0, 0, 0, 0, 0, 1, 1, 1, 1, 0, 0, 1, 0, 0, 1, 0, 1, 0, 0, 1,\n",
      "       0, 1, 1, 1, 1, 0, 1, 0, 1, 1, 1, 0, 0, 1, 1, 0, 0, 0, 0, 1, 0, 0,\n",
      "       1, 1, 0, 1, 0, 0, 0, 0, 0, 0, 0, 0, 1, 1, 0, 0, 0, 1, 1, 1, 1, 1,\n",
      "       1, 0, 0, 0, 0, 1, 0, 0, 0, 1, 0, 1, 1, 0, 1, 1, 0, 0, 1, 1, 0, 1,\n",
      "       0, 0, 0, 0, 0, 0, 1, 1, 0, 0, 1, 1, 1, 0, 1, 1, 0, 0, 1, 1, 0, 0,\n",
      "       1, 0, 1, 0, 0, 1, 0, 0, 0, 0, 1, 0, 0, 0, 1, 1, 0, 0, 0, 0, 0, 1,\n",
      "       0, 0, 0, 1, 0, 0, 1, 1, 0, 0, 0, 0, 0, 1, 0, 1, 1, 0, 0, 0, 0, 1,\n",
      "       1, 1, 0, 1, 0, 0, 0, 0, 1, 1, 0, 0, 0, 0, 0, 1, 0, 0, 1, 1, 0, 1,\n",
      "       0, 1, 0, 0, 1, 0, 0, 0, 1, 0, 1, 1, 1, 0, 1, 0, 1, 1, 1, 0, 0, 1,\n",
      "       0, 0, 1, 1, 0, 0, 0, 0, 0, 0, 0, 1, 0, 0, 0, 0, 0, 0, 1, 1, 1, 0,\n",
      "       1, 0, 0, 1, 0, 0, 1, 0, 1, 0, 0, 0, 0, 1, 0, 0, 1, 0, 0, 0, 1, 1,\n",
      "       0, 1, 1, 0, 0, 1, 0, 1]), array([1, 0, 0, 1, 0, 0, 0, 1, 1, 1, 1, 1, 1, 1, 0, 0, 1, 0, 1, 0, 0, 1,\n",
      "       0, 1, 1, 1, 1, 0, 1, 0, 1, 1, 1, 0, 0, 1, 1, 0, 0, 0, 0, 1, 0, 1,\n",
      "       1, 1, 0, 1, 0, 0, 0, 0, 0, 0, 0, 0, 1, 1, 0, 0, 0, 1, 1, 1, 1, 1,\n",
      "       1, 0, 0, 0, 0, 1, 0, 0, 0, 1, 0, 1, 1, 0, 1, 1, 0, 1, 1, 1, 0, 1,\n",
      "       0, 0, 0, 0, 1, 0, 1, 1, 0, 0, 1, 1, 1, 0, 1, 1, 0, 0, 1, 1, 0, 0,\n",
      "       1, 0, 1, 0, 0, 1, 0, 0, 0, 0, 1, 1, 0, 0, 1, 1, 0, 0, 0, 0, 0, 1,\n",
      "       0, 0, 0, 1, 0, 0, 1, 1, 0, 0, 1, 0, 0, 1, 0, 1, 1, 0, 0, 1, 0, 1,\n",
      "       1, 1, 0, 1, 0, 0, 1, 0, 1, 1, 0, 0, 0, 0, 0, 1, 0, 0, 1, 1, 0, 1,\n",
      "       0, 1, 0, 0, 1, 1, 0, 0, 1, 0, 1, 1, 1, 0, 1, 0, 1, 1, 1, 0, 0, 1,\n",
      "       1, 0, 1, 1, 0, 0, 0, 0, 0, 0, 0, 1, 0, 0, 0, 1, 0, 0, 1, 1, 1, 0,\n",
      "       1, 0, 0, 1, 0, 0, 1, 0, 1, 1, 0, 0, 0, 1, 0, 0, 1, 0, 1, 0, 1, 1,\n",
      "       0, 1, 1, 0, 0, 1, 0, 1]), array([0, 0, 0, 0, 0, 0, 0, 1, 1, 1, 1, 1, 1, 1, 0, 0, 1, 0, 1, 0, 0, 1,\n",
      "       0, 1, 0, 1, 1, 0, 1, 0, 0, 0, 1, 0, 0, 1, 1, 0, 0, 0, 0, 1, 0, 1,\n",
      "       1, 1, 0, 1, 0, 0, 0, 0, 0, 0, 0, 0, 1, 1, 0, 0, 0, 1, 1, 1, 1, 1,\n",
      "       1, 0, 0, 0, 0, 1, 0, 0, 0, 0, 0, 1, 1, 0, 1, 1, 0, 0, 1, 1, 0, 1,\n",
      "       0, 0, 0, 0, 1, 0, 1, 1, 0, 0, 1, 1, 1, 0, 1, 0, 0, 0, 1, 1, 0, 0,\n",
      "       1, 0, 1, 0, 0, 1, 0, 0, 0, 0, 0, 0, 0, 0, 1, 1, 0, 0, 0, 0, 0, 1,\n",
      "       0, 0, 0, 1, 0, 0, 1, 1, 0, 0, 1, 0, 0, 1, 0, 1, 1, 0, 0, 0, 0, 1,\n",
      "       1, 1, 0, 1, 0, 0, 0, 0, 1, 0, 0, 0, 0, 0, 0, 1, 0, 0, 1, 1, 0, 1,\n",
      "       0, 1, 0, 0, 1, 0, 0, 0, 1, 0, 1, 1, 1, 0, 1, 0, 1, 1, 1, 0, 0, 1,\n",
      "       0, 0, 1, 1, 0, 0, 0, 0, 0, 0, 0, 1, 0, 0, 0, 1, 0, 0, 1, 1, 1, 0,\n",
      "       1, 0, 0, 1, 0, 0, 1, 0, 1, 1, 0, 0, 0, 1, 0, 0, 1, 0, 1, 0, 1, 1,\n",
      "       0, 1, 1, 0, 0, 1, 0, 1]), array([0, 0, 0, 1, 0, 0, 0, 1, 1, 1, 1, 1, 1, 1, 1, 0, 1, 0, 1, 0, 0, 1,\n",
      "       0, 1, 0, 1, 1, 0, 1, 0, 1, 0, 1, 0, 0, 1, 1, 0, 0, 0, 0, 1, 0, 1,\n",
      "       1, 1, 0, 1, 0, 0, 0, 0, 0, 0, 0, 0, 1, 1, 1, 0, 0, 1, 1, 1, 1, 1,\n",
      "       1, 0, 0, 0, 0, 1, 0, 0, 0, 1, 0, 1, 1, 0, 1, 1, 0, 1, 1, 1, 0, 1,\n",
      "       0, 0, 0, 0, 1, 0, 1, 1, 0, 0, 1, 1, 1, 0, 1, 1, 0, 0, 1, 1, 0, 0,\n",
      "       1, 0, 1, 0, 0, 1, 0, 0, 0, 0, 1, 0, 0, 0, 1, 1, 0, 0, 0, 0, 0, 1,\n",
      "       0, 0, 0, 1, 0, 0, 1, 1, 0, 0, 1, 0, 0, 1, 0, 1, 1, 0, 0, 0, 0, 1,\n",
      "       1, 1, 0, 1, 0, 0, 0, 0, 1, 0, 0, 0, 0, 0, 1, 1, 0, 0, 1, 1, 0, 1,\n",
      "       0, 1, 0, 0, 1, 1, 0, 0, 1, 0, 1, 1, 1, 0, 1, 0, 1, 1, 1, 0, 0, 1,\n",
      "       1, 0, 1, 1, 0, 0, 0, 0, 0, 0, 0, 1, 0, 0, 0, 1, 0, 0, 1, 1, 1, 1,\n",
      "       1, 0, 1, 1, 0, 0, 1, 0, 1, 1, 0, 0, 0, 1, 0, 1, 1, 0, 1, 0, 1, 1,\n",
      "       0, 1, 1, 0, 0, 1, 0, 1])]\n"
     ]
    }
   ],
   "source": [
    "# Assuming 'model' is a list of trained KNN models\n",
    "svm_y_pred = []\n",
    "\n",
    "for i in knnModel:\n",
    "    svm_model_ypred = i.predict(x_test)\n",
    "    svm_y_pred.append(svm_model_ypred)\n",
    "\n",
    "print(svm_y_pred)"
   ]
  },
  {
   "cell_type": "code",
   "execution_count": 74,
   "metadata": {},
   "outputs": [
    {
     "name": "stdout",
     "output_type": "stream",
     "text": [
      "Accuracy Scores:  [0.52, 0.552, 0.464, 0.52]\n",
      "Confusion Matrices:  [array([[ 24,  29],\n",
      "       [ 91, 106]]), array([[ 19,  34],\n",
      "       [ 78, 119]]), array([[ 22,  31],\n",
      "       [103,  94]]), array([[ 20,  33],\n",
      "       [ 87, 110]])]\n",
      "Precision Scores:  [0.49694041867954913, 0.4868270332187858, 0.46399999999999997, 0.4780733285406183]\n",
      "Recall Scores:  [0.4954506273345465, 0.48127573987165984, 0.44612585001436644, 0.46786706254190213]\n"
     ]
    }
   ],
   "source": [
    "# knnModel # knn_y_pred\n",
    "# accuracy,confussion_matrix, precision,recall\n",
    "svm_accuracy_score = []\n",
    "svm_confusion_matrix = []\n",
    "svm_precision_score = []\n",
    "svm_recall_score = []\n",
    "# Iterate over the models and their corresponding predictions\n",
    "for i, y_pred in zip(svm_Model, svm_y_pred):\n",
    "    acc = accuracy_score(y_test, y_pred)\n",
    "    conf_matrix = confusion_matrix(y_test, y_pred)\n",
    "    precision = precision_score(y_test, y_pred, average='macro')  # Use average='macro' for multiclass\n",
    "    recall = recall_score(y_test, y_pred, average='macro')        # Use average='macro' for multiclass\n",
    "    \n",
    "    svm_accuracy_score.append(acc)\n",
    "    svm_confusion_matrix.append(conf_matrix)\n",
    "    svm_precision_score.append(precision)\n",
    "    svm_recall_score.append(recall)\n",
    "\n",
    "# Print the results\n",
    "print(\"Accuracy Scores: \", svm_accuracy_score)\n",
    "print(\"Confusion Matrices: \", svm_confusion_matrix)\n",
    "print(\"Precision Scores: \", svm_precision_score)\n",
    "print(\"Recall Scores: \", svm_recall_score)\n"
   ]
  },
  {
   "cell_type": "markdown",
   "metadata": {},
   "source": [
    "## 4. Decision Tree"
   ]
  },
  {
   "cell_type": "code",
   "execution_count": 75,
   "metadata": {},
   "outputs": [
    {
     "name": "stdout",
     "output_type": "stream",
     "text": [
      "[DecisionTreeClassifier(max_depth=5, random_state=0), DecisionTreeClassifier(criterion='entropy', max_depth=5, random_state=0)]\n"
     ]
    }
   ],
   "source": [
    "from sklearn.tree import  DecisionTreeClassifier\n",
    "\n",
    "model = []\n",
    "criterion = ['gini','entropy']\n",
    "for i in criterion:\n",
    "    tree = DecisionTreeClassifier(criterion=i,max_depth=5,random_state=0)\n",
    "    model.append(tree)\n",
    "\n",
    "#print(tree)\n",
    "print(model)"
   ]
  },
  {
   "cell_type": "code",
   "execution_count": 76,
   "metadata": {},
   "outputs": [
    {
     "name": "stdout",
     "output_type": "stream",
     "text": [
      "[DecisionTreeClassifier(max_depth=5, random_state=0), DecisionTreeClassifier(criterion='entropy', max_depth=5, random_state=0)]\n"
     ]
    }
   ],
   "source": [
    "tree_Model = []\n",
    "for i in model:\n",
    "    models = i.fit(x_train_reshaped,y_train_reshaped)\n",
    "    tree_Model.append(models)\n",
    "#print(model)\n",
    "print(tree_Model)"
   ]
  },
  {
   "cell_type": "code",
   "execution_count": 77,
   "metadata": {},
   "outputs": [
    {
     "name": "stdout",
     "output_type": "stream",
     "text": [
      "[array([1, 1, 0, 0, 1, 0, 0, 1, 1, 0, 1, 0, 1, 1, 1, 1, 1, 0, 1, 1, 1, 1,\n",
      "       1, 1, 0, 1, 1, 0, 1, 0, 0, 0, 1, 1, 0, 1, 1, 0, 1, 1, 1, 1, 0, 0,\n",
      "       1, 0, 1, 1, 0, 0, 1, 1, 1, 1, 1, 1, 1, 0, 1, 1, 1, 1, 1, 0, 1, 0,\n",
      "       1, 0, 0, 0, 1, 1, 0, 0, 1, 1, 1, 0, 1, 0, 0, 1, 0, 0, 1, 1, 0, 1,\n",
      "       0, 1, 0, 1, 0, 1, 0, 1, 1, 1, 1, 1, 1, 0, 0, 1, 1, 1, 0, 1, 0, 0,\n",
      "       0, 1, 1, 0, 1, 1, 0, 0, 0, 1, 0, 1, 0, 1, 0, 1, 0, 1, 1, 1, 1, 0,\n",
      "       1, 0, 1, 0, 0, 0, 1, 1, 0, 1, 0, 0, 0, 1, 1, 0, 0, 1, 0, 1, 1, 0,\n",
      "       0, 1, 0, 1, 0, 1, 0, 0, 1, 1, 1, 0, 0, 1, 1, 0, 0, 0, 1, 1, 0, 1,\n",
      "       1, 1, 0, 0, 0, 0, 1, 0, 0, 0, 0, 1, 0, 0, 1, 1, 0, 0, 1, 0, 0, 0,\n",
      "       0, 0, 1, 0, 1, 0, 1, 0, 1, 0, 1, 0, 0, 1, 0, 0, 0, 0, 1, 0, 1, 0,\n",
      "       0, 0, 0, 0, 1, 1, 0, 1, 0, 1, 0, 1, 1, 1, 0, 1, 0, 0, 1, 1, 0, 1,\n",
      "       1, 0, 0, 1, 1, 1, 1, 1]), array([1, 1, 0, 0, 0, 0, 0, 1, 1, 1, 1, 0, 1, 1, 1, 1, 1, 0, 1, 1, 1, 1,\n",
      "       1, 1, 1, 1, 1, 0, 1, 0, 0, 0, 1, 0, 0, 0, 1, 0, 1, 1, 1, 1, 0, 0,\n",
      "       1, 0, 1, 1, 0, 0, 1, 1, 1, 1, 1, 0, 1, 0, 1, 1, 1, 1, 1, 1, 1, 0,\n",
      "       0, 0, 1, 0, 1, 1, 0, 0, 1, 1, 1, 0, 1, 0, 0, 1, 0, 0, 1, 1, 0, 1,\n",
      "       0, 1, 0, 1, 0, 1, 0, 1, 1, 1, 1, 1, 1, 0, 0, 1, 1, 1, 1, 1, 1, 1,\n",
      "       0, 1, 1, 0, 0, 1, 0, 0, 0, 1, 0, 1, 0, 1, 0, 1, 0, 1, 1, 1, 1, 0,\n",
      "       1, 1, 1, 0, 0, 0, 1, 1, 0, 0, 1, 0, 0, 1, 1, 0, 0, 0, 0, 1, 1, 0,\n",
      "       0, 1, 0, 1, 0, 1, 0, 0, 1, 1, 1, 0, 0, 1, 1, 0, 0, 0, 1, 1, 0, 0,\n",
      "       1, 1, 1, 0, 0, 0, 1, 0, 0, 0, 0, 1, 0, 0, 1, 1, 0, 0, 1, 0, 0, 0,\n",
      "       0, 0, 0, 0, 1, 0, 1, 0, 1, 0, 0, 0, 0, 1, 1, 0, 0, 0, 1, 0, 1, 0,\n",
      "       1, 0, 0, 0, 1, 1, 1, 1, 0, 1, 0, 1, 1, 1, 0, 1, 0, 0, 1, 1, 0, 1,\n",
      "       0, 0, 1, 1, 1, 1, 0, 0])]\n"
     ]
    }
   ],
   "source": [
    "# Assuming 'model' is a list of trained tree models\n",
    "tree_y_pred = []\n",
    "\n",
    "for i in tree_Model:\n",
    "    tree_model_ypred = i.predict(x_test)\n",
    "    tree_y_pred.append(tree_model_ypred)\n",
    "\n",
    "print(tree_y_pred)"
   ]
  },
  {
   "cell_type": "code",
   "execution_count": 88,
   "metadata": {},
   "outputs": [
    {
     "name": "stdout",
     "output_type": "stream",
     "text": [
      "Feature Importances:\n",
      "                  feature  importance\n",
      "4                Location    0.314213\n",
      "7   Existing_Loan_Balance    0.209863\n",
      "10   Loan_Duration_Months    0.162178\n",
      "9           Interest_Rate    0.114410\n",
      "0                     Age    0.057011\n",
      "5            Credit_Score    0.051600\n",
      "8             Loan_Amount    0.032785\n",
      "2                  Income    0.032028\n",
      "3       Employment_Status    0.025912\n",
      "1                  Gender    0.000000\n",
      "6    Debt_to_Income_Ratio    0.000000\n"
     ]
    }
   ],
   "source": [
    "feature_select = tree_Model[0].feature_importances_\n",
    "feature_importance_df = pd.DataFrame({\n",
    "    'feature': x.columns,\n",
    "    'importance': feature_select\n",
    "})\n",
    "# Sort the features by importance\n",
    "feature_importance_df = feature_importance_df.sort_values(by='importance', ascending=False)\n",
    "\n",
    "print(\"Feature Importances:\")\n",
    "print(feature_importance_df)"
   ]
  },
  {
   "cell_type": "code",
   "execution_count": 78,
   "metadata": {},
   "outputs": [
    {
     "name": "stdout",
     "output_type": "stream",
     "text": [
      "Accuracy Scores:  [0.496, 0.52]\n",
      "Confusion Matrices:  [array([[ 22,  31],\n",
      "       [ 95, 102]]), array([[ 25,  28],\n",
      "       [ 92, 105]])]\n",
      "Precision Scores:  [0.47747574063363535, 0.50157444894287]\n",
      "Recall Scores:  [0.46643041854228523, 0.5023465185327076]\n"
     ]
    }
   ],
   "source": [
    "# knnModel # knn_y_pred\n",
    "# accuracy,confussion_matrix, precision,recall\n",
    "tree_accuracy_score = []\n",
    "tree_confusion_matrix = []\n",
    "tree_precision_score = []\n",
    "tree_recall_score = []\n",
    "# Iterate over the models and their corresponding predictions\n",
    "for i, y_pred in zip(tree_Model, tree_y_pred):\n",
    "    acc = accuracy_score(y_test, y_pred)\n",
    "    conf_matrix = confusion_matrix(y_test, y_pred)\n",
    "    precision = precision_score(y_test, y_pred, average='macro')  # Use average='macro' for multiclass\n",
    "    recall = recall_score(y_test, y_pred, average='macro')        # Use average='macro' for multiclass\n",
    "    \n",
    "    tree_accuracy_score.append(acc)\n",
    "    tree_confusion_matrix.append(conf_matrix)\n",
    "    tree_precision_score.append(precision)\n",
    "    tree_recall_score.append(recall)\n",
    "\n",
    "# Print the results\n",
    "print(\"Accuracy Scores: \", tree_accuracy_score)\n",
    "print(\"Confusion Matrices: \", tree_confusion_matrix)\n",
    "print(\"Precision Scores: \", tree_precision_score)\n",
    "print(\"Recall Scores: \", tree_recall_score)"
   ]
  },
  {
   "cell_type": "markdown",
   "metadata": {},
   "source": [
    "## 5. Random Forest"
   ]
  },
  {
   "cell_type": "code",
   "execution_count": 79,
   "metadata": {},
   "outputs": [],
   "source": [
    "from sklearn.ensemble import RandomForestClassifier"
   ]
  },
  {
   "cell_type": "code",
   "execution_count": 80,
   "metadata": {},
   "outputs": [],
   "source": [
    "random_model  = RandomForestClassifier(n_estimators=5,max_depth=6)"
   ]
  },
  {
   "cell_type": "code",
   "execution_count": 81,
   "metadata": {},
   "outputs": [
    {
     "data": {
      "text/html": [
       "<style>#sk-container-id-2 {color: black;}#sk-container-id-2 pre{padding: 0;}#sk-container-id-2 div.sk-toggleable {background-color: white;}#sk-container-id-2 label.sk-toggleable__label {cursor: pointer;display: block;width: 100%;margin-bottom: 0;padding: 0.3em;box-sizing: border-box;text-align: center;}#sk-container-id-2 label.sk-toggleable__label-arrow:before {content: \"▸\";float: left;margin-right: 0.25em;color: #696969;}#sk-container-id-2 label.sk-toggleable__label-arrow:hover:before {color: black;}#sk-container-id-2 div.sk-estimator:hover label.sk-toggleable__label-arrow:before {color: black;}#sk-container-id-2 div.sk-toggleable__content {max-height: 0;max-width: 0;overflow: hidden;text-align: left;background-color: #f0f8ff;}#sk-container-id-2 div.sk-toggleable__content pre {margin: 0.2em;color: black;border-radius: 0.25em;background-color: #f0f8ff;}#sk-container-id-2 input.sk-toggleable__control:checked~div.sk-toggleable__content {max-height: 200px;max-width: 100%;overflow: auto;}#sk-container-id-2 input.sk-toggleable__control:checked~label.sk-toggleable__label-arrow:before {content: \"▾\";}#sk-container-id-2 div.sk-estimator input.sk-toggleable__control:checked~label.sk-toggleable__label {background-color: #d4ebff;}#sk-container-id-2 div.sk-label input.sk-toggleable__control:checked~label.sk-toggleable__label {background-color: #d4ebff;}#sk-container-id-2 input.sk-hidden--visually {border: 0;clip: rect(1px 1px 1px 1px);clip: rect(1px, 1px, 1px, 1px);height: 1px;margin: -1px;overflow: hidden;padding: 0;position: absolute;width: 1px;}#sk-container-id-2 div.sk-estimator {font-family: monospace;background-color: #f0f8ff;border: 1px dotted black;border-radius: 0.25em;box-sizing: border-box;margin-bottom: 0.5em;}#sk-container-id-2 div.sk-estimator:hover {background-color: #d4ebff;}#sk-container-id-2 div.sk-parallel-item::after {content: \"\";width: 100%;border-bottom: 1px solid gray;flex-grow: 1;}#sk-container-id-2 div.sk-label:hover label.sk-toggleable__label {background-color: #d4ebff;}#sk-container-id-2 div.sk-serial::before {content: \"\";position: absolute;border-left: 1px solid gray;box-sizing: border-box;top: 0;bottom: 0;left: 50%;z-index: 0;}#sk-container-id-2 div.sk-serial {display: flex;flex-direction: column;align-items: center;background-color: white;padding-right: 0.2em;padding-left: 0.2em;position: relative;}#sk-container-id-2 div.sk-item {position: relative;z-index: 1;}#sk-container-id-2 div.sk-parallel {display: flex;align-items: stretch;justify-content: center;background-color: white;position: relative;}#sk-container-id-2 div.sk-item::before, #sk-container-id-2 div.sk-parallel-item::before {content: \"\";position: absolute;border-left: 1px solid gray;box-sizing: border-box;top: 0;bottom: 0;left: 50%;z-index: -1;}#sk-container-id-2 div.sk-parallel-item {display: flex;flex-direction: column;z-index: 1;position: relative;background-color: white;}#sk-container-id-2 div.sk-parallel-item:first-child::after {align-self: flex-end;width: 50%;}#sk-container-id-2 div.sk-parallel-item:last-child::after {align-self: flex-start;width: 50%;}#sk-container-id-2 div.sk-parallel-item:only-child::after {width: 0;}#sk-container-id-2 div.sk-dashed-wrapped {border: 1px dashed gray;margin: 0 0.4em 0.5em 0.4em;box-sizing: border-box;padding-bottom: 0.4em;background-color: white;}#sk-container-id-2 div.sk-label label {font-family: monospace;font-weight: bold;display: inline-block;line-height: 1.2em;}#sk-container-id-2 div.sk-label-container {text-align: center;}#sk-container-id-2 div.sk-container {/* jupyter's `normalize.less` sets `[hidden] { display: none; }` but bootstrap.min.css set `[hidden] { display: none !important; }` so we also need the `!important` here to be able to override the default hidden behavior on the sphinx rendered scikit-learn.org. See: https://github.com/scikit-learn/scikit-learn/issues/21755 */display: inline-block !important;position: relative;}#sk-container-id-2 div.sk-text-repr-fallback {display: none;}</style><div id=\"sk-container-id-2\" class=\"sk-top-container\"><div class=\"sk-text-repr-fallback\"><pre>RandomForestClassifier(max_depth=6, n_estimators=5)</pre><b>In a Jupyter environment, please rerun this cell to show the HTML representation or trust the notebook. <br />On GitHub, the HTML representation is unable to render, please try loading this page with nbviewer.org.</b></div><div class=\"sk-container\" hidden><div class=\"sk-item\"><div class=\"sk-estimator sk-toggleable\"><input class=\"sk-toggleable__control sk-hidden--visually\" id=\"sk-estimator-id-2\" type=\"checkbox\" checked><label for=\"sk-estimator-id-2\" class=\"sk-toggleable__label sk-toggleable__label-arrow\">RandomForestClassifier</label><div class=\"sk-toggleable__content\"><pre>RandomForestClassifier(max_depth=6, n_estimators=5)</pre></div></div></div></div></div>"
      ],
      "text/plain": [
       "RandomForestClassifier(max_depth=6, n_estimators=5)"
      ]
     },
     "execution_count": 81,
     "metadata": {},
     "output_type": "execute_result"
    }
   ],
   "source": [
    "random_model.fit(x_train_reshaped,y_train_reshaped)"
   ]
  },
  {
   "cell_type": "code",
   "execution_count": 82,
   "metadata": {},
   "outputs": [
    {
     "data": {
      "text/plain": [
       "array([1, 1, 0, 0, 1, 1, 1, 1, 1, 0, 1, 1, 1, 0, 1, 1, 1, 0, 1, 1, 1, 1,\n",
       "       1, 1, 1, 1, 1, 1, 1, 0, 0, 1, 1, 1, 0, 1, 0, 1, 1, 1, 1, 1, 1, 1,\n",
       "       1, 0, 1, 1, 0, 0, 1, 1, 1, 1, 1, 1, 1, 0, 0, 1, 1, 1, 1, 1, 0, 1,\n",
       "       1, 1, 1, 0, 1, 1, 0, 0, 0, 1, 1, 0, 1, 0, 0, 0, 0, 1, 1, 1, 0, 1,\n",
       "       1, 1, 1, 0, 1, 1, 1, 1, 1, 1, 1, 1, 1, 1, 0, 1, 1, 1, 1, 1, 1, 1,\n",
       "       0, 0, 1, 0, 0, 1, 0, 0, 1, 1, 0, 1, 0, 1, 1, 1, 0, 0, 1, 1, 1, 0,\n",
       "       1, 1, 1, 0, 0, 0, 1, 1, 0, 0, 1, 0, 0, 0, 1, 0, 0, 0, 1, 1, 1, 0,\n",
       "       1, 1, 0, 1, 0, 1, 0, 0, 1, 1, 1, 1, 1, 1, 1, 0, 0, 0, 1, 1, 1, 1,\n",
       "       0, 1, 1, 0, 1, 0, 0, 0, 0, 0, 0, 1, 0, 1, 1, 1, 0, 0, 1, 0, 0, 0,\n",
       "       0, 1, 1, 1, 1, 0, 0, 0, 1, 0, 1, 0, 0, 1, 1, 1, 0, 0, 1, 1, 1, 0,\n",
       "       1, 1, 0, 1, 1, 1, 1, 1, 1, 1, 0, 1, 1, 1, 1, 1, 1, 0, 1, 1, 1, 1,\n",
       "       1, 0, 1, 1, 1, 1, 0, 1])"
      ]
     },
     "execution_count": 82,
     "metadata": {},
     "output_type": "execute_result"
    }
   ],
   "source": [
    "rand_y_pred = random_model.predict(x_test)\n",
    "rand_y_pred"
   ]
  },
  {
   "cell_type": "code",
   "execution_count": 83,
   "metadata": {},
   "outputs": [],
   "source": [
    "from sklearn.metrics import  accuracy_score, confusion_matrix, precision_score, recall_score"
   ]
  },
  {
   "cell_type": "code",
   "execution_count": 84,
   "metadata": {},
   "outputs": [
    {
     "name": "stdout",
     "output_type": "stream",
     "text": [
      "Random Forest Accuracy: 0.612\n",
      "random confusion matrix: \n",
      "[[ 21  32]\n",
      " [ 65 132]]\n",
      "Random Forest Precision: 0.8048780487804879\n",
      "Random Forest recall: 0.6700507614213198\n"
     ]
    }
   ],
   "source": [
    "rand_accuracy = accuracy_score(y_test,rand_y_pred)\n",
    "print(\"Random Forest Accuracy:\", rand_accuracy)\n",
    "rand_confusion_matrix = confusion_matrix(y_test,rand_y_pred)\n",
    "print(\"random confusion matrix: \")\n",
    "print(rand_confusion_matrix)\n",
    "rand_precision = precision_score(y_test,rand_y_pred)\n",
    "print(\"Random Forest Precision:\", rand_precision)\n",
    "rand_recall = recall_score(y_test,rand_y_pred)\n",
    "print(\"Random Forest recall:\", rand_recall)"
   ]
  },
  {
   "cell_type": "markdown",
   "metadata": {},
   "source": [
    "# Comparision"
   ]
  },
  {
   "cell_type": "code",
   "execution_count": 87,
   "metadata": {},
   "outputs": [
    {
     "data": {
      "image/png": "[encoded data removed]",
      "text/plain": [
       "<Figure size 640x480 with 1 Axes>"
      ]
     },
     "metadata": {},
     "output_type": "display_data"
    }
   ],
   "source": [
    "values = [log_accuracy_score,knn_accuracy_score[0],svm_accuracy_score[0],tree_accuracy_score[0],rand_accuracy]\n",
    "labels = ['Logistic Regression', 'KNN', 'SVM', 'Decision Tree','Random Forest']\n",
    "plt.bar(labels, values)\n",
    "plt.xlabel('Algorithms')\n",
    "plt.ylabel('Accuracy')\n",
    "plt.title('Accuracy of Different Algorithms')\n",
    "plt.show()"
   ]
  },
  {
   "cell_type": "code",
   "execution_count": null,
   "metadata": {},
   "outputs": [],
   "source": []
  }
 ],
 "metadata": {
  "kernelspec": {
   "display_name": "Python 3",
   "language": "python",
   "name": "python3"
  },
  "language_info": {
   "codemirror_mode": {
    "name": "ipython",
    "version": 3
   },
   "file_extension": ".py",
   "mimetype": "text/x-python",
   "name": "python",
   "nbconvert_exporter": "python",
   "pygments_lexer": "ipython3",
   "version": "3.8.10"
  }
 },
 "nbformat": 4,
 "nbformat_minor": 2
}
